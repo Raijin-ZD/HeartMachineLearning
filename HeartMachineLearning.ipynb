{
  "nbformat": 4,
  "nbformat_minor": 0,
  "metadata": {
    "colab": {
      "provenance": [],
      "authorship_tag": "ABX9TyOBafooVdAqzHMSbQ0hAYFU",
      "include_colab_link": true
    },
    "kernelspec": {
      "name": "python3",
      "display_name": "Python 3"
    },
    "language_info": {
      "name": "python"
    }
  },
  "cells": [
    {
      "cell_type": "markdown",
      "metadata": {
        "id": "view-in-github",
        "colab_type": "text"
      },
      "source": [
        "<a href=\"https://colab.research.google.com/github/Raijin-ZD/HeartMachineLearning/blob/main/HeartMachineLearning.ipynb\" target=\"_parent\"><img src=\"https://colab.research.google.com/assets/colab-badge.svg\" alt=\"Open In Colab\"/></a>"
      ]
    },
    {
      "cell_type": "markdown",
      "source": [
        "**Name** : Ziad Mohamed Shafik\n",
        "\n"
      ],
      "metadata": {
        "id": "I79f0pgErl04"
      }
    },
    {
      "cell_type": "markdown",
      "source": [
        "**Summary:**\n",
        "\n",
        "In this assignment, we aim to explore the performance of two popular ensemble learning models, AdaBoost and Random Forest, along with a combination of both, on two distinct datasets: the Heart Disease Classification Dataset and the Thyroid Disease Data. Our objective is to preprocess the data, implement the ensemble models, fine-tune their hyperparameters using grid search, and evaluate their performance using various metrics such as accuracy, precision, recall, and F1-score. Additionally, we will create visualizations for comparison and draw insights from the results.\n",
        "\n",
        "**Objective:**\n",
        "\n",
        "The primary objective of this project is to utilize ensemble learning methods, specifically AdaBoost and Random Forest, to predict the target variable in each dataset. We will leverage grid search to optimize the hyperparameters of these models for improved performance. Additionally, we aim to conduct exploratory data analysis (EDA) on the datasets to gain insights into their characteristics and distributions.\n",
        "\n",
        "**Steps to be undertaken:**\n",
        "\n",
        "1. **Data Collection:** Download the Heart Disease Classification Dataset and the Thyroid Disease Data from Kaggle.\n",
        "\n",
        "2. **Exploratory Data Analysis (EDA):** Perform exploratory data analysis on both datasets to understand their structure, distributions, and relationships between variables.\n",
        "\n",
        "3. **Data Preprocessing:** Preprocess the datasets by handling missing values, encoding categorical variables, scaling numerical features, and any other necessary data cleaning procedures. We will ensure that the data is in a suitable format for training the models.\n",
        "\n",
        "4. **Model Implementation:** Implement AdaBoost and Random Forest models using Python with scikit-learn. Additionally, we will experiment with combining AdaBoost with Random Forest and evaluate its performance.\n",
        "\n",
        "5. **Hyperparameter Tuning:** Fine-tune the hyperparameters of each model using techniques such as grid search to optimize their performance on each dataset.\n",
        "\n",
        "6. **Training and Evaluation:** Train the tuned models on the respective datasets and evaluate their performance using appropriate evaluation metrics such as accuracy, precision, recall, and F1-score.\n",
        "\n",
        "7. **Comparison Table:** Create a table summarizing the accuracy of each ensemble model on each dataset for easy comparison.\n",
        "\n",
        "8. **Visualization:** Generate visualizations, including accuracy comparison bar charts, to provide a clear comparison of the ensemble models' performance on different datasets.\n",
        "\n",
        "9. **Insights and Conclusions:** Analyze the results obtained, discuss the strengths and weaknesses of each ensemble model, and draw conclusions regarding their performance on different types of datasets and hyperparameters.\n",
        "\n",
        "Let's proceed with the implementation steps outlined above in Google Colab. We will start by importing necessary libraries and loading the datasets for further analysis and preprocessing.\n"
      ],
      "metadata": {
        "id": "OznKDgder8tZ"
      }
    },
    {
      "cell_type": "code",
      "execution_count": null,
      "metadata": {
        "id": "SDlcMmki6Pfi"
      },
      "outputs": [],
      "source": [
        "import matplotlib.pyplot as plt\n",
        "import numpy as np\n",
        "import pandas as pd\n",
        "import seaborn as sns\n",
        "import datetime\n",
        "from sklearn.preprocessing import LabelEncoder\n",
        "from scipy.stats import zscore\n",
        "from scipy import stats\n",
        "from sklearn.model_selection import train_test_split, GridSearchCV\n",
        "from sklearn.ensemble import RandomForestClassifier, RandomForestRegressor, AdaBoostClassifier, AdaBoostRegressor, GradientBoostingClassifier, GradientBoostingRegressor\n",
        "from sklearn.metrics import accuracy_score, precision_score, recall_score, f1_score, mean_squared_error\n",
        "from sklearn.preprocessing import OneHotEncoder, MinMaxScaler,StandardScaler\n",
        "import matplotlib.pyplot as plt\n",
        "import seaborn as sns\n",
        "from sklearn.pipeline import Pipeline\n",
        "import matplotlib.pyplot as plt\n",
        "import pandas as pd"
      ]
    },
    {
      "cell_type": "code",
      "source": [
        "dfHeart = pd.read_csv(\"/content/Heart Attack.csv\")\n",
        "dfThyroid = pd.read_csv(\"/content/thyroidDF.csv\")\n"
      ],
      "metadata": {
        "id": "pTlMSvHG6Xo1"
      },
      "execution_count": null,
      "outputs": []
    },
    {
      "cell_type": "markdown",
      "source": [
        "# **DATA PREPROCESSING**"
      ],
      "metadata": {
        "id": "dZUTT5V38Ntd"
      }
    },
    {
      "cell_type": "code",
      "source": [
        "dfThyroid.info()\n",
        "print(len(dfThyroid)) #prints rows\n",
        "print(len(dfThyroid.columns))#prints cols\n",
        "#9172 row,31 cols"
      ],
      "metadata": {
        "colab": {
          "base_uri": "https://localhost:8080/"
        },
        "id": "EAm3OsFI7GYe",
        "outputId": "3bfd0a5a-5f9d-41ee-8a93-61453569b989"
      },
      "execution_count": null,
      "outputs": [
        {
          "output_type": "stream",
          "name": "stdout",
          "text": [
            "<class 'pandas.core.frame.DataFrame'>\n",
            "RangeIndex: 9172 entries, 0 to 9171\n",
            "Data columns (total 31 columns):\n",
            " #   Column               Non-Null Count  Dtype  \n",
            "---  ------               --------------  -----  \n",
            " 0   age                  9172 non-null   int64  \n",
            " 1   sex                  8865 non-null   object \n",
            " 2   on_thyroxine         9172 non-null   object \n",
            " 3   query_on_thyroxine   9172 non-null   object \n",
            " 4   on_antithyroid_meds  9172 non-null   object \n",
            " 5   sick                 9172 non-null   object \n",
            " 6   pregnant             9172 non-null   object \n",
            " 7   thyroid_surgery      9172 non-null   object \n",
            " 8   I131_treatment       9172 non-null   object \n",
            " 9   query_hypothyroid    9172 non-null   object \n",
            " 10  query_hyperthyroid   9172 non-null   object \n",
            " 11  lithium              9172 non-null   object \n",
            " 12  goitre               9172 non-null   object \n",
            " 13  tumor                9172 non-null   object \n",
            " 14  hypopituitary        9172 non-null   object \n",
            " 15  psych                9172 non-null   object \n",
            " 16  TSH_measured         9172 non-null   object \n",
            " 17  TSH                  8330 non-null   float64\n",
            " 18  T3_measured          9172 non-null   object \n",
            " 19  T3                   6568 non-null   float64\n",
            " 20  TT4_measured         9172 non-null   object \n",
            " 21  TT4                  8730 non-null   float64\n",
            " 22  T4U_measured         9172 non-null   object \n",
            " 23  T4U                  8363 non-null   float64\n",
            " 24  FTI_measured         9172 non-null   object \n",
            " 25  FTI                  8370 non-null   float64\n",
            " 26  TBG_measured         9172 non-null   object \n",
            " 27  TBG                  349 non-null    float64\n",
            " 28  referral_source      9172 non-null   object \n",
            " 29  target               9172 non-null   object \n",
            " 30  patient_id           9172 non-null   int64  \n",
            "dtypes: float64(6), int64(2), object(23)\n",
            "memory usage: 2.2+ MB\n",
            "9172\n",
            "31\n"
          ]
        }
      ]
    },
    {
      "cell_type": "code",
      "source": [
        "dfHeart.info()\n",
        "print(len(dfHeart)) #prints rows\n",
        "print(len(dfHeart.columns))#prints cols\n",
        "#1319 row,9 cols"
      ],
      "metadata": {
        "colab": {
          "base_uri": "https://localhost:8080/"
        },
        "id": "gk2-fgeg7AWa",
        "outputId": "dbe9b3cf-f93f-4cea-89e9-208261b00ef6"
      },
      "execution_count": null,
      "outputs": [
        {
          "output_type": "stream",
          "name": "stdout",
          "text": [
            "<class 'pandas.core.frame.DataFrame'>\n",
            "RangeIndex: 1319 entries, 0 to 1318\n",
            "Data columns (total 9 columns):\n",
            " #   Column         Non-Null Count  Dtype  \n",
            "---  ------         --------------  -----  \n",
            " 0   age            1319 non-null   int64  \n",
            " 1   gender         1319 non-null   int64  \n",
            " 2   impluse        1319 non-null   int64  \n",
            " 3   pressurehight  1319 non-null   int64  \n",
            " 4   pressurelow    1319 non-null   int64  \n",
            " 5   glucose        1319 non-null   float64\n",
            " 6   kcm            1319 non-null   float64\n",
            " 7   troponin       1319 non-null   float64\n",
            " 8   class          1319 non-null   object \n",
            "dtypes: float64(3), int64(5), object(1)\n",
            "memory usage: 92.9+ KB\n",
            "1319\n",
            "9\n"
          ]
        }
      ]
    },
    {
      "cell_type": "markdown",
      "source": [
        "dfHeart, dfThyroid\n",
        "\n",
        "**Checking for null values**\n",
        "\n"
      ],
      "metadata": {
        "id": "zMOpEOaX7a8o"
      }
    },
    {
      "cell_type": "code",
      "source": [
        "dfThyroid.isnull().sum()"
      ],
      "metadata": {
        "colab": {
          "base_uri": "https://localhost:8080/"
        },
        "id": "bD5eyLlj717B",
        "outputId": "d1df5129-5a81-4184-aea1-79ae504f824c"
      },
      "execution_count": null,
      "outputs": [
        {
          "output_type": "execute_result",
          "data": {
            "text/plain": [
              "age                       0\n",
              "sex                     307\n",
              "on_thyroxine              0\n",
              "query_on_thyroxine        0\n",
              "on_antithyroid_meds       0\n",
              "sick                      0\n",
              "pregnant                  0\n",
              "thyroid_surgery           0\n",
              "I131_treatment            0\n",
              "query_hypothyroid         0\n",
              "query_hyperthyroid        0\n",
              "lithium                   0\n",
              "goitre                    0\n",
              "tumor                     0\n",
              "hypopituitary             0\n",
              "psych                     0\n",
              "TSH_measured              0\n",
              "TSH                     842\n",
              "T3_measured               0\n",
              "T3                     2604\n",
              "TT4_measured              0\n",
              "TT4                     442\n",
              "T4U_measured              0\n",
              "T4U                     809\n",
              "FTI_measured              0\n",
              "FTI                     802\n",
              "TBG_measured              0\n",
              "TBG                    8823\n",
              "referral_source           0\n",
              "target                    0\n",
              "patient_id                0\n",
              "dtype: int64"
            ]
          },
          "metadata": {},
          "execution_count": 7
        }
      ]
    },
    {
      "cell_type": "markdown",
      "source": [
        "**dfHeart Has no null values but we will check if the data valid or not**"
      ],
      "metadata": {
        "id": "AxVJ8Jbr78zv"
      }
    },
    {
      "cell_type": "code",
      "source": [
        "dfHeart.isnull().sum()"
      ],
      "metadata": {
        "colab": {
          "base_uri": "https://localhost:8080/"
        },
        "id": "nBCl494w72PS",
        "outputId": "6f290c72-3fed-4dc3-c398-df9797336ef7"
      },
      "execution_count": null,
      "outputs": [
        {
          "output_type": "execute_result",
          "data": {
            "text/plain": [
              "age              0\n",
              "gender           0\n",
              "impluse          0\n",
              "pressurehight    0\n",
              "pressurelow      0\n",
              "glucose          0\n",
              "kcm              0\n",
              "troponin         0\n",
              "class            0\n",
              "dtype: int64"
            ]
          },
          "metadata": {},
          "execution_count": 8
        }
      ]
    },
    {
      "cell_type": "code",
      "source": [
        "(dfHeart.isna().sum() / dfHeart.shape[0]) * 100"
      ],
      "metadata": {
        "colab": {
          "base_uri": "https://localhost:8080/"
        },
        "id": "KbHxyiGa7gvL",
        "outputId": "449960c2-a06f-473c-958c-d6c711512042"
      },
      "execution_count": null,
      "outputs": [
        {
          "output_type": "execute_result",
          "data": {
            "text/plain": [
              "age              0.0\n",
              "gender           0.0\n",
              "impluse          0.0\n",
              "pressurehight    0.0\n",
              "pressurelow      0.0\n",
              "glucose          0.0\n",
              "kcm              0.0\n",
              "troponin         0.0\n",
              "class            0.0\n",
              "dtype: float64"
            ]
          },
          "metadata": {},
          "execution_count": 9
        }
      ]
    },
    {
      "cell_type": "code",
      "source": [
        "(dfThyroid.isna().sum() / dfThyroid.shape[0]) * 100"
      ],
      "metadata": {
        "colab": {
          "base_uri": "https://localhost:8080/"
        },
        "id": "JQpJWn-Z7V0M",
        "outputId": "847f6cc4-c1cb-4e43-e0ae-719e4938e8ed"
      },
      "execution_count": null,
      "outputs": [
        {
          "output_type": "execute_result",
          "data": {
            "text/plain": [
              "age                     0.000000\n",
              "sex                     3.347143\n",
              "on_thyroxine            0.000000\n",
              "query_on_thyroxine      0.000000\n",
              "on_antithyroid_meds     0.000000\n",
              "sick                    0.000000\n",
              "pregnant                0.000000\n",
              "thyroid_surgery         0.000000\n",
              "I131_treatment          0.000000\n",
              "query_hypothyroid       0.000000\n",
              "query_hyperthyroid      0.000000\n",
              "lithium                 0.000000\n",
              "goitre                  0.000000\n",
              "tumor                   0.000000\n",
              "hypopituitary           0.000000\n",
              "psych                   0.000000\n",
              "TSH_measured            0.000000\n",
              "TSH                     9.180113\n",
              "T3_measured             0.000000\n",
              "T3                     28.390754\n",
              "TT4_measured            0.000000\n",
              "TT4                     4.819014\n",
              "T4U_measured            0.000000\n",
              "T4U                     8.820323\n",
              "FTI_measured            0.000000\n",
              "FTI                     8.744003\n",
              "TBG_measured            0.000000\n",
              "TBG                    96.194941\n",
              "referral_source         0.000000\n",
              "target                  0.000000\n",
              "patient_id              0.000000\n",
              "dtype: float64"
            ]
          },
          "metadata": {},
          "execution_count": 10
        }
      ]
    },
    {
      "cell_type": "code",
      "source": [
        "dfHeart.columns"
      ],
      "metadata": {
        "colab": {
          "base_uri": "https://localhost:8080/"
        },
        "id": "cBKX_vBC7kP7",
        "outputId": "30f26f50-09c5-4a1c-cfe6-7cb7156ee4d3"
      },
      "execution_count": null,
      "outputs": [
        {
          "output_type": "execute_result",
          "data": {
            "text/plain": [
              "Index(['age', 'gender', 'impluse', 'pressurehight', 'pressurelow', 'glucose',\n",
              "       'kcm', 'troponin', 'class'],\n",
              "      dtype='object')"
            ]
          },
          "metadata": {},
          "execution_count": 11
        }
      ]
    },
    {
      "cell_type": "markdown",
      "source": [
        "**Seeing if there is invalid data in the data sets**"
      ],
      "metadata": {
        "id": "rQs7lYO88w_4"
      }
    },
    {
      "cell_type": "code",
      "source": [
        "dfHeart.age.unique()"
      ],
      "metadata": {
        "colab": {
          "base_uri": "https://localhost:8080/"
        },
        "id": "ho8RUaFw8tyL",
        "outputId": "7b8b5ca7-6071-433d-d24e-98f13faae58b"
      },
      "execution_count": null,
      "outputs": [
        {
          "output_type": "execute_result",
          "data": {
            "text/plain": [
              "array([ 64,  21,  55,  58,  32,  63,  44,  67,  54,  47,  61,  86,  45,\n",
              "        37,  60,  48,  52,  30,  50,  72,  42,  35,  68,  56,  65,  34,\n",
              "        40,  46,  38,  57,  28,  49,  29,  80,  90,  62,  53,  75,  66,\n",
              "        19,  77,  71,  43,  51,  59,  20,  36,  70,  78,  69,  73,  41,\n",
              "        82,  25,  26,  76,  33,  39,  91,  31,  74,  22,  79,  81,  27,\n",
              "        83,  24,  85,  88, 100,  23,  14,  87, 103,  84])"
            ]
          },
          "metadata": {},
          "execution_count": 12
        }
      ]
    },
    {
      "cell_type": "code",
      "source": [
        "dfHeart.gender.unique()"
      ],
      "metadata": {
        "colab": {
          "base_uri": "https://localhost:8080/"
        },
        "id": "oB4_GYCn-6QX",
        "outputId": "de88382b-87b8-45f6-cbea-0fbc9d99ef6c"
      },
      "execution_count": null,
      "outputs": [
        {
          "output_type": "execute_result",
          "data": {
            "text/plain": [
              "array([1, 0])"
            ]
          },
          "metadata": {},
          "execution_count": 13
        }
      ]
    },
    {
      "cell_type": "code",
      "source": [
        "dfHeart.impluse.unique()"
      ],
      "metadata": {
        "colab": {
          "base_uri": "https://localhost:8080/"
        },
        "id": "IEWE9F1Z-6Lt",
        "outputId": "1249078f-2c5c-4106-ce07-ef5214d7da42"
      },
      "execution_count": null,
      "outputs": [
        {
          "output_type": "execute_result",
          "data": {
            "text/plain": [
              "array([  66,   94,   64,   70,   61,   40,   60,   76,   81,   73,   72,\n",
              "         92,  135,   63,   65,  125,   62,   58,   93,   96,   95,   97,\n",
              "         91,   87,   77,   80,   82,   83,   78,   90,   59,   57,   98,\n",
              "       1111,  102,  103,  105,   74,   85,   75,   71,   68,   67,   56,\n",
              "         89,   88,   86,   79,  100,   69,   84,  110,  120,  122,  119,\n",
              "        116,  114,   55,   53,   54,  117,  112,  108,  134,  111,  101,\n",
              "        113,   51,   52,   99,  132,   50,  107,  104,   49,   46,   20,\n",
              "         36,   45])"
            ]
          },
          "metadata": {},
          "execution_count": 14
        }
      ]
    },
    {
      "cell_type": "code",
      "source": [
        "dfHeart.pressurehight.unique()"
      ],
      "metadata": {
        "colab": {
          "base_uri": "https://localhost:8080/"
        },
        "id": "t00liSco-6GK",
        "outputId": "edfd1fb7-e24b-400d-c855-2e323a4c2012"
      },
      "execution_count": null,
      "outputs": [
        {
          "output_type": "execute_result",
          "data": {
            "text/plain": [
              "array([160,  98, 120, 112, 179, 214, 154, 166, 150, 199, 122, 118, 114,\n",
              "       100, 107, 109, 151, 110, 104, 106, 152, 134, 135, 131, 137, 121,\n",
              "       145, 136, 156, 155, 105,  91, 101, 111, 115, 133, 153, 125, 130,\n",
              "       127, 140, 141, 128, 123,  94,  95, 117, 124, 119, 138, 157, 202,\n",
              "       175, 144, 129,  97, 116, 113, 148, 164, 192, 171, 108, 132,  85,\n",
              "        89,  87,  99,  96,  86,  70,  71,  78, 126, 170, 169, 149, 168,\n",
              "       191, 193, 167, 165, 146,  93, 180,  42, 220, 147, 142, 102, 103,\n",
              "       143, 139, 178,  80,  84,  83,  65, 208,  76,  90,  92, 183,  88,\n",
              "       158, 161, 176, 159, 198, 204, 200, 162, 177, 223,  67, 209])"
            ]
          },
          "metadata": {},
          "execution_count": 15
        }
      ]
    },
    {
      "cell_type": "code",
      "source": [
        "dfHeart.pressurelow.unique()"
      ],
      "metadata": {
        "colab": {
          "base_uri": "https://localhost:8080/"
        },
        "id": "YMXiGdJh-539",
        "outputId": "954dd4a1-7c90-4c7f-a2b4-6c3f7e9971f1"
      },
      "execution_count": null,
      "outputs": [
        {
          "output_type": "execute_result",
          "data": {
            "text/plain": [
              "array([ 83,  46,  77,  55,  65,  58,  68,  82,  81,  95,  90,  99,  67,\n",
              "        70,  66,  86,  78,  60,  85,  63,  57,  61,  49,  62,  76,  75,\n",
              "        71,  52,  80,  74,  73,  69,  94,  88,  64,  59,  93,  54,  56,\n",
              "        44,  72,  89,  51,  50,  79,  47,  92, 103,  97, 110,  84, 104,\n",
              "       100,  42, 128, 107,  91,  98,  38,  53,  48,  87, 106,  41,  40,\n",
              "       105, 102, 118, 109,  43,  45,  96, 154])"
            ]
          },
          "metadata": {},
          "execution_count": 16
        }
      ]
    },
    {
      "cell_type": "code",
      "source": [
        "dfHeart.glucose.unique()"
      ],
      "metadata": {
        "colab": {
          "base_uri": "https://localhost:8080/"
        },
        "id": "mRyw4qj0-5r5",
        "outputId": "30207bab-42b8-4ca5-8bec-6f38ae65138c"
      },
      "execution_count": null,
      "outputs": [
        {
          "output_type": "execute_result",
          "data": {
            "text/plain": [
              "array([160. , 296. , 270. , 300. ,  87. , 102. , 135. , 100. , 198. ,\n",
              "        92. ,  97. , 319. , 134. ,  96. , 274. ,  89. , 301. , 227. ,\n",
              "       107. , 269. , 111. , 101. ,  95. , 279. , 166. , 321. ,  98. ,\n",
              "       105. , 136. ,  82. , 117. , 120. , 208. , 125. , 103. ,  93. ,\n",
              "        99. , 228. , 238. , 133. , 113. ,  91. , 114. , 149. , 110. ,\n",
              "       251. , 191. , 334. , 109. , 201. , 167. ,  85. , 112. , 123. ,\n",
              "        86. , 177. ,  90. , 115. , 392. , 147. , 141. , 222. , 174. ,\n",
              "       162. , 219. , 189. , 193. , 181. , 387. , 121. , 294. , 116. ,\n",
              "        88. , 240. , 132. , 159. ,  81. , 266. , 142. , 244. , 130. ,\n",
              "       182. ,  94. ,  83. , 241. , 318. ,  66. , 156. , 108. , 322. ,\n",
              "       187. , 122. , 362. , 180. , 127. , 131. ,  84. , 137. , 242. ,\n",
              "       106. , 197. , 152. , 169. , 347. , 104. , 165. , 126. , 215. ,\n",
              "        61. ,  80. , 195. , 150. , 194. , 233. , 462. , 422. , 245. ,\n",
              "       168. , 188. , 129. , 200. , 146. , 140. , 382. , 217. , 303. ,\n",
              "       154. , 221. , 186. , 218. ,  68. , 175. ,  50. , 203. , 119. ,\n",
              "        77. , 431. , 202. , 118. , 184. , 246. , 157. , 155. , 230. ,\n",
              "       225. , 368. , 408. , 302. , 500. , 145. , 541. , 163. ,  76. ,\n",
              "        78. , 415. , 170. , 351. , 204. , 443. , 407. , 290. , 144. ,\n",
              "       220. , 381. , 196. , 190. , 267. , 256. , 257. , 261. , 234. ,\n",
              "       139. , 235. , 404. , 425. , 366. , 210. , 226. , 207. , 161. ,\n",
              "       211. , 258. , 342. , 276. , 216. , 124. , 143. , 249. , 185. ,\n",
              "       336. , 324. , 263. ,  60. , 128. , 346. , 151. , 232. , 271. ,\n",
              "       283. , 148. , 293. , 305. , 338. , 282. ,  79. , 354. , 277. ,\n",
              "       153. , 164. , 328. , 223. ,  74. , 239. , 231. , 229. ,  67. ,\n",
              "        62. , 262. , 246.7, 138. , 391. ,  35. , 252. ,  75. , 224. ,\n",
              "        69. , 272. , 314. , 247. , 253. , 434. ,  64. , 297. ,  65. ,\n",
              "       406. , 206. , 171. , 259. , 265. , 250. , 329. , 285. , 192. ,\n",
              "       331. ])"
            ]
          },
          "metadata": {},
          "execution_count": 17
        }
      ]
    },
    {
      "cell_type": "code",
      "source": [
        "dfHeart.kcm.unique()"
      ],
      "metadata": {
        "colab": {
          "base_uri": "https://localhost:8080/"
        },
        "id": "dyCW0svp-5W_",
        "outputId": "4834833b-1880-4aa9-c495-c2da751ab966"
      },
      "execution_count": null,
      "outputs": [
        {
          "output_type": "execute_result",
          "data": {
            "text/plain": [
              "array([  1.8  ,   6.75 ,   1.99 ,  13.87 ,   1.08 ,   1.83 ,   0.71 ,\n",
              "       300.   ,   2.35 ,   2.84 ,   2.39 ,   3.43 ,   1.42 ,   2.57 ,\n",
              "         1.49 ,   1.11 ,   0.606,   2.89 ,   1.6  ,  94.79 ,   0.665,\n",
              "        50.46 ,  38.72 ,   2.11 ,   2.93 ,   1.61 ,   0.493,   1.31 ,\n",
              "         4.58 ,   6.48 ,   0.929,   1.37 ,   6.78 ,   4.24 ,   1.3  ,\n",
              "         0.609,  15.23 ,   1.54 ,  16.95 ,   2.97 ,   4.22 ,   1.29 ,\n",
              "         4.8  ,   1.33 ,   1.19 ,   0.78 ,   2.28 ,   4.39 ,  19.47 ,\n",
              "         2.41 ,   3.18 ,  36.24 ,   2.21 ,   2.19 ,   5.33 ,   5.22 ,\n",
              "         1.63 ,   1.24 ,   5.8  ,   3.29 ,   0.937,   4.45 ,   4.02 ,\n",
              "        18.15 ,   0.865,   3.3  ,   0.718,   3.45 ,   7.65 ,   4.3  ,\n",
              "         0.994,   1.53 ,  31.97 ,   2.91 ,   3.2  ,   9.35 ,  12.02 ,\n",
              "         4.66 ,   4.18 ,   5.81 ,   0.633,   2.69 ,   1.06 ,   4.82 ,\n",
              "         2.13 ,   2.85 ,   6.91 ,   1.98 ,  19.5  ,   0.468, 165.1  ,\n",
              "         1.64 ,   1.87 ,   1.69 ,   3.27 ,   3.75 ,   1.51 ,   2.16 ,\n",
              "         5.27 ,   1.96 ,  40.99 ,  96.08 ,  51.9  ,  74.45 ,   8.84 ,\n",
              "         6.28 ,   2.2  ,  49.8  ,   3.46 ,   2.27 ,   2.15 ,   0.452,\n",
              "         2.   ,  35.55 ,   3.25 ,  21.61 ,   2.26 ,  14.21 ,   4.16 ,\n",
              "         1.5  ,   1.73 ,   1.28 ,   2.46 ,   2.38 ,   4.61 ,   1.36 ,\n",
              "         2.58 , 264.4  ,   0.687,  20.71 ,   7.02 ,   2.42 ,   4.37 ,\n",
              "         4.76 ,   3.84 ,   2.74 ,   1.65 ,   1.27 ,   1.2  ,   0.743,\n",
              "        39.53 ,   5.6  ,   3.58 ,   4.56 ,   3.26 ,   2.37 ,   3.36 ,\n",
              "        20.21 ,   4.43 ,   3.32 ,  16.08 ,   3.09 ,   6.14 ,   0.683,\n",
              "         6.17 ,   8.57 ,   1.76 ,   2.99 , 286.9  ,   0.487,   3.77 ,\n",
              "         1.67 ,   2.82 ,   0.998,  25.74 ,   0.596,  16.62 ,   1.81 ,\n",
              "         7.32 ,   2.96 ,   4.55 ,   2.94 ,   4.69 ,   2.14 ,   0.676,\n",
              "         0.879,   2.31 ,  20.46 ,  25.36 ,   2.73 ,   3.7  ,   3.24 ,\n",
              "         1.46 ,  98.48 ,   3.86 ,   2.61 ,   4.   ,   3.35 ,   4.73 ,\n",
              "         4.29 ,   2.7  ,   1.16 ,   6.27 ,   5.16 ,   3.85 ,  14.07 ,\n",
              "       101.9  ,   3.   ,   1.77 , 134.7  ,   2.78 ,   0.722,   2.9  ,\n",
              "         2.98 ,   2.49 ,   3.23 ,   2.04 ,   1.9  ,   3.14 ,  16.55 ,\n",
              "         2.33 ,  10.78 ,  13.97 ,   1.72 ,   1.68 ,   2.03 ,   1.82 ,\n",
              "         2.05 ,   2.72 ,   7.64 ,   0.813,   5.86 ,  43.83 ,   0.821,\n",
              "        15.67 ,   3.76 ,  99.56 ,   2.12 ,   5.46 ,   3.64 ,   7.19 ,\n",
              "         6.09 ,   2.64 ,   0.961,   1.22 ,   1.93 ,   3.94 ,   8.23 ,\n",
              "         5.37 ,   1.41 ,   2.5  ,   7.01 ,   2.09 ,   1.43 ,  64.86 ,\n",
              "         0.51 ,   0.958,   2.54 ,   2.25 ,   0.921,   3.11 ,  31.2  ,\n",
              "         1.45 ,   2.22 ,  23.97 ,  95.34 ,   7.97 ,   2.24 , 104.3  ,\n",
              "        13.92 ,   6.4  ,   2.6  ,   1.85 ,   3.97 ,  18.96 ,   5.23 ,\n",
              "         4.28 ,  25.97 ,  15.74 ,   3.98 ,   2.68 ,   5.43 ,   3.08 ,\n",
              "        12.3  ,   0.353,   8.87 ,   6.13 ,  10.44 ,   0.979,   5.83 ,\n",
              "        12.41 ,  34.36 ,   3.04 ,  21.04 ,   2.8  ,   5.87 ,   2.65 ,\n",
              "         7.91 ,   5.34 ,  11.32 ,   3.93 ,   2.51 ,   1.47 ,   0.942,\n",
              "         8.15 ,   6.11 ,   0.583,   8.93 ,   1.71 ,  17.61 ,   1.05 ,\n",
              "         3.28 ,   0.966,   3.52 ,  96.02 ,   0.345,   7.44 ,   0.607,\n",
              "         2.92 ,   5.39 ,   5.36 ,   1.26 ,   2.18 ,   0.755,   4.71 ,\n",
              "        18.41 ,   2.55 ,  17.95 ,  38.94 ,   6.9  ,   1.34 ,   0.745,\n",
              "        23.11 ,  12.22 ,   1.78 ,  17.3  ,   3.48 ,   4.23 ,   9.9  ,\n",
              "       185.1  ,   2.71 , 207.5  ,   1.74 ,   1.92 ,   1.03 , 165.   ,\n",
              "         4.11 , 266.3  ,   6.3  ,   1.94 ,   7.52 ,  40.6  ,   2.3  ,\n",
              "        17.04 ,   1.97 ,  14.01 ,  11.73 ,   1.95 ,   8.37 ,   3.05 ,\n",
              "         4.01 ,   1.58 , 142.6  ,   9.06 ,   5.41 ,  22.91 ,   6.25 ,\n",
              "         5.11 ,  70.89 ,   3.68 ,   7.55 ,   4.49 ,   0.726,   8.4  ,\n",
              "         1.79 ,   5.82 ,   8.38 ,   4.47 ,   7.29 ,   4.25 ,  27.06 ,\n",
              "        12.39 ,  11.24 ,   6.66 ,   7.66 ,   1.25 ,   5.73 ,   3.49 ,\n",
              "         3.42 ,   0.657,  15.83 ,   0.604,   0.515,   8.86 ,  10.33 ,\n",
              "         1.18 ,  61.1  ,   4.36 ,   0.529,   1.35 ,   4.74 ,  13.98 ,\n",
              "        36.53 ,   2.67 ,   1.21 ,   5.51 ,   5.61 ,   3.03 ,   9.96 ,\n",
              "         3.1  ,  11.48 ,  24.2  , 259.7  ,   1.59 ,   2.4  ,  56.39 ,\n",
              "        33.87 ,  12.2  ,   1.4  , 147.4  ,   1.75 ,   4.62 ,   1.44 ,\n",
              "         1.66 ,   0.649,   8.32 ,   4.06 ,   2.87 ,   2.56 ,   0.907,\n",
              "         4.1  ,   1.13 ,  23.8  ,   8.34 ,   3.21 ,  58.29 ,  13.73 ,\n",
              "         5.02 ,   4.2  ,   1.86 ,  33.48 ,   8.95 ,   6.04 ,   5.75 ,\n",
              "         1.52 ,   4.96 ,   5.77 ,  19.01 ,  52.94 ,   3.38 , 297.5  ,\n",
              "         3.73 ,  15.69 ,   7.73 , 254.4  ,   1.02 ,  10.04 ,   1.09 ,\n",
              "         2.86 ,   4.15 ,   3.83 ,   6.71 ,   2.02 ,  17.32 ,  14.22 ,\n",
              "         3.69 ,   4.72 ,   3.47 ,   1.62 , 217.5  ,   4.93 ,   2.53 ,\n",
              "        12.26 ,   3.95 ,   3.61 ,   3.17 ,   8.8  ,   3.87 ,   2.63 ,\n",
              "        11.64 ,   0.799,   8.12 ,   1.57 ,   0.925,   1.7  ,   4.68 ,\n",
              "         1.04 ,   4.03 ,  15.88 ,   5.68 ,   1.07 ,   4.6  ,   6.01 ,\n",
              "         3.4  ,   5.15 ,  37.69 ,   3.65 ,   4.95 ,  72.6  ,  32.77 ,\n",
              "         0.796,   0.704,   2.34 ,  63.13 ,   7.48 ,   0.88 ,  31.4  ,\n",
              "         1.39 ,   1.01 ,   8.08 ,   0.457,   7.26 , 177.9  ,  42.15 ,\n",
              "        79.41 ,   0.92 ,  43.06 ,   4.14 ,   3.96 , 251.4  ,   0.982,\n",
              "         9.05 ,   6.38 ,   2.79 ,  89.61 ,  17.63 ,   5.1  ,   0.674,\n",
              "       190.7  , 144.9  , 201.7  ,   2.59 ,   6.36 ,  25.1  ,   6.19 ,\n",
              "        89.22 ,   1.17 ,  10.11 ,   3.15 ,   9.82 ,  63.08 ,   9.09 ,\n",
              "         1.48 ,  44.18 ,   3.53 ,   4.26 ,   4.21 ,  19.98 ,   1.1  ,\n",
              "         5.49 ,   0.856,   3.39 ,   3.59 ,   1.12 ,   3.33 ,   3.12 ,\n",
              "         0.858,  21.51 ,  66.32 ,   0.516,   2.1  , 107.3  ,  25.63 ,\n",
              "        11.94 ,   2.36 ,  28.41 ,   5.85 ,   2.83 ,   5.66 ,   2.62 ,\n",
              "        33.09 ,   4.07 ,  81.65 ,   4.08 ,  17.22 , 208.6  ,   3.41 ,\n",
              "         3.5  ,   3.13 ,  11.07 ,   6.61 ,   4.4  ,   4.78 ,   0.785,\n",
              "        15.32 ,   3.78 ,   1.32 ,  13.7  , 111.   ,  10.18 ,   6.63 ,\n",
              "         1.88 ,   4.79 ,  60.68 ,   0.898,  81.84 , 247.8  ,   3.07 ,\n",
              "         2.47 ,   4.84 ,   3.72 ,   2.43 ,  10.75 ,   5.01 ,   0.321,\n",
              "         3.63 ,  71.77 ,   4.34 ,   1.15 ,  31.85 ,   9.63 ,  11.87 ,\n",
              "         4.67 ,   7.67 ,   2.52 ,   4.87 ,  79.62 ,   3.57 ,  32.53 ,\n",
              "         0.706,   4.19 ,   8.54 ,   7.61 ,  69.32 ,   4.41 ,   4.57 ,\n",
              "        11.45 ,   7.3  ,   6.57 ,   0.68 ,   7.03 ,  19.63 ,   5.17 ,\n",
              "         2.66 ,   8.66 ,  61.2  ,  14.97 ,   3.71 ,   4.13 ,   0.863,\n",
              "         7.47 ,   6.74 ,   4.35 ,  16.1  ,  12.89 ,  10.26 ,  18.43 ,\n",
              "         8.47 ,   8.49 ,  24.64 ,  43.51 ,  46.1  ,  88.28 ,   0.569,\n",
              "         7.06 ,  33.95 ,   5.57 ,  51.96 ,   2.17 ,   0.681,   0.826,\n",
              "         0.89 ,   9.71 ,  10.42 ,   1.   ,   6.03 ,   4.05 ,  99.62 ,\n",
              "         0.728,   2.88 ,   5.65 ,   4.17 ,   0.684,   6.67 ,  19.26 ,\n",
              "        31.06 ,  39.63 ,  78.89 ,   6.15 ,   2.07 ,   8.14 ,  42.5  ,\n",
              "        25.56 ,  31.22 ,   5.08 ,   8.69 ,   3.81 ,  27.31 ,   9.51 ,\n",
              "         8.21 ,   5.58 ,   4.64 ,   0.746,  11.4  ,  25.04 ,   6.41 ,\n",
              "         0.483,  33.7  ,   0.973,   1.89 ,   4.32 ,   6.47 ,  39.34 ,\n",
              "        27.57 ,  12.57 ,   5.78 ,  14.72 ,   7.05 , 261.   ,  50.89 ])"
            ]
          },
          "metadata": {},
          "execution_count": 18
        }
      ]
    },
    {
      "cell_type": "code",
      "source": [
        "dfHeart.troponin.unique()"
      ],
      "metadata": {
        "colab": {
          "base_uri": "https://localhost:8080/"
        },
        "id": "Zzh3AZX0-5Gz",
        "outputId": "286dbf56-6bc7-49d9-a422-1ca952999707"
      },
      "execution_count": null,
      "outputs": [
        {
          "output_type": "execute_result",
          "data": {
            "text/plain": [
              "array([1.20e-02, 1.06e+00, 3.00e-03, 1.22e-01, 4.00e-03, 2.37e+00,\n",
              "       1.10e-02, 6.00e-03, 1.30e-02, 5.37e+00, 1.70e-02, 7.76e-01,\n",
              "       2.00e-02, 5.00e-03, 4.91e-01, 6.12e-01, 1.39e+00, 7.00e-03,\n",
              "       1.00e+01, 8.30e+00, 2.10e-02, 1.15e+00, 1.46e-01, 8.00e-03,\n",
              "       2.60e-02, 5.30e-02, 9.00e-03, 6.70e-02, 4.00e-02, 1.00e-02,\n",
              "       3.10e-02, 1.50e-02, 7.60e-02, 5.20e-02, 1.01e+00, 8.90e-02,\n",
              "       2.80e-02, 7.03e-01, 8.50e-02, 2.19e-01, 8.64e-01, 1.05e-01,\n",
              "       4.80e-02, 8.88e-01, 1.60e-02, 1.07e+00, 2.20e-02, 6.05e+00,\n",
              "       7.10e-02, 1.03e-01, 2.30e-02, 3.80e-02, 5.10e-02, 2.90e-02,\n",
              "       1.40e-02, 2.23e+00, 1.55e+00, 1.84e+00, 6.40e-01, 7.67e+00,\n",
              "       6.10e-02, 9.40e-02, 2.70e-02, 5.40e-02, 2.52e-01, 1.79e+00,\n",
              "       1.95e+00, 3.92e-01, 3.27e-01, 4.60e-02, 1.24e+00, 1.78e-01,\n",
              "       1.90e-02, 1.97e+00, 6.81e-01, 1.06e-01, 1.46e+00, 6.30e-02,\n",
              "       1.23e+00, 2.86e+00, 1.64e-01, 1.86e+00, 3.20e-02, 2.40e-02,\n",
              "       2.50e-02, 1.42e-01, 2.99e+00, 1.00e-03, 1.71e-01, 2.80e-01,\n",
              "       9.70e-02, 2.00e-03, 3.39e+00, 1.33e+00, 4.26e-01, 6.80e-02,\n",
              "       3.53e-01, 8.16e-01, 5.98e-01, 7.70e-01, 3.00e-02, 3.40e-02,\n",
              "       2.00e-01, 2.92e-01, 7.00e-02, 3.24e-01, 1.18e+00, 2.45e-01,\n",
              "       1.12e-01, 5.05e+00, 2.67e-01, 1.88e-01, 3.60e-02, 1.79e-01,\n",
              "       5.18e-01, 4.25e-01, 4.31e-01, 2.73e+00, 1.45e-01, 3.31e-01,\n",
              "       4.01e-01, 2.88e-01, 1.80e-02, 4.20e-02, 2.96e+00, 9.50e-02,\n",
              "       2.62e-01, 2.42e+00, 8.10e-02, 1.17e-01, 4.12e-01, 6.93e-01,\n",
              "       3.72e-01, 3.50e-02, 3.85e-01, 1.25e+00, 5.54e-01, 1.83e+00,\n",
              "       1.35e+00, 9.29e-01, 9.80e-02, 3.90e-02, 1.96e+00, 2.63e+00,\n",
              "       4.92e-01, 6.20e-02, 9.88e-01, 1.77e-01, 9.60e-02, 3.28e+00,\n",
              "       1.87e-01, 2.03e-01, 1.62e+00, 5.31e+00, 3.23e+00, 5.80e-02,\n",
              "       4.40e-02, 2.71e-01, 4.32e+00, 1.21e+00, 4.54e-01, 1.63e+00,\n",
              "       2.48e+00, 5.48e+00, 1.38e-01, 4.52e-01, 9.11e+00, 9.80e-01,\n",
              "       2.53e+00, 6.28e-01, 1.01e-01, 7.58e-01, 2.39e+00, 2.34e+00,\n",
              "       6.97e-01, 8.53e-01, 9.92e-01, 4.57e-01, 6.27e-01, 1.96e-01,\n",
              "       1.64e+00, 1.19e-01, 6.43e-01, 1.76e+00, 3.70e-02, 1.28e+00,\n",
              "       6.53e-01, 2.47e+00, 2.35e+00, 4.30e-02, 6.62e-01, 1.92e-01,\n",
              "       1.00e-01, 2.87e+00, 1.54e-01, 2.81e+00, 1.91e-01, 8.66e-01,\n",
              "       1.32e+00, 1.65e-01, 1.30e+00, 1.36e+00, 2.09e-01, 3.85e+00,\n",
              "       8.47e-01, 5.23e-01, 1.48e+00, 9.90e-02, 1.47e+00, 4.10e-02,\n",
              "       1.50e+00, 1.29e+00, 9.59e-01, 1.30e-01, 4.90e-02, 1.36e-01,\n",
              "       2.18e-01, 9.37e-01, 3.21e+00, 1.31e+00, 8.17e-01, 2.32e+00,\n",
              "       1.17e+00, 7.50e-02, 1.43e+00, 8.20e-02, 3.14e-01, 3.83e+00,\n",
              "       1.44e+00, 5.00e-02, 2.57e+00, 8.51e-01, 2.12e+00, 1.60e+00,\n",
              "       2.98e-01, 9.10e-01, 1.14e-01, 4.07e-01, 9.99e-01, 8.70e-02,\n",
              "       4.85e-01, 6.90e-02, 1.85e+00, 2.06e+00, 7.01e-01, 7.06e-01,\n",
              "       4.06e-01, 7.70e-02, 1.58e+00, 5.87e+00, 1.09e-01, 6.10e-01,\n",
              "       8.63e-01, 7.22e-01, 3.25e-01, 1.38e+00, 1.40e+00, 6.49e-01,\n",
              "       3.57e-01, 2.43e+00, 3.54e-01, 6.50e-02, 2.08e-01, 1.29e-01,\n",
              "       1.41e-01, 4.02e-01, 9.12e-01, 1.93e-01, 4.50e-02, 1.10e+00,\n",
              "       2.20e+00, 1.04e-01, 1.45e+00, 4.84e-01, 7.40e-01, 5.40e-01,\n",
              "       8.30e-01, 8.40e-01, 1.75e+00, 8.80e-01, 9.40e-01, 1.16e-01,\n",
              "       2.20e-01, 2.80e+00, 7.60e-01, 4.05e-01, 2.30e-01, 2.24e-01,\n",
              "       6.01e+00, 2.99e-01, 6.09e-01, 7.90e-01, 7.10e-01, 6.02e-01,\n",
              "       1.52e-01, 8.10e-01, 1.03e+01, 8.80e-02, 5.90e-02, 6.00e-02,\n",
              "       5.53e-01, 7.40e-02, 5.49e-01, 7.95e-01, 1.51e+00, 1.47e-01,\n",
              "       2.29e+00, 2.50e+00, 8.30e-02, 8.60e-02, 3.97e-01, 9.98e-01,\n",
              "       1.26e+00, 7.80e-02, 5.07e-01, 3.48e-01, 5.40e+00, 2.16e+00,\n",
              "       3.77e+00, 5.11e+00, 9.30e-01, 8.00e-02, 7.00e-01, 1.28e-01,\n",
              "       1.81e+00, 1.94e+00, 5.70e-02, 6.35e-01, 9.16e-01, 6.60e-02,\n",
              "       5.50e-02, 2.79e-01, 3.34e+00, 9.23e-01, 9.20e-02, 4.34e-01,\n",
              "       2.95e-01, 4.61e-01, 7.20e-02, 1.97e-01, 1.10e-01, 1.53e+00,\n",
              "       1.04e+00, 5.44e-01, 2.55e-01, 1.37e+00, 4.50e-01, 2.63e-01,\n",
              "       1.72e-01, 4.25e+00, 3.59e-01, 1.77e+00])"
            ]
          },
          "metadata": {},
          "execution_count": 19
        }
      ]
    },
    {
      "cell_type": "code",
      "source": [
        "dfThyroid.columns"
      ],
      "metadata": {
        "colab": {
          "base_uri": "https://localhost:8080/"
        },
        "id": "FOPI61kwAr1R",
        "outputId": "263b9f30-c2f3-41fd-e064-ce64c32ec53f"
      },
      "execution_count": null,
      "outputs": [
        {
          "output_type": "execute_result",
          "data": {
            "text/plain": [
              "Index(['age', 'sex', 'on_thyroxine', 'query_on_thyroxine',\n",
              "       'on_antithyroid_meds', 'sick', 'pregnant', 'thyroid_surgery',\n",
              "       'I131_treatment', 'query_hypothyroid', 'query_hyperthyroid', 'lithium',\n",
              "       'goitre', 'tumor', 'hypopituitary', 'psych', 'TSH_measured', 'TSH',\n",
              "       'T3_measured', 'T3', 'TT4_measured', 'TT4', 'T4U_measured', 'T4U',\n",
              "       'FTI_measured', 'FTI', 'TBG_measured', 'TBG', 'referral_source',\n",
              "       'target', 'patient_id'],\n",
              "      dtype='object')"
            ]
          },
          "metadata": {},
          "execution_count": 20
        }
      ]
    },
    {
      "cell_type": "markdown",
      "source": [
        "As the columns for dfThyroid is 31 columns i checked them by myself but i removed them from code as they are all the same i left the unique ones that are not (True , False)"
      ],
      "metadata": {
        "id": "5ALpDs3dCI_D"
      }
    },
    {
      "cell_type": "code",
      "source": [
        "#Outliers exist will handle later\n",
        "dfThyroid.age.unique()"
      ],
      "metadata": {
        "colab": {
          "base_uri": "https://localhost:8080/"
        },
        "id": "E-oTZP8Z_A4a",
        "outputId": "23dccc38-1148-4007-c12d-663ac168d263"
      },
      "execution_count": null,
      "outputs": [
        {
          "output_type": "execute_result",
          "data": {
            "text/plain": [
              "array([   29,    41,    36,    32,    60,    77,    28,    54,    42,\n",
              "          51,    37,    16,    43,    63,    40,    75,    56,    85,\n",
              "          71,    67,    55,    61,    46,    44,    82,    64,    70,\n",
              "          33,    59,    53,    52,    49,    35,    48,    27,    69,\n",
              "          76,    73,    68,    66,    30,    88,    38,    58,    21,\n",
              "          45,    83,    62,    25,    86,    72,    14,    15,    39,\n",
              "          26,    20,    80,    90,    23,    18,    13,    78,    24,\n",
              "          81,    92,    57,    74,     9,    47,    17,    11,    50,\n",
              "          34,     8,    79,    31,    65,    84,    12,    10,    19,\n",
              "          22,     1,     2,    97,     6,    89,    87,   455,    93,\n",
              "           7,    91,     5,    94,     4, 65511,    95, 65512,     3,\n",
              "       65526])"
            ]
          },
          "metadata": {},
          "execution_count": 21
        }
      ]
    },
    {
      "cell_type": "code",
      "source": [
        "#valid will handle null later\n",
        "dfThyroid.sex.unique()"
      ],
      "metadata": {
        "colab": {
          "base_uri": "https://localhost:8080/"
        },
        "id": "aON1Yss9_amX",
        "outputId": "33d329e3-ad44-4e4f-cdb7-b27df646165c"
      },
      "execution_count": null,
      "outputs": [
        {
          "output_type": "execute_result",
          "data": {
            "text/plain": [
              "array(['F', 'M', nan], dtype=object)"
            ]
          },
          "metadata": {},
          "execution_count": 22
        }
      ]
    },
    {
      "cell_type": "code",
      "source": [
        "dfThyroid.target.unique()"
      ],
      "metadata": {
        "colab": {
          "base_uri": "https://localhost:8080/"
        },
        "id": "Z_mqeVFFBkTT",
        "outputId": "a84ea200-89a9-4d47-e3b0-c9d9d10c6485"
      },
      "execution_count": null,
      "outputs": [
        {
          "output_type": "execute_result",
          "data": {
            "text/plain": [
              "array(['-', 'S', 'F', 'AK', 'R', 'I', 'M', 'N', 'G', 'K', 'A', 'KJ', 'L',\n",
              "       'MK', 'Q', 'J', 'C|I', 'O', 'LJ', 'H|K', 'D', 'GK', 'MI', 'P',\n",
              "       'FK', 'B', 'GI', 'C', 'GKJ', 'OI', 'D|R', 'E'], dtype=object)"
            ]
          },
          "metadata": {},
          "execution_count": 23
        }
      ]
    },
    {
      "cell_type": "code",
      "source": [
        "dfThyroid.referral_source.unique()"
      ],
      "metadata": {
        "colab": {
          "base_uri": "https://localhost:8080/"
        },
        "id": "0NrUYVRCBkOL",
        "outputId": "e988924f-561b-4b19-914a-504c2e62b6b0"
      },
      "execution_count": null,
      "outputs": [
        {
          "output_type": "execute_result",
          "data": {
            "text/plain": [
              "array(['other', 'SVI', 'SVHC', 'STMW', 'SVHD', 'WEST'], dtype=object)"
            ]
          },
          "metadata": {},
          "execution_count": 24
        }
      ]
    },
    {
      "cell_type": "code",
      "source": [
        "dfThyroid.patient_id.unique()"
      ],
      "metadata": {
        "colab": {
          "base_uri": "https://localhost:8080/"
        },
        "id": "1lb4jlfNBkIn",
        "outputId": "185ab523-f603-4018-a30e-1d7aa430cfc4"
      },
      "execution_count": null,
      "outputs": [
        {
          "output_type": "execute_result",
          "data": {
            "text/plain": [
              "array([840801013, 840801014, 840801042, ..., 870119025, 870119027,\n",
              "       870119035])"
            ]
          },
          "metadata": {},
          "execution_count": 25
        }
      ]
    },
    {
      "cell_type": "markdown",
      "source": [
        "checking dublicates"
      ],
      "metadata": {
        "id": "wwLq37jAECEy"
      }
    },
    {
      "cell_type": "code",
      "source": [
        "dfHeart.duplicated().sum()\n"
      ],
      "metadata": {
        "colab": {
          "base_uri": "https://localhost:8080/"
        },
        "id": "shRAAIu1D_Og",
        "outputId": "04683872-6413-41e9-b09d-4f9c10111539"
      },
      "execution_count": null,
      "outputs": [
        {
          "output_type": "execute_result",
          "data": {
            "text/plain": [
              "0"
            ]
          },
          "metadata": {},
          "execution_count": 26
        }
      ]
    },
    {
      "cell_type": "code",
      "source": [
        "dfThyroid.duplicated().sum()\n"
      ],
      "metadata": {
        "colab": {
          "base_uri": "https://localhost:8080/"
        },
        "id": "HG-hOVO3D96g",
        "outputId": "cc72884f-096a-4625-ad5e-770189233c91"
      },
      "execution_count": null,
      "outputs": [
        {
          "output_type": "execute_result",
          "data": {
            "text/plain": [
              "0"
            ]
          },
          "metadata": {},
          "execution_count": 27
        }
      ]
    },
    {
      "cell_type": "code",
      "source": [
        "dfThyroid=dfThyroid.drop_duplicates()\n"
      ],
      "metadata": {
        "id": "B1yqy3AWERda"
      },
      "execution_count": null,
      "outputs": []
    },
    {
      "cell_type": "markdown",
      "source": [
        "*Feature Cleaning*"
      ],
      "metadata": {
        "id": "NspB5PnHCmKJ"
      }
    },
    {
      "cell_type": "code",
      "source": [
        "dfThyroid.drop(['TSH_measured','T3_measured','TT4_measured','T4U_measured','FTI_measured','TBG_measured'\n",
        ",'referral_source','patient_id'],axis=1 ,inplace=True)"
      ],
      "metadata": {
        "id": "3kE8l4VlCctA"
      },
      "execution_count": null,
      "outputs": []
    },
    {
      "cell_type": "markdown",
      "source": [
        "**Handling Outliers For the Heart Attack dataframe**"
      ],
      "metadata": {
        "id": "vkQTjbr_GBz5"
      }
    },
    {
      "cell_type": "code",
      "source": [
        "sns.boxplot(dfHeart)"
      ],
      "metadata": {
        "colab": {
          "base_uri": "https://localhost:8080/",
          "height": 447
        },
        "id": "ZkqPnwazfLr4",
        "outputId": "882f9bb9-f715-41c1-81e6-ef4dc7c8b62e"
      },
      "execution_count": null,
      "outputs": [
        {
          "output_type": "execute_result",
          "data": {
            "text/plain": [
              "<Axes: >"
            ]
          },
          "metadata": {},
          "execution_count": 30
        },
        {
          "output_type": "display_data",
          "data": {
            "text/plain": [
              "<Figure size 640x480 with 1 Axes>"
            ],
            "image/png": "[encoded data removed]"
          },
          "metadata": {}
        }
      ]
    },
    {
      "cell_type": "code",
      "source": [
        "Q1 = dfHeart[\"impluse\"].quantile(0.25)\n",
        "Q3 = dfHeart[\"impluse\"].quantile(0.75)\n",
        "IQR = Q3 - Q1\n",
        "\n",
        "outliers = (dfHeart[\"impluse\"] < Q1 - 1.5 * IQR) | (dfHeart[\"impluse\"] > Q3 + 1.5 * IQR)\n",
        "dfHeart = dfHeart[~outliers]\n",
        "sns.boxplot(dfHeart)"
      ],
      "metadata": {
        "colab": {
          "base_uri": "https://localhost:8080/",
          "height": 447
        },
        "id": "8HHAUAh_hSmF",
        "outputId": "4182c453-29fa-40b9-edb9-286d354e93a1"
      },
      "execution_count": null,
      "outputs": [
        {
          "output_type": "execute_result",
          "data": {
            "text/plain": [
              "<Axes: >"
            ]
          },
          "metadata": {},
          "execution_count": 31
        },
        {
          "output_type": "display_data",
          "data": {
            "text/plain": [
              "<Figure size 640x480 with 1 Axes>"
            ],
            "image/png": "[encoded data removed]"
          },
          "metadata": {}
        }
      ]
    },
    {
      "cell_type": "code",
      "source": [
        "sns.boxplot(dfHeart)"
      ],
      "metadata": {
        "colab": {
          "base_uri": "https://localhost:8080/",
          "height": 447
        },
        "id": "mkW3Nfo8vzmx",
        "outputId": "74bb909a-4524-4653-bd5e-260b7e466588"
      },
      "execution_count": null,
      "outputs": [
        {
          "output_type": "execute_result",
          "data": {
            "text/plain": [
              "<Axes: >"
            ]
          },
          "metadata": {},
          "execution_count": 32
        },
        {
          "output_type": "display_data",
          "data": {
            "text/plain": [
              "<Figure size 640x480 with 1 Axes>"
            ],
            "image/png": "[encoded data removed]"
          },
          "metadata": {}
        }
      ]
    },
    {
      "cell_type": "code",
      "source": [
        "sns.boxplot(dfHeart['kcm'])"
      ],
      "metadata": {
        "colab": {
          "base_uri": "https://localhost:8080/",
          "height": 428
        },
        "id": "5_tgAuIfyFm1",
        "outputId": "a6dc3161-29bf-4189-dfcd-5f274975a0f0"
      },
      "execution_count": null,
      "outputs": [
        {
          "output_type": "execute_result",
          "data": {
            "text/plain": [
              "<Axes: ylabel='kcm'>"
            ]
          },
          "metadata": {},
          "execution_count": 33
        },
        {
          "output_type": "display_data",
          "data": {
            "text/plain": [
              "<Figure size 640x480 with 1 Axes>"
            ],
            "image/png": "[encoded data removed]"
          },
          "metadata": {}
        }
      ]
    },
    {
      "cell_type": "code",
      "source": [
        "Q1 = dfHeart[\"kcm\"].quantile(0.25)\n",
        "Q3 = dfHeart[\"kcm\"].quantile(0.75)\n",
        "IQR = Q3 - Q1\n",
        "\n",
        "outliers = (dfHeart[\"kcm\"] < Q1 - 1.5 * IQR) | (dfHeart[\"kcm\"] > Q3 + 1.5 * IQR)\n",
        "dfHeart = dfHeart[~outliers]\n"
      ],
      "metadata": {
        "id": "6mwJ84JZx92w"
      },
      "execution_count": null,
      "outputs": []
    },
    {
      "cell_type": "code",
      "source": [
        "sns.boxplot(dfHeart['kcm'])"
      ],
      "metadata": {
        "colab": {
          "base_uri": "https://localhost:8080/",
          "height": 428
        },
        "id": "9fIGXauOycpM",
        "outputId": "140247df-6d41-4ebf-b1c2-bce4107e3e7b"
      },
      "execution_count": null,
      "outputs": [
        {
          "output_type": "execute_result",
          "data": {
            "text/plain": [
              "<Axes: ylabel='kcm'>"
            ]
          },
          "metadata": {},
          "execution_count": 35
        },
        {
          "output_type": "display_data",
          "data": {
            "text/plain": [
              "<Figure size 640x480 with 1 Axes>"
            ],
            "image/png": "[encoded data removed]"
          },
          "metadata": {}
        }
      ]
    },
    {
      "cell_type": "code",
      "source": [
        "sns.boxplot(dfHeart['troponin'])"
      ],
      "metadata": {
        "colab": {
          "base_uri": "https://localhost:8080/",
          "height": 428
        },
        "id": "ryosf92Lyir2",
        "outputId": "f744a096-030b-499d-d02d-2a2e9e3beaf0"
      },
      "execution_count": null,
      "outputs": [
        {
          "output_type": "execute_result",
          "data": {
            "text/plain": [
              "<Axes: ylabel='troponin'>"
            ]
          },
          "metadata": {},
          "execution_count": 36
        },
        {
          "output_type": "display_data",
          "data": {
            "text/plain": [
              "<Figure size 640x480 with 1 Axes>"
            ],
            "image/png": "[encoded data removed]"
          },
          "metadata": {}
        }
      ]
    },
    {
      "cell_type": "code",
      "source": [
        "Q1 = dfHeart[\"troponin\"].quantile(0.25)\n",
        "Q3 = dfHeart[\"troponin\"].quantile(0.75)\n",
        "IQR = Q3 - Q1\n",
        "\n",
        "outliers = (dfHeart[\"troponin\"] < Q1 - 1.5 * IQR) | (dfHeart[\"troponin\"] > Q3 + 1.5 * IQR)\n",
        "dfHeart = dfHeart[~outliers]\n"
      ],
      "metadata": {
        "id": "Bev49SsUyfvm"
      },
      "execution_count": null,
      "outputs": []
    },
    {
      "cell_type": "code",
      "source": [
        "sns.boxplot(dfHeart['troponin'])"
      ],
      "metadata": {
        "colab": {
          "base_uri": "https://localhost:8080/",
          "height": 428
        },
        "id": "MsPpLB0nyq7a",
        "outputId": "ba32473a-7476-4a71-a06f-85b1be7f07a2"
      },
      "execution_count": null,
      "outputs": [
        {
          "output_type": "execute_result",
          "data": {
            "text/plain": [
              "<Axes: ylabel='troponin'>"
            ]
          },
          "metadata": {},
          "execution_count": 38
        },
        {
          "output_type": "display_data",
          "data": {
            "text/plain": [
              "<Figure size 640x480 with 1 Axes>"
            ],
            "image/png": "[encoded data removed]"
          },
          "metadata": {}
        }
      ]
    },
    {
      "cell_type": "markdown",
      "source": [
        "Using Domain knowledge the number of these columns can not be higher or lower than this as numbers below/higher than the below is an outlier"
      ],
      "metadata": {
        "id": "llQJ47wxy8Ek"
      }
    },
    {
      "cell_type": "code",
      "source": [
        "dfHeart = dfHeart[dfHeart['age'] < 100]\n",
        "dfHeart = dfHeart[(dfHeart['impluse'] >= 45) & (dfHeart['impluse'] <= 135)]\n",
        "dfHeart = dfHeart[(dfHeart['pressurehight'] >= 100) & (dfHeart['pressurehight'] <= 200)]\n",
        "dfHeart = dfHeart[(dfHeart['pressurelow'] >= 55) & (dfHeart['pressurelow'] <= 90)]\n"
      ],
      "metadata": {
        "id": "a25ka3n3GH02"
      },
      "execution_count": null,
      "outputs": []
    },
    {
      "cell_type": "code",
      "source": [
        "sns.boxplot(dfHeart)"
      ],
      "metadata": {
        "colab": {
          "base_uri": "https://localhost:8080/",
          "height": 447
        },
        "id": "YpdN-iIHyuoE",
        "outputId": "16f391d0-982b-4f36-d41d-e1a30100da24"
      },
      "execution_count": null,
      "outputs": [
        {
          "output_type": "execute_result",
          "data": {
            "text/plain": [
              "<Axes: >"
            ]
          },
          "metadata": {},
          "execution_count": 40
        },
        {
          "output_type": "display_data",
          "data": {
            "text/plain": [
              "<Figure size 640x480 with 1 Axes>"
            ],
            "image/png": "[encoded data removed]"
          },
          "metadata": {}
        }
      ]
    },
    {
      "cell_type": "markdown",
      "source": [
        "**Handeling Outliers For the Thyroid DataFrame**"
      ],
      "metadata": {
        "id": "OcB3gZITzEqv"
      }
    },
    {
      "cell_type": "code",
      "source": [
        "dfThyroid.columns"
      ],
      "metadata": {
        "colab": {
          "base_uri": "https://localhost:8080/"
        },
        "id": "Uw5Zq4wWz8eL",
        "outputId": "e6fe80c3-8b6a-4779-f552-663c0e915c22"
      },
      "execution_count": null,
      "outputs": [
        {
          "output_type": "execute_result",
          "data": {
            "text/plain": [
              "Index(['age', 'sex', 'on_thyroxine', 'query_on_thyroxine',\n",
              "       'on_antithyroid_meds', 'sick', 'pregnant', 'thyroid_surgery',\n",
              "       'I131_treatment', 'query_hypothyroid', 'query_hyperthyroid', 'lithium',\n",
              "       'goitre', 'tumor', 'hypopituitary', 'psych', 'TSH', 'T3', 'TT4', 'T4U',\n",
              "       'FTI', 'TBG', 'target'],\n",
              "      dtype='object')"
            ]
          },
          "metadata": {},
          "execution_count": 41
        }
      ]
    },
    {
      "cell_type": "code",
      "source": [
        "sns.boxplot(dfThyroid)"
      ],
      "metadata": {
        "colab": {
          "base_uri": "https://localhost:8080/",
          "height": 447
        },
        "id": "Yy5QRC7w0Mhs",
        "outputId": "523e95f2-bda2-49ec-c995-5f3997c75700"
      },
      "execution_count": null,
      "outputs": [
        {
          "output_type": "execute_result",
          "data": {
            "text/plain": [
              "<Axes: >"
            ]
          },
          "metadata": {},
          "execution_count": 42
        },
        {
          "output_type": "display_data",
          "data": {
            "text/plain": [
              "<Figure size 640x480 with 1 Axes>"
            ],
            "image/png": "[encoded data removed]"
          },
          "metadata": {}
        }
      ]
    },
    {
      "cell_type": "code",
      "source": [
        "sns.boxplot(dfThyroid['TSH'])"
      ],
      "metadata": {
        "colab": {
          "base_uri": "https://localhost:8080/",
          "height": 428
        },
        "id": "4m7XuSwDzQAU",
        "outputId": "d896212c-25ea-4bd3-b0f0-2c4e78b405f7"
      },
      "execution_count": null,
      "outputs": [
        {
          "output_type": "execute_result",
          "data": {
            "text/plain": [
              "<Axes: ylabel='TSH'>"
            ]
          },
          "metadata": {},
          "execution_count": 43
        },
        {
          "output_type": "display_data",
          "data": {
            "text/plain": [
              "<Figure size 640x480 with 1 Axes>"
            ],
            "image/png": "[encoded data removed]"
          },
          "metadata": {}
        }
      ]
    },
    {
      "cell_type": "code",
      "source": [
        "Q1 = dfThyroid[\"TSH\"].quantile(0.25)\n",
        "Q3 = dfThyroid[\"TSH\"].quantile(0.75)\n",
        "IQR = Q3 - Q1\n",
        "\n",
        "outliers = (dfThyroid[\"TSH\"] < Q1 - 1.5 * IQR) | (dfThyroid[\"TSH\"] > Q3 + 1.5 * IQR)\n",
        "dfThyroid = dfThyroid[~outliers]\n"
      ],
      "metadata": {
        "id": "-Q0tN290z2j8"
      },
      "execution_count": null,
      "outputs": []
    },
    {
      "cell_type": "code",
      "source": [
        "sns.boxplot(dfThyroid['TSH'])"
      ],
      "metadata": {
        "colab": {
          "base_uri": "https://localhost:8080/",
          "height": 428
        },
        "id": "-Hjd2IMN0Eg6",
        "outputId": "1559bcd8-7ab5-40d3-d1d8-b1d8e343b75e"
      },
      "execution_count": null,
      "outputs": [
        {
          "output_type": "execute_result",
          "data": {
            "text/plain": [
              "<Axes: ylabel='TSH'>"
            ]
          },
          "metadata": {},
          "execution_count": 45
        },
        {
          "output_type": "display_data",
          "data": {
            "text/plain": [
              "<Figure size 640x480 with 1 Axes>"
            ],
            "image/png": "[encoded data removed]"
          },
          "metadata": {}
        }
      ]
    },
    {
      "cell_type": "code",
      "source": [
        "sns.boxplot(dfThyroid['T3'])"
      ],
      "metadata": {
        "colab": {
          "base_uri": "https://localhost:8080/",
          "height": 428
        },
        "id": "hl29BcLS0G_G",
        "outputId": "8f592ba5-be67-4b72-b143-f3296ea3a73d"
      },
      "execution_count": null,
      "outputs": [
        {
          "output_type": "execute_result",
          "data": {
            "text/plain": [
              "<Axes: ylabel='T3'>"
            ]
          },
          "metadata": {},
          "execution_count": 46
        },
        {
          "output_type": "display_data",
          "data": {
            "text/plain": [
              "<Figure size 640x480 with 1 Axes>"
            ],
            "image/png": "[encoded data removed]"
          },
          "metadata": {}
        }
      ]
    },
    {
      "cell_type": "code",
      "source": [
        "Q1 = dfThyroid[\"T3\"].quantile(0.25)\n",
        "Q3 = dfThyroid[\"T3\"].quantile(0.75)\n",
        "IQR = Q3 - Q1\n",
        "\n",
        "outliers = (dfThyroid[\"T3\"] < Q1 - 1.5 * IQR) | (dfThyroid[\"T3\"] > Q3 + 1.5 * IQR)\n",
        "dfThyroid = dfThyroid[~outliers]\n"
      ],
      "metadata": {
        "id": "HkxMuUKI0Vlj"
      },
      "execution_count": null,
      "outputs": []
    },
    {
      "cell_type": "code",
      "source": [
        "sns.boxplot(dfThyroid['T3'])"
      ],
      "metadata": {
        "colab": {
          "base_uri": "https://localhost:8080/",
          "height": 428
        },
        "id": "AczIChYM0bW0",
        "outputId": "d503e7e3-4984-485a-d8ad-4a614a6fc2db"
      },
      "execution_count": null,
      "outputs": [
        {
          "output_type": "execute_result",
          "data": {
            "text/plain": [
              "<Axes: ylabel='T3'>"
            ]
          },
          "metadata": {},
          "execution_count": 48
        },
        {
          "output_type": "display_data",
          "data": {
            "text/plain": [
              "<Figure size 640x480 with 1 Axes>"
            ],
            "image/png": "[encoded data removed]"
          },
          "metadata": {}
        }
      ]
    },
    {
      "cell_type": "code",
      "source": [
        "sns.boxplot(dfThyroid['TT4'])"
      ],
      "metadata": {
        "colab": {
          "base_uri": "https://localhost:8080/",
          "height": 428
        },
        "id": "9MMQ53kG0exg",
        "outputId": "945048cc-6a5f-4867-daaa-784b4854481a"
      },
      "execution_count": null,
      "outputs": [
        {
          "output_type": "execute_result",
          "data": {
            "text/plain": [
              "<Axes: ylabel='TT4'>"
            ]
          },
          "metadata": {},
          "execution_count": 49
        },
        {
          "output_type": "display_data",
          "data": {
            "text/plain": [
              "<Figure size 640x480 with 1 Axes>"
            ],
            "image/png": "[encoded data removed]"
          },
          "metadata": {}
        }
      ]
    },
    {
      "cell_type": "code",
      "source": [
        "Q1 = dfThyroid[\"TT4\"].quantile(0.25)\n",
        "Q3 = dfThyroid[\"TT4\"].quantile(0.75)\n",
        "IQR = Q3 - Q1\n",
        "\n",
        "outliers = (dfThyroid[\"TT4\"] < Q1 - 1.5 * IQR) | (dfThyroid[\"TT4\"] > Q3 + 1.5 * IQR)\n",
        "dfThyroid = dfThyroid[~outliers]\n"
      ],
      "metadata": {
        "id": "nkWF7hvM0iC5"
      },
      "execution_count": null,
      "outputs": []
    },
    {
      "cell_type": "code",
      "source": [
        "sns.boxplot(dfThyroid['TT4'])"
      ],
      "metadata": {
        "colab": {
          "base_uri": "https://localhost:8080/",
          "height": 428
        },
        "id": "C2z3JzeL0npV",
        "outputId": "2ff74ec7-50fc-4bd7-b913-f86de75838dd"
      },
      "execution_count": null,
      "outputs": [
        {
          "output_type": "execute_result",
          "data": {
            "text/plain": [
              "<Axes: ylabel='TT4'>"
            ]
          },
          "metadata": {},
          "execution_count": 51
        },
        {
          "output_type": "display_data",
          "data": {
            "text/plain": [
              "<Figure size 640x480 with 1 Axes>"
            ],
            "image/png": "[encoded data removed]"
          },
          "metadata": {}
        }
      ]
    },
    {
      "cell_type": "code",
      "source": [
        "sns.boxplot(dfThyroid['T4U'])"
      ],
      "metadata": {
        "colab": {
          "base_uri": "https://localhost:8080/",
          "height": 428
        },
        "id": "EQcEqppF0qlX",
        "outputId": "6930b5d0-ef5f-4c7b-b566-94764bd73fbd"
      },
      "execution_count": null,
      "outputs": [
        {
          "output_type": "execute_result",
          "data": {
            "text/plain": [
              "<Axes: ylabel='T4U'>"
            ]
          },
          "metadata": {},
          "execution_count": 52
        },
        {
          "output_type": "display_data",
          "data": {
            "text/plain": [
              "<Figure size 640x480 with 1 Axes>"
            ],
            "image/png": "[encoded data removed]"
          },
          "metadata": {}
        }
      ]
    },
    {
      "cell_type": "code",
      "source": [
        "Q1 = dfThyroid[\"T4U\"].quantile(0.25)\n",
        "Q3 = dfThyroid[\"T4U\"].quantile(0.75)\n",
        "IQR = Q3 - Q1\n",
        "\n",
        "outliers = (dfThyroid[\"T4U\"] < Q1 - 1.5 * IQR) | (dfThyroid[\"T4U\"] > Q3 + 1.5 * IQR)\n",
        "dfThyroid = dfThyroid[~outliers]\n"
      ],
      "metadata": {
        "id": "yr-idXV403-W"
      },
      "execution_count": null,
      "outputs": []
    },
    {
      "cell_type": "code",
      "source": [
        "sns.boxplot(dfThyroid['T4U'])"
      ],
      "metadata": {
        "colab": {
          "base_uri": "https://localhost:8080/",
          "height": 428
        },
        "id": "EsY-jNYX09qu",
        "outputId": "d00bb4c0-2aa6-45f0-dfc5-577b74f78a1c"
      },
      "execution_count": null,
      "outputs": [
        {
          "output_type": "execute_result",
          "data": {
            "text/plain": [
              "<Axes: ylabel='T4U'>"
            ]
          },
          "metadata": {},
          "execution_count": 54
        },
        {
          "output_type": "display_data",
          "data": {
            "text/plain": [
              "<Figure size 640x480 with 1 Axes>"
            ],
            "image/png": "[encoded data removed]"
          },
          "metadata": {}
        }
      ]
    },
    {
      "cell_type": "code",
      "source": [
        "sns.boxplot(dfThyroid['FTI'])"
      ],
      "metadata": {
        "colab": {
          "base_uri": "https://localhost:8080/",
          "height": 428
        },
        "id": "-ZnHFU8y1Ftb",
        "outputId": "ad11a78b-f4d9-4e4f-d3d5-d4db03ab7d39"
      },
      "execution_count": null,
      "outputs": [
        {
          "output_type": "execute_result",
          "data": {
            "text/plain": [
              "<Axes: ylabel='FTI'>"
            ]
          },
          "metadata": {},
          "execution_count": 55
        },
        {
          "output_type": "display_data",
          "data": {
            "text/plain": [
              "<Figure size 640x480 with 1 Axes>"
            ],
            "image/png": "[encoded data removed]"
          },
          "metadata": {}
        }
      ]
    },
    {
      "cell_type": "code",
      "source": [
        "Q1 = dfThyroid[\"FTI\"].quantile(0.25)\n",
        "Q3 = dfThyroid[\"FTI\"].quantile(0.75)\n",
        "IQR = Q3 - Q1\n",
        "\n",
        "outliers = (dfThyroid[\"FTI\"] < Q1 - 1.5 * IQR) | (dfThyroid[\"FTI\"] > Q3 + 1.5 * IQR)\n",
        "dfThyroid = dfThyroid[~outliers]\n"
      ],
      "metadata": {
        "id": "WQLH0P2a1CD5"
      },
      "execution_count": null,
      "outputs": []
    },
    {
      "cell_type": "code",
      "source": [
        "sns.boxplot(dfThyroid['FTI'])"
      ],
      "metadata": {
        "colab": {
          "base_uri": "https://localhost:8080/",
          "height": 428
        },
        "id": "bM5to0GG1LY6",
        "outputId": "53a479c6-65a5-48f4-b1fc-5d1e7ecd53a5"
      },
      "execution_count": null,
      "outputs": [
        {
          "output_type": "execute_result",
          "data": {
            "text/plain": [
              "<Axes: ylabel='FTI'>"
            ]
          },
          "metadata": {},
          "execution_count": 57
        },
        {
          "output_type": "display_data",
          "data": {
            "text/plain": [
              "<Figure size 640x480 with 1 Axes>"
            ],
            "image/png": "[encoded data removed]"
          },
          "metadata": {}
        }
      ]
    },
    {
      "cell_type": "code",
      "source": [
        "dfThyroid = dfThyroid[dfThyroid['age'] < 100]\n"
      ],
      "metadata": {
        "id": "hNVst15rzKht"
      },
      "execution_count": null,
      "outputs": []
    },
    {
      "cell_type": "code",
      "source": [
        "sns.boxplot(dfThyroid)"
      ],
      "metadata": {
        "colab": {
          "base_uri": "https://localhost:8080/",
          "height": 447
        },
        "id": "BNAa2Va91NlQ",
        "outputId": "6404e9f3-506e-4142-de57-e2e22be5c469"
      },
      "execution_count": null,
      "outputs": [
        {
          "output_type": "execute_result",
          "data": {
            "text/plain": [
              "<Axes: >"
            ]
          },
          "metadata": {},
          "execution_count": 59
        },
        {
          "output_type": "display_data",
          "data": {
            "text/plain": [
              "<Figure size 640x480 with 1 Axes>"
            ],
            "image/png": "[encoded data removed]"
          },
          "metadata": {}
        }
      ]
    },
    {
      "cell_type": "markdown",
      "source": [
        "handling missing values in dfThyroid"
      ],
      "metadata": {
        "id": "hxScZAHaFiPc"
      }
    },
    {
      "cell_type": "markdown",
      "source": [
        "As 96.3% of it is null i will drop this column"
      ],
      "metadata": {
        "id": "Eg0qT4o-Hus8"
      }
    },
    {
      "cell_type": "code",
      "source": [
        "dfThyroid = dfThyroid.drop('TBG', axis=1)\n"
      ],
      "metadata": {
        "id": "cknKVUoaFm_g"
      },
      "execution_count": null,
      "outputs": []
    },
    {
      "cell_type": "code",
      "source": [
        "dfThyroid.isnull().sum()"
      ],
      "metadata": {
        "colab": {
          "base_uri": "https://localhost:8080/"
        },
        "id": "zySBbSAWIKBI",
        "outputId": "dec071ef-e8fa-440c-d736-be96d049c5b8"
      },
      "execution_count": null,
      "outputs": [
        {
          "output_type": "execute_result",
          "data": {
            "text/plain": [
              "age                       0\n",
              "sex                     220\n",
              "on_thyroxine              0\n",
              "query_on_thyroxine        0\n",
              "on_antithyroid_meds       0\n",
              "sick                      0\n",
              "pregnant                  0\n",
              "thyroid_surgery           0\n",
              "I131_treatment            0\n",
              "query_hypothyroid         0\n",
              "query_hyperthyroid        0\n",
              "lithium                   0\n",
              "goitre                    0\n",
              "tumor                     0\n",
              "hypopituitary             0\n",
              "psych                     0\n",
              "TSH                     773\n",
              "T3                     2114\n",
              "TT4                     425\n",
              "T4U                     729\n",
              "FTI                     723\n",
              "target                    0\n",
              "dtype: int64"
            ]
          },
          "metadata": {},
          "execution_count": 61
        }
      ]
    },
    {
      "cell_type": "code",
      "source": [
        "dfThyroid.sex.value_counts()"
      ],
      "metadata": {
        "colab": {
          "base_uri": "https://localhost:8080/"
        },
        "id": "_6gVjEK9H7-6",
        "outputId": "378e4520-9015-450d-aa25-cb7ab8d2ed78"
      },
      "execution_count": null,
      "outputs": [
        {
          "output_type": "execute_result",
          "data": {
            "text/plain": [
              "sex\n",
              "F    4632\n",
              "M    2422\n",
              "Name: count, dtype: int64"
            ]
          },
          "metadata": {},
          "execution_count": 62
        }
      ]
    },
    {
      "cell_type": "markdown",
      "source": [
        "instead of replacing missing values for the sex column using mode i will replace them to maintain the same ratio as the original numbers"
      ],
      "metadata": {
        "id": "vqfuuI-kJFkS"
      }
    },
    {
      "cell_type": "markdown",
      "source": [
        "6064 / 9162 ≈ 0.662\n",
        "\n",
        "2792 / 9162 ≈ 0.304\n",
        "\n",
        "\n",
        "\n",
        "*   Female: 306 * 0.662≈ 203\n",
        "\n",
        "*   Male: 306 * 0.304 ≈ 94\n",
        "\n",
        "These values maintain the same ratio as the original numbers."
      ],
      "metadata": {
        "id": "iVj4ODvBJQI3"
      }
    },
    {
      "cell_type": "code",
      "source": [
        "dfThyroid['sex'].fillna('F', limit=212, inplace=True)\n",
        "\n",
        "# Replace 1924 null values with 'female'\n",
        "dfThyroid['sex'].fillna('M', limit=94, inplace=True)\n",
        "\n",
        "dfThyroid['sex'].value_counts()\n"
      ],
      "metadata": {
        "colab": {
          "base_uri": "https://localhost:8080/"
        },
        "id": "1FENkuOAJFKe",
        "outputId": "a3f6cbae-2474-4303-b03c-b958b881cda2"
      },
      "execution_count": null,
      "outputs": [
        {
          "output_type": "execute_result",
          "data": {
            "text/plain": [
              "sex\n",
              "F    4844\n",
              "M    2430\n",
              "Name: count, dtype: int64"
            ]
          },
          "metadata": {},
          "execution_count": 63
        }
      ]
    },
    {
      "cell_type": "code",
      "source": [
        "dfThyroid['TSH'].fillna(dfThyroid['TSH'].mean(), inplace=True)\n",
        "dfThyroid['TT4'].fillna(dfThyroid['TT4'].mean(), inplace=True)\n",
        "dfThyroid['T4U'].fillna(dfThyroid['T4U'].mean(), inplace=True)\n",
        "dfThyroid['FTI'].fillna(dfThyroid['FTI'].mean(), inplace=True)\n",
        "dfThyroid['T3'].fillna(dfThyroid['T3'].mean(), inplace=True)\n"
      ],
      "metadata": {
        "id": "AdKY_I_PKzkU"
      },
      "execution_count": null,
      "outputs": []
    },
    {
      "cell_type": "code",
      "source": [
        "dfThyroid.target.unique()"
      ],
      "metadata": {
        "colab": {
          "base_uri": "https://localhost:8080/"
        },
        "id": "S7zRggKBSwZJ",
        "outputId": "46b0d4da-b2cc-475a-fe64-53a976674cdb"
      },
      "execution_count": null,
      "outputs": [
        {
          "output_type": "execute_result",
          "data": {
            "text/plain": [
              "array(['-', 'S', 'N', 'I', 'K', 'R', 'L', 'H|K', 'C|I', 'A', 'P', 'B',\n",
              "       'J', 'AK', 'M', 'C', 'Q', 'O'], dtype=object)"
            ]
          },
          "metadata": {},
          "execution_count": 65
        }
      ]
    },
    {
      "cell_type": "markdown",
      "source": [
        "![image.png](data:image/png;base64,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)"
      ],
      "metadata": {
        "id": "nlm3zk912jDI"
      }
    },
    {
      "cell_type": "markdown",
      "source": [
        "**Normalizing the data for both the data sets**"
      ],
      "metadata": {
        "id": "PB7psLXYR7YI"
      }
    },
    {
      "cell_type": "code",
      "source": [
        "selected_columns = ['age', 'T3', 'TT4', 'TSH', 'FTI']\n",
        "\n",
        "min_max_scaler = MinMaxScaler()\n",
        "df_selected_scaled = min_max_scaler.fit_transform(dfThyroid[selected_columns])\n",
        "\n",
        "# Assign the transformed data back to the original DataFrame columns\n",
        "dfThyroid[selected_columns] = df_selected_scaled\n",
        "\n",
        "dfThyroid.head()"
      ],
      "metadata": {
        "colab": {
          "base_uri": "https://localhost:8080/",
          "height": 256
        },
        "id": "GfZS7Tt2RSrL",
        "outputId": "f069a37c-413a-4888-c3d9-aee8ddb0ea2d"
      },
      "execution_count": null,
      "outputs": [
        {
          "output_type": "execute_result",
          "data": {
            "text/plain": [
              "        age sex on_thyroxine query_on_thyroxine on_antithyroid_meds sick  \\\n",
              "0  0.291667   F            f                  f                   f    f   \n",
              "1  0.291667   F            f                  f                   f    f   \n",
              "2  0.416667   F            f                  f                   f    f   \n",
              "3  0.364583   F            f                  f                   f    f   \n",
              "4  0.322917   F            f                  f                   f    f   \n",
              "\n",
              "  pregnant thyroid_surgery I131_treatment query_hypothyroid  ... goitre tumor  \\\n",
              "0        f               f              f                 t  ...      f     f   \n",
              "1        f               f              f                 f  ...      f     f   \n",
              "2        f               f              f                 f  ...      f     f   \n",
              "3        f               f              f                 f  ...      f     f   \n",
              "4        f               f              f                 f  ...      f     f   \n",
              "\n",
              "  hypopituitary psych       TSH        T3       TT4       T4U       FTI  \\\n",
              "0             f     f  0.049208  0.482136  0.479849  0.952841  0.500596   \n",
              "1             f     f  0.266055  0.482759  0.636364  0.952841  0.500596   \n",
              "2             f     f  0.257920  0.482136  0.479849  0.952841  0.500596   \n",
              "3             f     f  0.257920  0.482136  0.479849  0.952841  0.500596   \n",
              "4             f     f  0.257920  0.482136  0.479849  0.952841  0.500596   \n",
              "\n",
              "   target  \n",
              "0       -  \n",
              "1       -  \n",
              "2       -  \n",
              "3       -  \n",
              "4       S  \n",
              "\n",
              "[5 rows x 22 columns]"
            ],
            "text/html": [
              "\n",
              "  <div id=\"df-afc2783f-e9ef-46b8-9e4f-4f398d797d73\" class=\"colab-df-container\">\n",
              "    <div>\n",
              "<style scoped>\n",
              "    .dataframe tbody tr th:only-of-type {\n",
              "        vertical-align: middle;\n",
              "    }\n",
              "\n",
              "    .dataframe tbody tr th {\n",
              "        vertical-align: top;\n",
              "    }\n",
              "\n",
              "    .dataframe thead th {\n",
              "        text-align: right;\n",
              "    }\n",
              "</style>\n",
              "<table border=\"1\" class=\"dataframe\">\n",
              "  <thead>\n",
              "    <tr style=\"text-align: right;\">\n",
              "      <th></th>\n",
              "      <th>age</th>\n",
              "      <th>sex</th>\n",
              "      <th>on_thyroxine</th>\n",
              "      <th>query_on_thyroxine</th>\n",
              "      <th>on_antithyroid_meds</th>\n",
              "      <th>sick</th>\n",
              "      <th>pregnant</th>\n",
              "      <th>thyroid_surgery</th>\n",
              "      <th>I131_treatment</th>\n",
              "      <th>query_hypothyroid</th>\n",
              "      <th>...</th>\n",
              "      <th>goitre</th>\n",
              "      <th>tumor</th>\n",
              "      <th>hypopituitary</th>\n",
              "      <th>psych</th>\n",
              "      <th>TSH</th>\n",
              "      <th>T3</th>\n",
              "      <th>TT4</th>\n",
              "      <th>T4U</th>\n",
              "      <th>FTI</th>\n",
              "      <th>target</th>\n",
              "    </tr>\n",
              "  </thead>\n",
              "  <tbody>\n",
              "    <tr>\n",
              "      <th>0</th>\n",
              "      <td>0.291667</td>\n",
              "      <td>F</td>\n",
              "      <td>f</td>\n",
              "      <td>f</td>\n",
              "      <td>f</td>\n",
              "      <td>f</td>\n",
              "      <td>f</td>\n",
              "      <td>f</td>\n",
              "      <td>f</td>\n",
              "      <td>t</td>\n",
              "      <td>...</td>\n",
              "      <td>f</td>\n",
              "      <td>f</td>\n",
              "      <td>f</td>\n",
              "      <td>f</td>\n",
              "      <td>0.049208</td>\n",
              "      <td>0.482136</td>\n",
              "      <td>0.479849</td>\n",
              "      <td>0.952841</td>\n",
              "      <td>0.500596</td>\n",
              "      <td>-</td>\n",
              "    </tr>\n",
              "    <tr>\n",
              "      <th>1</th>\n",
              "      <td>0.291667</td>\n",
              "      <td>F</td>\n",
              "      <td>f</td>\n",
              "      <td>f</td>\n",
              "      <td>f</td>\n",
              "      <td>f</td>\n",
              "      <td>f</td>\n",
              "      <td>f</td>\n",
              "      <td>f</td>\n",
              "      <td>f</td>\n",
              "      <td>...</td>\n",
              "      <td>f</td>\n",
              "      <td>f</td>\n",
              "      <td>f</td>\n",
              "      <td>f</td>\n",
              "      <td>0.266055</td>\n",
              "      <td>0.482759</td>\n",
              "      <td>0.636364</td>\n",
              "      <td>0.952841</td>\n",
              "      <td>0.500596</td>\n",
              "      <td>-</td>\n",
              "    </tr>\n",
              "    <tr>\n",
              "      <th>2</th>\n",
              "      <td>0.416667</td>\n",
              "      <td>F</td>\n",
              "      <td>f</td>\n",
              "      <td>f</td>\n",
              "      <td>f</td>\n",
              "      <td>f</td>\n",
              "      <td>f</td>\n",
              "      <td>f</td>\n",
              "      <td>f</td>\n",
              "      <td>f</td>\n",
              "      <td>...</td>\n",
              "      <td>f</td>\n",
              "      <td>f</td>\n",
              "      <td>f</td>\n",
              "      <td>f</td>\n",
              "      <td>0.257920</td>\n",
              "      <td>0.482136</td>\n",
              "      <td>0.479849</td>\n",
              "      <td>0.952841</td>\n",
              "      <td>0.500596</td>\n",
              "      <td>-</td>\n",
              "    </tr>\n",
              "    <tr>\n",
              "      <th>3</th>\n",
              "      <td>0.364583</td>\n",
              "      <td>F</td>\n",
              "      <td>f</td>\n",
              "      <td>f</td>\n",
              "      <td>f</td>\n",
              "      <td>f</td>\n",
              "      <td>f</td>\n",
              "      <td>f</td>\n",
              "      <td>f</td>\n",
              "      <td>f</td>\n",
              "      <td>...</td>\n",
              "      <td>f</td>\n",
              "      <td>f</td>\n",
              "      <td>f</td>\n",
              "      <td>f</td>\n",
              "      <td>0.257920</td>\n",
              "      <td>0.482136</td>\n",
              "      <td>0.479849</td>\n",
              "      <td>0.952841</td>\n",
              "      <td>0.500596</td>\n",
              "      <td>-</td>\n",
              "    </tr>\n",
              "    <tr>\n",
              "      <th>4</th>\n",
              "      <td>0.322917</td>\n",
              "      <td>F</td>\n",
              "      <td>f</td>\n",
              "      <td>f</td>\n",
              "      <td>f</td>\n",
              "      <td>f</td>\n",
              "      <td>f</td>\n",
              "      <td>f</td>\n",
              "      <td>f</td>\n",
              "      <td>f</td>\n",
              "      <td>...</td>\n",
              "      <td>f</td>\n",
              "      <td>f</td>\n",
              "      <td>f</td>\n",
              "      <td>f</td>\n",
              "      <td>0.257920</td>\n",
              "      <td>0.482136</td>\n",
              "      <td>0.479849</td>\n",
              "      <td>0.952841</td>\n",
              "      <td>0.500596</td>\n",
              "      <td>S</td>\n",
              "    </tr>\n",
              "  </tbody>\n",
              "</table>\n",
              "<p>5 rows × 22 columns</p>\n",
              "</div>\n",
              "    <div class=\"colab-df-buttons\">\n",
              "\n",
              "  <div class=\"colab-df-container\">\n",
              "    <button class=\"colab-df-convert\" onclick=\"convertToInteractive('df-afc2783f-e9ef-46b8-9e4f-4f398d797d73')\"\n",
              "            title=\"Convert this dataframe to an interactive table.\"\n",
              "            style=\"display:none;\">\n",
              "\n",
              "  <svg xmlns=\"http://www.w3.org/2000/svg\" height=\"24px\" viewBox=\"0 -960 960 960\">\n",
              "    <path d=\"M120-120v-720h720v720H120Zm60-500h600v-160H180v160Zm220 220h160v-160H400v160Zm0 220h160v-160H400v160ZM180-400h160v-160H180v160Zm440 0h160v-160H620v160ZM180-180h160v-160H180v160Zm440 0h160v-160H620v160Z\"/>\n",
              "  </svg>\n",
              "    </button>\n",
              "\n",
              "  <style>\n",
              "    .colab-df-container {\n",
              "      display:flex;\n",
              "      gap: 12px;\n",
              "    }\n",
              "\n",
              "    .colab-df-convert {\n",
              "      background-color: #E8F0FE;\n",
              "      border: none;\n",
              "      border-radius: 50%;\n",
              "      cursor: pointer;\n",
              "      display: none;\n",
              "      fill: #1967D2;\n",
              "      height: 32px;\n",
              "      padding: 0 0 0 0;\n",
              "      width: 32px;\n",
              "    }\n",
              "\n",
              "    .colab-df-convert:hover {\n",
              "      background-color: #E2EBFA;\n",
              "      box-shadow: 0px 1px 2px rgba(60, 64, 67, 0.3), 0px 1px 3px 1px rgba(60, 64, 67, 0.15);\n",
              "      fill: #174EA6;\n",
              "    }\n",
              "\n",
              "    .colab-df-buttons div {\n",
              "      margin-bottom: 4px;\n",
              "    }\n",
              "\n",
              "    [theme=dark] .colab-df-convert {\n",
              "      background-color: #3B4455;\n",
              "      fill: #D2E3FC;\n",
              "    }\n",
              "\n",
              "    [theme=dark] .colab-df-convert:hover {\n",
              "      background-color: #434B5C;\n",
              "      box-shadow: 0px 1px 3px 1px rgba(0, 0, 0, 0.15);\n",
              "      filter: drop-shadow(0px 1px 2px rgba(0, 0, 0, 0.3));\n",
              "      fill: #FFFFFF;\n",
              "    }\n",
              "  </style>\n",
              "\n",
              "    <script>\n",
              "      const buttonEl =\n",
              "        document.querySelector('#df-afc2783f-e9ef-46b8-9e4f-4f398d797d73 button.colab-df-convert');\n",
              "      buttonEl.style.display =\n",
              "        google.colab.kernel.accessAllowed ? 'block' : 'none';\n",
              "\n",
              "      async function convertToInteractive(key) {\n",
              "        const element = document.querySelector('#df-afc2783f-e9ef-46b8-9e4f-4f398d797d73');\n",
              "        const dataTable =\n",
              "          await google.colab.kernel.invokeFunction('convertToInteractive',\n",
              "                                                    [key], {});\n",
              "        if (!dataTable) return;\n",
              "\n",
              "        const docLinkHtml = 'Like what you see? Visit the ' +\n",
              "          '<a target=\"_blank\" href=https://colab.research.google.com/notebooks/data_table.ipynb>data table notebook</a>'\n",
              "          + ' to learn more about interactive tables.';\n",
              "        element.innerHTML = '';\n",
              "        dataTable['output_type'] = 'display_data';\n",
              "        await google.colab.output.renderOutput(dataTable, element);\n",
              "        const docLink = document.createElement('div');\n",
              "        docLink.innerHTML = docLinkHtml;\n",
              "        element.appendChild(docLink);\n",
              "      }\n",
              "    </script>\n",
              "  </div>\n",
              "\n",
              "\n",
              "<div id=\"df-3bdc33e5-168b-43fe-9f34-e6bd700d9703\">\n",
              "  <button class=\"colab-df-quickchart\" onclick=\"quickchart('df-3bdc33e5-168b-43fe-9f34-e6bd700d9703')\"\n",
              "            title=\"Suggest charts\"\n",
              "            style=\"display:none;\">\n",
              "\n",
              "<svg xmlns=\"http://www.w3.org/2000/svg\" height=\"24px\"viewBox=\"0 0 24 24\"\n",
              "     width=\"24px\">\n",
              "    <g>\n",
              "        <path d=\"M19 3H5c-1.1 0-2 .9-2 2v14c0 1.1.9 2 2 2h14c1.1 0 2-.9 2-2V5c0-1.1-.9-2-2-2zM9 17H7v-7h2v7zm4 0h-2V7h2v10zm4 0h-2v-4h2v4z\"/>\n",
              "    </g>\n",
              "</svg>\n",
              "  </button>\n",
              "\n",
              "<style>\n",
              "  .colab-df-quickchart {\n",
              "      --bg-color: #E8F0FE;\n",
              "      --fill-color: #1967D2;\n",
              "      --hover-bg-color: #E2EBFA;\n",
              "      --hover-fill-color: #174EA6;\n",
              "      --disabled-fill-color: #AAA;\n",
              "      --disabled-bg-color: #DDD;\n",
              "  }\n",
              "\n",
              "  [theme=dark] .colab-df-quickchart {\n",
              "      --bg-color: #3B4455;\n",
              "      --fill-color: #D2E3FC;\n",
              "      --hover-bg-color: #434B5C;\n",
              "      --hover-fill-color: #FFFFFF;\n",
              "      --disabled-bg-color: #3B4455;\n",
              "      --disabled-fill-color: #666;\n",
              "  }\n",
              "\n",
              "  .colab-df-quickchart {\n",
              "    background-color: var(--bg-color);\n",
              "    border: none;\n",
              "    border-radius: 50%;\n",
              "    cursor: pointer;\n",
              "    display: none;\n",
              "    fill: var(--fill-color);\n",
              "    height: 32px;\n",
              "    padding: 0;\n",
              "    width: 32px;\n",
              "  }\n",
              "\n",
              "  .colab-df-quickchart:hover {\n",
              "    background-color: var(--hover-bg-color);\n",
              "    box-shadow: 0 1px 2px rgba(60, 64, 67, 0.3), 0 1px 3px 1px rgba(60, 64, 67, 0.15);\n",
              "    fill: var(--button-hover-fill-color);\n",
              "  }\n",
              "\n",
              "  .colab-df-quickchart-complete:disabled,\n",
              "  .colab-df-quickchart-complete:disabled:hover {\n",
              "    background-color: var(--disabled-bg-color);\n",
              "    fill: var(--disabled-fill-color);\n",
              "    box-shadow: none;\n",
              "  }\n",
              "\n",
              "  .colab-df-spinner {\n",
              "    border: 2px solid var(--fill-color);\n",
              "    border-color: transparent;\n",
              "    border-bottom-color: var(--fill-color);\n",
              "    animation:\n",
              "      spin 1s steps(1) infinite;\n",
              "  }\n",
              "\n",
              "  @keyframes spin {\n",
              "    0% {\n",
              "      border-color: transparent;\n",
              "      border-bottom-color: var(--fill-color);\n",
              "      border-left-color: var(--fill-color);\n",
              "    }\n",
              "    20% {\n",
              "      border-color: transparent;\n",
              "      border-left-color: var(--fill-color);\n",
              "      border-top-color: var(--fill-color);\n",
              "    }\n",
              "    30% {\n",
              "      border-color: transparent;\n",
              "      border-left-color: var(--fill-color);\n",
              "      border-top-color: var(--fill-color);\n",
              "      border-right-color: var(--fill-color);\n",
              "    }\n",
              "    40% {\n",
              "      border-color: transparent;\n",
              "      border-right-color: var(--fill-color);\n",
              "      border-top-color: var(--fill-color);\n",
              "    }\n",
              "    60% {\n",
              "      border-color: transparent;\n",
              "      border-right-color: var(--fill-color);\n",
              "    }\n",
              "    80% {\n",
              "      border-color: transparent;\n",
              "      border-right-color: var(--fill-color);\n",
              "      border-bottom-color: var(--fill-color);\n",
              "    }\n",
              "    90% {\n",
              "      border-color: transparent;\n",
              "      border-bottom-color: var(--fill-color);\n",
              "    }\n",
              "  }\n",
              "</style>\n",
              "\n",
              "  <script>\n",
              "    async function quickchart(key) {\n",
              "      const quickchartButtonEl =\n",
              "        document.querySelector('#' + key + ' button');\n",
              "      quickchartButtonEl.disabled = true;  // To prevent multiple clicks.\n",
              "      quickchartButtonEl.classList.add('colab-df-spinner');\n",
              "      try {\n",
              "        const charts = await google.colab.kernel.invokeFunction(\n",
              "            'suggestCharts', [key], {});\n",
              "      } catch (error) {\n",
              "        console.error('Error during call to suggestCharts:', error);\n",
              "      }\n",
              "      quickchartButtonEl.classList.remove('colab-df-spinner');\n",
              "      quickchartButtonEl.classList.add('colab-df-quickchart-complete');\n",
              "    }\n",
              "    (() => {\n",
              "      let quickchartButtonEl =\n",
              "        document.querySelector('#df-3bdc33e5-168b-43fe-9f34-e6bd700d9703 button');\n",
              "      quickchartButtonEl.style.display =\n",
              "        google.colab.kernel.accessAllowed ? 'block' : 'none';\n",
              "    })();\n",
              "  </script>\n",
              "</div>\n",
              "    </div>\n",
              "  </div>\n"
            ],
            "application/vnd.google.colaboratory.intrinsic+json": {
              "type": "dataframe",
              "variable_name": "dfThyroid"
            }
          },
          "metadata": {},
          "execution_count": 66
        }
      ]
    },
    {
      "cell_type": "code",
      "source": [
        "dfThyroid.head()"
      ],
      "metadata": {
        "colab": {
          "base_uri": "https://localhost:8080/",
          "height": 256
        },
        "id": "eFgho6X9OT84",
        "outputId": "63e68832-1548-40ae-8d65-508ed555573e"
      },
      "execution_count": null,
      "outputs": [
        {
          "output_type": "execute_result",
          "data": {
            "text/plain": [
              "        age sex on_thyroxine query_on_thyroxine on_antithyroid_meds sick  \\\n",
              "0  0.291667   F            f                  f                   f    f   \n",
              "1  0.291667   F            f                  f                   f    f   \n",
              "2  0.416667   F            f                  f                   f    f   \n",
              "3  0.364583   F            f                  f                   f    f   \n",
              "4  0.322917   F            f                  f                   f    f   \n",
              "\n",
              "  pregnant thyroid_surgery I131_treatment query_hypothyroid  ... goitre tumor  \\\n",
              "0        f               f              f                 t  ...      f     f   \n",
              "1        f               f              f                 f  ...      f     f   \n",
              "2        f               f              f                 f  ...      f     f   \n",
              "3        f               f              f                 f  ...      f     f   \n",
              "4        f               f              f                 f  ...      f     f   \n",
              "\n",
              "  hypopituitary psych       TSH        T3       TT4       T4U       FTI  \\\n",
              "0             f     f  0.049208  0.482136  0.479849  0.952841  0.500596   \n",
              "1             f     f  0.266055  0.482759  0.636364  0.952841  0.500596   \n",
              "2             f     f  0.257920  0.482136  0.479849  0.952841  0.500596   \n",
              "3             f     f  0.257920  0.482136  0.479849  0.952841  0.500596   \n",
              "4             f     f  0.257920  0.482136  0.479849  0.952841  0.500596   \n",
              "\n",
              "   target  \n",
              "0       -  \n",
              "1       -  \n",
              "2       -  \n",
              "3       -  \n",
              "4       S  \n",
              "\n",
              "[5 rows x 22 columns]"
            ],
            "text/html": [
              "\n",
              "  <div id=\"df-ee9289ac-c23a-4df5-8245-a616c7b6fdff\" class=\"colab-df-container\">\n",
              "    <div>\n",
              "<style scoped>\n",
              "    .dataframe tbody tr th:only-of-type {\n",
              "        vertical-align: middle;\n",
              "    }\n",
              "\n",
              "    .dataframe tbody tr th {\n",
              "        vertical-align: top;\n",
              "    }\n",
              "\n",
              "    .dataframe thead th {\n",
              "        text-align: right;\n",
              "    }\n",
              "</style>\n",
              "<table border=\"1\" class=\"dataframe\">\n",
              "  <thead>\n",
              "    <tr style=\"text-align: right;\">\n",
              "      <th></th>\n",
              "      <th>age</th>\n",
              "      <th>sex</th>\n",
              "      <th>on_thyroxine</th>\n",
              "      <th>query_on_thyroxine</th>\n",
              "      <th>on_antithyroid_meds</th>\n",
              "      <th>sick</th>\n",
              "      <th>pregnant</th>\n",
              "      <th>thyroid_surgery</th>\n",
              "      <th>I131_treatment</th>\n",
              "      <th>query_hypothyroid</th>\n",
              "      <th>...</th>\n",
              "      <th>goitre</th>\n",
              "      <th>tumor</th>\n",
              "      <th>hypopituitary</th>\n",
              "      <th>psych</th>\n",
              "      <th>TSH</th>\n",
              "      <th>T3</th>\n",
              "      <th>TT4</th>\n",
              "      <th>T4U</th>\n",
              "      <th>FTI</th>\n",
              "      <th>target</th>\n",
              "    </tr>\n",
              "  </thead>\n",
              "  <tbody>\n",
              "    <tr>\n",
              "      <th>0</th>\n",
              "      <td>0.291667</td>\n",
              "      <td>F</td>\n",
              "      <td>f</td>\n",
              "      <td>f</td>\n",
              "      <td>f</td>\n",
              "      <td>f</td>\n",
              "      <td>f</td>\n",
              "      <td>f</td>\n",
              "      <td>f</td>\n",
              "      <td>t</td>\n",
              "      <td>...</td>\n",
              "      <td>f</td>\n",
              "      <td>f</td>\n",
              "      <td>f</td>\n",
              "      <td>f</td>\n",
              "      <td>0.049208</td>\n",
              "      <td>0.482136</td>\n",
              "      <td>0.479849</td>\n",
              "      <td>0.952841</td>\n",
              "      <td>0.500596</td>\n",
              "      <td>-</td>\n",
              "    </tr>\n",
              "    <tr>\n",
              "      <th>1</th>\n",
              "      <td>0.291667</td>\n",
              "      <td>F</td>\n",
              "      <td>f</td>\n",
              "      <td>f</td>\n",
              "      <td>f</td>\n",
              "      <td>f</td>\n",
              "      <td>f</td>\n",
              "      <td>f</td>\n",
              "      <td>f</td>\n",
              "      <td>f</td>\n",
              "      <td>...</td>\n",
              "      <td>f</td>\n",
              "      <td>f</td>\n",
              "      <td>f</td>\n",
              "      <td>f</td>\n",
              "      <td>0.266055</td>\n",
              "      <td>0.482759</td>\n",
              "      <td>0.636364</td>\n",
              "      <td>0.952841</td>\n",
              "      <td>0.500596</td>\n",
              "      <td>-</td>\n",
              "    </tr>\n",
              "    <tr>\n",
              "      <th>2</th>\n",
              "      <td>0.416667</td>\n",
              "      <td>F</td>\n",
              "      <td>f</td>\n",
              "      <td>f</td>\n",
              "      <td>f</td>\n",
              "      <td>f</td>\n",
              "      <td>f</td>\n",
              "      <td>f</td>\n",
              "      <td>f</td>\n",
              "      <td>f</td>\n",
              "      <td>...</td>\n",
              "      <td>f</td>\n",
              "      <td>f</td>\n",
              "      <td>f</td>\n",
              "      <td>f</td>\n",
              "      <td>0.257920</td>\n",
              "      <td>0.482136</td>\n",
              "      <td>0.479849</td>\n",
              "      <td>0.952841</td>\n",
              "      <td>0.500596</td>\n",
              "      <td>-</td>\n",
              "    </tr>\n",
              "    <tr>\n",
              "      <th>3</th>\n",
              "      <td>0.364583</td>\n",
              "      <td>F</td>\n",
              "      <td>f</td>\n",
              "      <td>f</td>\n",
              "      <td>f</td>\n",
              "      <td>f</td>\n",
              "      <td>f</td>\n",
              "      <td>f</td>\n",
              "      <td>f</td>\n",
              "      <td>f</td>\n",
              "      <td>...</td>\n",
              "      <td>f</td>\n",
              "      <td>f</td>\n",
              "      <td>f</td>\n",
              "      <td>f</td>\n",
              "      <td>0.257920</td>\n",
              "      <td>0.482136</td>\n",
              "      <td>0.479849</td>\n",
              "      <td>0.952841</td>\n",
              "      <td>0.500596</td>\n",
              "      <td>-</td>\n",
              "    </tr>\n",
              "    <tr>\n",
              "      <th>4</th>\n",
              "      <td>0.322917</td>\n",
              "      <td>F</td>\n",
              "      <td>f</td>\n",
              "      <td>f</td>\n",
              "      <td>f</td>\n",
              "      <td>f</td>\n",
              "      <td>f</td>\n",
              "      <td>f</td>\n",
              "      <td>f</td>\n",
              "      <td>f</td>\n",
              "      <td>...</td>\n",
              "      <td>f</td>\n",
              "      <td>f</td>\n",
              "      <td>f</td>\n",
              "      <td>f</td>\n",
              "      <td>0.257920</td>\n",
              "      <td>0.482136</td>\n",
              "      <td>0.479849</td>\n",
              "      <td>0.952841</td>\n",
              "      <td>0.500596</td>\n",
              "      <td>S</td>\n",
              "    </tr>\n",
              "  </tbody>\n",
              "</table>\n",
              "<p>5 rows × 22 columns</p>\n",
              "</div>\n",
              "    <div class=\"colab-df-buttons\">\n",
              "\n",
              "  <div class=\"colab-df-container\">\n",
              "    <button class=\"colab-df-convert\" onclick=\"convertToInteractive('df-ee9289ac-c23a-4df5-8245-a616c7b6fdff')\"\n",
              "            title=\"Convert this dataframe to an interactive table.\"\n",
              "            style=\"display:none;\">\n",
              "\n",
              "  <svg xmlns=\"http://www.w3.org/2000/svg\" height=\"24px\" viewBox=\"0 -960 960 960\">\n",
              "    <path d=\"M120-120v-720h720v720H120Zm60-500h600v-160H180v160Zm220 220h160v-160H400v160Zm0 220h160v-160H400v160ZM180-400h160v-160H180v160Zm440 0h160v-160H620v160ZM180-180h160v-160H180v160Zm440 0h160v-160H620v160Z\"/>\n",
              "  </svg>\n",
              "    </button>\n",
              "\n",
              "  <style>\n",
              "    .colab-df-container {\n",
              "      display:flex;\n",
              "      gap: 12px;\n",
              "    }\n",
              "\n",
              "    .colab-df-convert {\n",
              "      background-color: #E8F0FE;\n",
              "      border: none;\n",
              "      border-radius: 50%;\n",
              "      cursor: pointer;\n",
              "      display: none;\n",
              "      fill: #1967D2;\n",
              "      height: 32px;\n",
              "      padding: 0 0 0 0;\n",
              "      width: 32px;\n",
              "    }\n",
              "\n",
              "    .colab-df-convert:hover {\n",
              "      background-color: #E2EBFA;\n",
              "      box-shadow: 0px 1px 2px rgba(60, 64, 67, 0.3), 0px 1px 3px 1px rgba(60, 64, 67, 0.15);\n",
              "      fill: #174EA6;\n",
              "    }\n",
              "\n",
              "    .colab-df-buttons div {\n",
              "      margin-bottom: 4px;\n",
              "    }\n",
              "\n",
              "    [theme=dark] .colab-df-convert {\n",
              "      background-color: #3B4455;\n",
              "      fill: #D2E3FC;\n",
              "    }\n",
              "\n",
              "    [theme=dark] .colab-df-convert:hover {\n",
              "      background-color: #434B5C;\n",
              "      box-shadow: 0px 1px 3px 1px rgba(0, 0, 0, 0.15);\n",
              "      filter: drop-shadow(0px 1px 2px rgba(0, 0, 0, 0.3));\n",
              "      fill: #FFFFFF;\n",
              "    }\n",
              "  </style>\n",
              "\n",
              "    <script>\n",
              "      const buttonEl =\n",
              "        document.querySelector('#df-ee9289ac-c23a-4df5-8245-a616c7b6fdff button.colab-df-convert');\n",
              "      buttonEl.style.display =\n",
              "        google.colab.kernel.accessAllowed ? 'block' : 'none';\n",
              "\n",
              "      async function convertToInteractive(key) {\n",
              "        const element = document.querySelector('#df-ee9289ac-c23a-4df5-8245-a616c7b6fdff');\n",
              "        const dataTable =\n",
              "          await google.colab.kernel.invokeFunction('convertToInteractive',\n",
              "                                                    [key], {});\n",
              "        if (!dataTable) return;\n",
              "\n",
              "        const docLinkHtml = 'Like what you see? Visit the ' +\n",
              "          '<a target=\"_blank\" href=https://colab.research.google.com/notebooks/data_table.ipynb>data table notebook</a>'\n",
              "          + ' to learn more about interactive tables.';\n",
              "        element.innerHTML = '';\n",
              "        dataTable['output_type'] = 'display_data';\n",
              "        await google.colab.output.renderOutput(dataTable, element);\n",
              "        const docLink = document.createElement('div');\n",
              "        docLink.innerHTML = docLinkHtml;\n",
              "        element.appendChild(docLink);\n",
              "      }\n",
              "    </script>\n",
              "  </div>\n",
              "\n",
              "\n",
              "<div id=\"df-d2c179d1-8019-4e37-bcab-7b13a42bc30a\">\n",
              "  <button class=\"colab-df-quickchart\" onclick=\"quickchart('df-d2c179d1-8019-4e37-bcab-7b13a42bc30a')\"\n",
              "            title=\"Suggest charts\"\n",
              "            style=\"display:none;\">\n",
              "\n",
              "<svg xmlns=\"http://www.w3.org/2000/svg\" height=\"24px\"viewBox=\"0 0 24 24\"\n",
              "     width=\"24px\">\n",
              "    <g>\n",
              "        <path d=\"M19 3H5c-1.1 0-2 .9-2 2v14c0 1.1.9 2 2 2h14c1.1 0 2-.9 2-2V5c0-1.1-.9-2-2-2zM9 17H7v-7h2v7zm4 0h-2V7h2v10zm4 0h-2v-4h2v4z\"/>\n",
              "    </g>\n",
              "</svg>\n",
              "  </button>\n",
              "\n",
              "<style>\n",
              "  .colab-df-quickchart {\n",
              "      --bg-color: #E8F0FE;\n",
              "      --fill-color: #1967D2;\n",
              "      --hover-bg-color: #E2EBFA;\n",
              "      --hover-fill-color: #174EA6;\n",
              "      --disabled-fill-color: #AAA;\n",
              "      --disabled-bg-color: #DDD;\n",
              "  }\n",
              "\n",
              "  [theme=dark] .colab-df-quickchart {\n",
              "      --bg-color: #3B4455;\n",
              "      --fill-color: #D2E3FC;\n",
              "      --hover-bg-color: #434B5C;\n",
              "      --hover-fill-color: #FFFFFF;\n",
              "      --disabled-bg-color: #3B4455;\n",
              "      --disabled-fill-color: #666;\n",
              "  }\n",
              "\n",
              "  .colab-df-quickchart {\n",
              "    background-color: var(--bg-color);\n",
              "    border: none;\n",
              "    border-radius: 50%;\n",
              "    cursor: pointer;\n",
              "    display: none;\n",
              "    fill: var(--fill-color);\n",
              "    height: 32px;\n",
              "    padding: 0;\n",
              "    width: 32px;\n",
              "  }\n",
              "\n",
              "  .colab-df-quickchart:hover {\n",
              "    background-color: var(--hover-bg-color);\n",
              "    box-shadow: 0 1px 2px rgba(60, 64, 67, 0.3), 0 1px 3px 1px rgba(60, 64, 67, 0.15);\n",
              "    fill: var(--button-hover-fill-color);\n",
              "  }\n",
              "\n",
              "  .colab-df-quickchart-complete:disabled,\n",
              "  .colab-df-quickchart-complete:disabled:hover {\n",
              "    background-color: var(--disabled-bg-color);\n",
              "    fill: var(--disabled-fill-color);\n",
              "    box-shadow: none;\n",
              "  }\n",
              "\n",
              "  .colab-df-spinner {\n",
              "    border: 2px solid var(--fill-color);\n",
              "    border-color: transparent;\n",
              "    border-bottom-color: var(--fill-color);\n",
              "    animation:\n",
              "      spin 1s steps(1) infinite;\n",
              "  }\n",
              "\n",
              "  @keyframes spin {\n",
              "    0% {\n",
              "      border-color: transparent;\n",
              "      border-bottom-color: var(--fill-color);\n",
              "      border-left-color: var(--fill-color);\n",
              "    }\n",
              "    20% {\n",
              "      border-color: transparent;\n",
              "      border-left-color: var(--fill-color);\n",
              "      border-top-color: var(--fill-color);\n",
              "    }\n",
              "    30% {\n",
              "      border-color: transparent;\n",
              "      border-left-color: var(--fill-color);\n",
              "      border-top-color: var(--fill-color);\n",
              "      border-right-color: var(--fill-color);\n",
              "    }\n",
              "    40% {\n",
              "      border-color: transparent;\n",
              "      border-right-color: var(--fill-color);\n",
              "      border-top-color: var(--fill-color);\n",
              "    }\n",
              "    60% {\n",
              "      border-color: transparent;\n",
              "      border-right-color: var(--fill-color);\n",
              "    }\n",
              "    80% {\n",
              "      border-color: transparent;\n",
              "      border-right-color: var(--fill-color);\n",
              "      border-bottom-color: var(--fill-color);\n",
              "    }\n",
              "    90% {\n",
              "      border-color: transparent;\n",
              "      border-bottom-color: var(--fill-color);\n",
              "    }\n",
              "  }\n",
              "</style>\n",
              "\n",
              "  <script>\n",
              "    async function quickchart(key) {\n",
              "      const quickchartButtonEl =\n",
              "        document.querySelector('#' + key + ' button');\n",
              "      quickchartButtonEl.disabled = true;  // To prevent multiple clicks.\n",
              "      quickchartButtonEl.classList.add('colab-df-spinner');\n",
              "      try {\n",
              "        const charts = await google.colab.kernel.invokeFunction(\n",
              "            'suggestCharts', [key], {});\n",
              "      } catch (error) {\n",
              "        console.error('Error during call to suggestCharts:', error);\n",
              "      }\n",
              "      quickchartButtonEl.classList.remove('colab-df-spinner');\n",
              "      quickchartButtonEl.classList.add('colab-df-quickchart-complete');\n",
              "    }\n",
              "    (() => {\n",
              "      let quickchartButtonEl =\n",
              "        document.querySelector('#df-d2c179d1-8019-4e37-bcab-7b13a42bc30a button');\n",
              "      quickchartButtonEl.style.display =\n",
              "        google.colab.kernel.accessAllowed ? 'block' : 'none';\n",
              "    })();\n",
              "  </script>\n",
              "</div>\n",
              "    </div>\n",
              "  </div>\n"
            ],
            "application/vnd.google.colaboratory.intrinsic+json": {
              "type": "dataframe",
              "variable_name": "dfThyroid"
            }
          },
          "metadata": {},
          "execution_count": 67
        }
      ]
    },
    {
      "cell_type": "code",
      "source": [
        "columns = dfHeart.drop(\"class\", axis = 1).columns\n",
        "\n",
        "# Min-Max Scaling\n",
        "min_max_scaler = MinMaxScaler()\n",
        "dfHeart[columns] = min_max_scaler.fit_transform(dfHeart[columns])\n",
        "dfHeart.head()"
      ],
      "metadata": {
        "colab": {
          "base_uri": "https://localhost:8080/",
          "height": 206
        },
        "id": "-kfp9Bq5NhRe",
        "outputId": "ee9967bf-b306-4109-e9a3-4397e037f1a9"
      },
      "execution_count": null,
      "outputs": [
        {
          "output_type": "execute_result",
          "data": {
            "text/plain": [
              "        age  gender   impluse  pressurehight  pressurelow   glucose       kcm  \\\n",
              "0  0.657895     1.0  0.295775       0.645161     0.800000  0.247036  0.127292   \n",
              "2  0.539474     1.0  0.267606       0.645161     0.628571  0.464427  0.143644   \n",
              "4  0.539474     1.0  0.267606       0.129032     0.285714  0.523715  0.065324   \n",
              "5  0.578947     0.0  0.225352       0.129032     0.085714  0.102767  0.129873   \n",
              "8  0.394737     0.0  0.211268       0.580645     0.742857  0.197628  0.174628   \n",
              "\n",
              "   troponin     class  \n",
              "0  0.053140  negative  \n",
              "2  0.009662  negative  \n",
              "4  0.009662  negative  \n",
              "5  0.014493  negative  \n",
              "8  0.014493  negative  "
            ],
            "text/html": [
              "\n",
              "  <div id=\"df-4b943599-063b-40f0-8090-e039e1ce0947\" class=\"colab-df-container\">\n",
              "    <div>\n",
              "<style scoped>\n",
              "    .dataframe tbody tr th:only-of-type {\n",
              "        vertical-align: middle;\n",
              "    }\n",
              "\n",
              "    .dataframe tbody tr th {\n",
              "        vertical-align: top;\n",
              "    }\n",
              "\n",
              "    .dataframe thead th {\n",
              "        text-align: right;\n",
              "    }\n",
              "</style>\n",
              "<table border=\"1\" class=\"dataframe\">\n",
              "  <thead>\n",
              "    <tr style=\"text-align: right;\">\n",
              "      <th></th>\n",
              "      <th>age</th>\n",
              "      <th>gender</th>\n",
              "      <th>impluse</th>\n",
              "      <th>pressurehight</th>\n",
              "      <th>pressurelow</th>\n",
              "      <th>glucose</th>\n",
              "      <th>kcm</th>\n",
              "      <th>troponin</th>\n",
              "      <th>class</th>\n",
              "    </tr>\n",
              "  </thead>\n",
              "  <tbody>\n",
              "    <tr>\n",
              "      <th>0</th>\n",
              "      <td>0.657895</td>\n",
              "      <td>1.0</td>\n",
              "      <td>0.295775</td>\n",
              "      <td>0.645161</td>\n",
              "      <td>0.800000</td>\n",
              "      <td>0.247036</td>\n",
              "      <td>0.127292</td>\n",
              "      <td>0.053140</td>\n",
              "      <td>negative</td>\n",
              "    </tr>\n",
              "    <tr>\n",
              "      <th>2</th>\n",
              "      <td>0.539474</td>\n",
              "      <td>1.0</td>\n",
              "      <td>0.267606</td>\n",
              "      <td>0.645161</td>\n",
              "      <td>0.628571</td>\n",
              "      <td>0.464427</td>\n",
              "      <td>0.143644</td>\n",
              "      <td>0.009662</td>\n",
              "      <td>negative</td>\n",
              "    </tr>\n",
              "    <tr>\n",
              "      <th>4</th>\n",
              "      <td>0.539474</td>\n",
              "      <td>1.0</td>\n",
              "      <td>0.267606</td>\n",
              "      <td>0.129032</td>\n",
              "      <td>0.285714</td>\n",
              "      <td>0.523715</td>\n",
              "      <td>0.065324</td>\n",
              "      <td>0.009662</td>\n",
              "      <td>negative</td>\n",
              "    </tr>\n",
              "    <tr>\n",
              "      <th>5</th>\n",
              "      <td>0.578947</td>\n",
              "      <td>0.0</td>\n",
              "      <td>0.225352</td>\n",
              "      <td>0.129032</td>\n",
              "      <td>0.085714</td>\n",
              "      <td>0.102767</td>\n",
              "      <td>0.129873</td>\n",
              "      <td>0.014493</td>\n",
              "      <td>negative</td>\n",
              "    </tr>\n",
              "    <tr>\n",
              "      <th>8</th>\n",
              "      <td>0.394737</td>\n",
              "      <td>0.0</td>\n",
              "      <td>0.211268</td>\n",
              "      <td>0.580645</td>\n",
              "      <td>0.742857</td>\n",
              "      <td>0.197628</td>\n",
              "      <td>0.174628</td>\n",
              "      <td>0.014493</td>\n",
              "      <td>negative</td>\n",
              "    </tr>\n",
              "  </tbody>\n",
              "</table>\n",
              "</div>\n",
              "    <div class=\"colab-df-buttons\">\n",
              "\n",
              "  <div class=\"colab-df-container\">\n",
              "    <button class=\"colab-df-convert\" onclick=\"convertToInteractive('df-4b943599-063b-40f0-8090-e039e1ce0947')\"\n",
              "            title=\"Convert this dataframe to an interactive table.\"\n",
              "            style=\"display:none;\">\n",
              "\n",
              "  <svg xmlns=\"http://www.w3.org/2000/svg\" height=\"24px\" viewBox=\"0 -960 960 960\">\n",
              "    <path d=\"M120-120v-720h720v720H120Zm60-500h600v-160H180v160Zm220 220h160v-160H400v160Zm0 220h160v-160H400v160ZM180-400h160v-160H180v160Zm440 0h160v-160H620v160ZM180-180h160v-160H180v160Zm440 0h160v-160H620v160Z\"/>\n",
              "  </svg>\n",
              "    </button>\n",
              "\n",
              "  <style>\n",
              "    .colab-df-container {\n",
              "      display:flex;\n",
              "      gap: 12px;\n",
              "    }\n",
              "\n",
              "    .colab-df-convert {\n",
              "      background-color: #E8F0FE;\n",
              "      border: none;\n",
              "      border-radius: 50%;\n",
              "      cursor: pointer;\n",
              "      display: none;\n",
              "      fill: #1967D2;\n",
              "      height: 32px;\n",
              "      padding: 0 0 0 0;\n",
              "      width: 32px;\n",
              "    }\n",
              "\n",
              "    .colab-df-convert:hover {\n",
              "      background-color: #E2EBFA;\n",
              "      box-shadow: 0px 1px 2px rgba(60, 64, 67, 0.3), 0px 1px 3px 1px rgba(60, 64, 67, 0.15);\n",
              "      fill: #174EA6;\n",
              "    }\n",
              "\n",
              "    .colab-df-buttons div {\n",
              "      margin-bottom: 4px;\n",
              "    }\n",
              "\n",
              "    [theme=dark] .colab-df-convert {\n",
              "      background-color: #3B4455;\n",
              "      fill: #D2E3FC;\n",
              "    }\n",
              "\n",
              "    [theme=dark] .colab-df-convert:hover {\n",
              "      background-color: #434B5C;\n",
              "      box-shadow: 0px 1px 3px 1px rgba(0, 0, 0, 0.15);\n",
              "      filter: drop-shadow(0px 1px 2px rgba(0, 0, 0, 0.3));\n",
              "      fill: #FFFFFF;\n",
              "    }\n",
              "  </style>\n",
              "\n",
              "    <script>\n",
              "      const buttonEl =\n",
              "        document.querySelector('#df-4b943599-063b-40f0-8090-e039e1ce0947 button.colab-df-convert');\n",
              "      buttonEl.style.display =\n",
              "        google.colab.kernel.accessAllowed ? 'block' : 'none';\n",
              "\n",
              "      async function convertToInteractive(key) {\n",
              "        const element = document.querySelector('#df-4b943599-063b-40f0-8090-e039e1ce0947');\n",
              "        const dataTable =\n",
              "          await google.colab.kernel.invokeFunction('convertToInteractive',\n",
              "                                                    [key], {});\n",
              "        if (!dataTable) return;\n",
              "\n",
              "        const docLinkHtml = 'Like what you see? Visit the ' +\n",
              "          '<a target=\"_blank\" href=https://colab.research.google.com/notebooks/data_table.ipynb>data table notebook</a>'\n",
              "          + ' to learn more about interactive tables.';\n",
              "        element.innerHTML = '';\n",
              "        dataTable['output_type'] = 'display_data';\n",
              "        await google.colab.output.renderOutput(dataTable, element);\n",
              "        const docLink = document.createElement('div');\n",
              "        docLink.innerHTML = docLinkHtml;\n",
              "        element.appendChild(docLink);\n",
              "      }\n",
              "    </script>\n",
              "  </div>\n",
              "\n",
              "\n",
              "<div id=\"df-3bf75198-8eca-43a1-9d0e-605b58f540a8\">\n",
              "  <button class=\"colab-df-quickchart\" onclick=\"quickchart('df-3bf75198-8eca-43a1-9d0e-605b58f540a8')\"\n",
              "            title=\"Suggest charts\"\n",
              "            style=\"display:none;\">\n",
              "\n",
              "<svg xmlns=\"http://www.w3.org/2000/svg\" height=\"24px\"viewBox=\"0 0 24 24\"\n",
              "     width=\"24px\">\n",
              "    <g>\n",
              "        <path d=\"M19 3H5c-1.1 0-2 .9-2 2v14c0 1.1.9 2 2 2h14c1.1 0 2-.9 2-2V5c0-1.1-.9-2-2-2zM9 17H7v-7h2v7zm4 0h-2V7h2v10zm4 0h-2v-4h2v4z\"/>\n",
              "    </g>\n",
              "</svg>\n",
              "  </button>\n",
              "\n",
              "<style>\n",
              "  .colab-df-quickchart {\n",
              "      --bg-color: #E8F0FE;\n",
              "      --fill-color: #1967D2;\n",
              "      --hover-bg-color: #E2EBFA;\n",
              "      --hover-fill-color: #174EA6;\n",
              "      --disabled-fill-color: #AAA;\n",
              "      --disabled-bg-color: #DDD;\n",
              "  }\n",
              "\n",
              "  [theme=dark] .colab-df-quickchart {\n",
              "      --bg-color: #3B4455;\n",
              "      --fill-color: #D2E3FC;\n",
              "      --hover-bg-color: #434B5C;\n",
              "      --hover-fill-color: #FFFFFF;\n",
              "      --disabled-bg-color: #3B4455;\n",
              "      --disabled-fill-color: #666;\n",
              "  }\n",
              "\n",
              "  .colab-df-quickchart {\n",
              "    background-color: var(--bg-color);\n",
              "    border: none;\n",
              "    border-radius: 50%;\n",
              "    cursor: pointer;\n",
              "    display: none;\n",
              "    fill: var(--fill-color);\n",
              "    height: 32px;\n",
              "    padding: 0;\n",
              "    width: 32px;\n",
              "  }\n",
              "\n",
              "  .colab-df-quickchart:hover {\n",
              "    background-color: var(--hover-bg-color);\n",
              "    box-shadow: 0 1px 2px rgba(60, 64, 67, 0.3), 0 1px 3px 1px rgba(60, 64, 67, 0.15);\n",
              "    fill: var(--button-hover-fill-color);\n",
              "  }\n",
              "\n",
              "  .colab-df-quickchart-complete:disabled,\n",
              "  .colab-df-quickchart-complete:disabled:hover {\n",
              "    background-color: var(--disabled-bg-color);\n",
              "    fill: var(--disabled-fill-color);\n",
              "    box-shadow: none;\n",
              "  }\n",
              "\n",
              "  .colab-df-spinner {\n",
              "    border: 2px solid var(--fill-color);\n",
              "    border-color: transparent;\n",
              "    border-bottom-color: var(--fill-color);\n",
              "    animation:\n",
              "      spin 1s steps(1) infinite;\n",
              "  }\n",
              "\n",
              "  @keyframes spin {\n",
              "    0% {\n",
              "      border-color: transparent;\n",
              "      border-bottom-color: var(--fill-color);\n",
              "      border-left-color: var(--fill-color);\n",
              "    }\n",
              "    20% {\n",
              "      border-color: transparent;\n",
              "      border-left-color: var(--fill-color);\n",
              "      border-top-color: var(--fill-color);\n",
              "    }\n",
              "    30% {\n",
              "      border-color: transparent;\n",
              "      border-left-color: var(--fill-color);\n",
              "      border-top-color: var(--fill-color);\n",
              "      border-right-color: var(--fill-color);\n",
              "    }\n",
              "    40% {\n",
              "      border-color: transparent;\n",
              "      border-right-color: var(--fill-color);\n",
              "      border-top-color: var(--fill-color);\n",
              "    }\n",
              "    60% {\n",
              "      border-color: transparent;\n",
              "      border-right-color: var(--fill-color);\n",
              "    }\n",
              "    80% {\n",
              "      border-color: transparent;\n",
              "      border-right-color: var(--fill-color);\n",
              "      border-bottom-color: var(--fill-color);\n",
              "    }\n",
              "    90% {\n",
              "      border-color: transparent;\n",
              "      border-bottom-color: var(--fill-color);\n",
              "    }\n",
              "  }\n",
              "</style>\n",
              "\n",
              "  <script>\n",
              "    async function quickchart(key) {\n",
              "      const quickchartButtonEl =\n",
              "        document.querySelector('#' + key + ' button');\n",
              "      quickchartButtonEl.disabled = true;  // To prevent multiple clicks.\n",
              "      quickchartButtonEl.classList.add('colab-df-spinner');\n",
              "      try {\n",
              "        const charts = await google.colab.kernel.invokeFunction(\n",
              "            'suggestCharts', [key], {});\n",
              "      } catch (error) {\n",
              "        console.error('Error during call to suggestCharts:', error);\n",
              "      }\n",
              "      quickchartButtonEl.classList.remove('colab-df-spinner');\n",
              "      quickchartButtonEl.classList.add('colab-df-quickchart-complete');\n",
              "    }\n",
              "    (() => {\n",
              "      let quickchartButtonEl =\n",
              "        document.querySelector('#df-3bf75198-8eca-43a1-9d0e-605b58f540a8 button');\n",
              "      quickchartButtonEl.style.display =\n",
              "        google.colab.kernel.accessAllowed ? 'block' : 'none';\n",
              "    })();\n",
              "  </script>\n",
              "</div>\n",
              "    </div>\n",
              "  </div>\n"
            ],
            "application/vnd.google.colaboratory.intrinsic+json": {
              "type": "dataframe",
              "variable_name": "dfHeart",
              "summary": "{\n  \"name\": \"dfHeart\",\n  \"rows\": 643,\n  \"fields\": [\n    {\n      \"column\": \"age\",\n      \"properties\": {\n        \"dtype\": \"number\",\n        \"std\": 0.1760792385589369,\n        \"min\": 0.0,\n        \"max\": 0.9999999999999999,\n        \"num_unique_values\": 67,\n        \"samples\": [\n          0.7105263157894736,\n          0.4736842105263157,\n          0.644736842105263\n        ],\n        \"semantic_type\": \"\",\n        \"description\": \"\"\n      }\n    },\n    {\n      \"column\": \"gender\",\n      \"properties\": {\n        \"dtype\": \"number\",\n        \"std\": 0.48676917575147105,\n        \"min\": 0.0,\n        \"max\": 1.0,\n        \"num_unique_values\": 2,\n        \"samples\": [\n          0.0,\n          1.0\n        ],\n        \"semantic_type\": \"\",\n        \"description\": \"\"\n      }\n    },\n    {\n      \"column\": \"impluse\",\n      \"properties\": {\n        \"dtype\": \"number\",\n        \"std\": 0.19492735016310017,\n        \"min\": 0.0,\n        \"max\": 1.0,\n        \"num_unique_values\": 63,\n        \"samples\": [\n          0.0,\n          0.05633802816901401\n        ],\n        \"semantic_type\": \"\",\n        \"description\": \"\"\n      }\n    },\n    {\n      \"column\": \"pressurehight\",\n      \"properties\": {\n        \"dtype\": \"number\",\n        \"std\": 0.1968984355394898,\n        \"min\": 0.0,\n        \"max\": 1.0000000000000002,\n        \"num_unique_values\": 70,\n        \"samples\": [\n          0.35483870967741926,\n          0.6451612903225807\n        ],\n        \"semantic_type\": \"\",\n        \"description\": \"\"\n      }\n    },\n    {\n      \"column\": \"pressurelow\",\n      \"properties\": {\n        \"dtype\": \"number\",\n        \"std\": 0.26511815334957145,\n        \"min\": 0.0,\n        \"max\": 0.9999999999999998,\n        \"num_unique_values\": 36,\n        \"samples\": [\n          0.9142857142857144,\n          0.17142857142857149\n        ],\n        \"semantic_type\": \"\",\n        \"description\": \"\"\n      }\n    },\n    {\n      \"column\": \"glucose\",\n      \"properties\": {\n        \"dtype\": \"number\",\n        \"std\": 0.15407142513201755,\n        \"min\": 0.0,\n        \"max\": 0.9999999999999998,\n        \"num_unique_values\": 196,\n        \"samples\": [\n          0.616600790513834,\n          0.1660079051383399\n        ],\n        \"semantic_type\": \"\",\n        \"description\": \"\"\n      }\n    },\n    {\n      \"column\": \"kcm\",\n      \"properties\": {\n        \"dtype\": \"number\",\n        \"std\": 0.1800460047515693,\n        \"min\": 0.0,\n        \"max\": 1.0,\n        \"num_unique_values\": 384,\n        \"samples\": [\n          0.37516137361218693,\n          0.3295464325673466\n        ],\n        \"semantic_type\": \"\",\n        \"description\": \"\"\n      }\n    },\n    {\n      \"column\": \"troponin\",\n      \"properties\": {\n        \"dtype\": \"number\",\n        \"std\": 0.1685197007854959,\n        \"min\": 0.0,\n        \"max\": 1.0,\n        \"num_unique_values\": 104,\n        \"samples\": [\n          0.1352657004830918,\n          0.20289855072463767\n        ],\n        \"semantic_type\": \"\",\n        \"description\": \"\"\n      }\n    },\n    {\n      \"column\": \"class\",\n      \"properties\": {\n        \"dtype\": \"category\",\n        \"num_unique_values\": 2,\n        \"samples\": [\n          \"positive\",\n          \"negative\"\n        ],\n        \"semantic_type\": \"\",\n        \"description\": \"\"\n      }\n    }\n  ]\n}"
            }
          },
          "metadata": {},
          "execution_count": 68
        }
      ]
    },
    {
      "cell_type": "markdown",
      "source": [
        "**According to this MetaData provided in kaggle Datacard i will remap the values of target then will encode it when needed for our model later on**"
      ],
      "metadata": {
        "id": "ampZVOE223w4"
      }
    },
    {
      "cell_type": "code",
      "source": [
        "mapping = {'-':\"Negative\",\n",
        "           'A':'Hyperthyroid','AK':\"Hyperthyroid\",'B':\"Hyperthyroid\", 'C':\"Hyperthyroid\", 'C|I': 'Hyperthyroid', 'D':\"Hyperthyroid\", 'D|R':\"Hyperthyroid\",\n",
        "           'E': \"Hypothyroid\", 'F': \"Hypothyroid\", 'FK': \"Hypothyroid\", \"G\": \"Hypothyroid\", \"GK\": \"Hypothyroid\", \"GI\": \"Hypothyroid\", 'GKJ': 'Hypothyroid', 'H|K': 'Hypothyroid',\n",
        "          }\n",
        "default_category = \"Unknown\"\n",
        "\n",
        "dfThyroid['target'] = dfThyroid['target'].apply(lambda x: mapping.get(x, default_category))\n"
      ],
      "metadata": {
        "id": "YQAvrH131spD"
      },
      "execution_count": null,
      "outputs": []
    },
    {
      "cell_type": "code",
      "source": [
        "dfThyroid[\"target\"].value_counts()"
      ],
      "metadata": {
        "id": "SdBll-Wg0W52",
        "colab": {
          "base_uri": "https://localhost:8080/"
        },
        "outputId": "fcabf5fb-8da5-4212-aec0-69771fb55b05"
      },
      "execution_count": null,
      "outputs": [
        {
          "output_type": "execute_result",
          "data": {
            "text/plain": [
              "target\n",
              "Negative        6452\n",
              "Unknown          784\n",
              "Hyperthyroid      34\n",
              "Hypothyroid        4\n",
              "Name: count, dtype: int64"
            ]
          },
          "metadata": {},
          "execution_count": 70
        }
      ]
    },
    {
      "cell_type": "code",
      "source": [
        "dfHeart[\"class\"].value_counts()"
      ],
      "metadata": {
        "colab": {
          "base_uri": "https://localhost:8080/"
        },
        "id": "NPC_M7hj3Pdi",
        "outputId": "eec8623e-1059-4f72-f82b-a4b85b70efc5"
      },
      "execution_count": null,
      "outputs": [
        {
          "output_type": "execute_result",
          "data": {
            "text/plain": [
              "class\n",
              "negative    368\n",
              "positive    275\n",
              "Name: count, dtype: int64"
            ]
          },
          "metadata": {},
          "execution_count": 71
        }
      ]
    },
    {
      "cell_type": "code",
      "source": [
        "dfThyroid.columns"
      ],
      "metadata": {
        "colab": {
          "base_uri": "https://localhost:8080/"
        },
        "id": "UKRr42-JPSPV",
        "outputId": "55147ca7-e0e5-4681-9422-a609bf333eb8"
      },
      "execution_count": null,
      "outputs": [
        {
          "output_type": "execute_result",
          "data": {
            "text/plain": [
              "Index(['age', 'sex', 'on_thyroxine', 'query_on_thyroxine',\n",
              "       'on_antithyroid_meds', 'sick', 'pregnant', 'thyroid_surgery',\n",
              "       'I131_treatment', 'query_hypothyroid', 'query_hyperthyroid', 'lithium',\n",
              "       'goitre', 'tumor', 'hypopituitary', 'psych', 'TSH', 'T3', 'TT4', 'T4U',\n",
              "       'FTI', 'target'],\n",
              "      dtype='object')"
            ]
          },
          "metadata": {},
          "execution_count": 72
        }
      ]
    },
    {
      "cell_type": "code",
      "source": [
        "dfThyroid.info()"
      ],
      "metadata": {
        "colab": {
          "base_uri": "https://localhost:8080/"
        },
        "id": "t6mZMAmaQqnc",
        "outputId": "42e008ad-27cd-4129-8635-5b9f90e60970"
      },
      "execution_count": null,
      "outputs": [
        {
          "output_type": "stream",
          "name": "stdout",
          "text": [
            "<class 'pandas.core.frame.DataFrame'>\n",
            "Index: 7274 entries, 0 to 9171\n",
            "Data columns (total 22 columns):\n",
            " #   Column               Non-Null Count  Dtype  \n",
            "---  ------               --------------  -----  \n",
            " 0   age                  7274 non-null   float64\n",
            " 1   sex                  7274 non-null   object \n",
            " 2   on_thyroxine         7274 non-null   object \n",
            " 3   query_on_thyroxine   7274 non-null   object \n",
            " 4   on_antithyroid_meds  7274 non-null   object \n",
            " 5   sick                 7274 non-null   object \n",
            " 6   pregnant             7274 non-null   object \n",
            " 7   thyroid_surgery      7274 non-null   object \n",
            " 8   I131_treatment       7274 non-null   object \n",
            " 9   query_hypothyroid    7274 non-null   object \n",
            " 10  query_hyperthyroid   7274 non-null   object \n",
            " 11  lithium              7274 non-null   object \n",
            " 12  goitre               7274 non-null   object \n",
            " 13  tumor                7274 non-null   object \n",
            " 14  hypopituitary        7274 non-null   object \n",
            " 15  psych                7274 non-null   object \n",
            " 16  TSH                  7274 non-null   float64\n",
            " 17  T3                   7274 non-null   float64\n",
            " 18  TT4                  7274 non-null   float64\n",
            " 19  T4U                  7274 non-null   float64\n",
            " 20  FTI                  7274 non-null   float64\n",
            " 21  target               7274 non-null   object \n",
            "dtypes: float64(6), object(16)\n",
            "memory usage: 1.3+ MB\n"
          ]
        }
      ]
    },
    {
      "cell_type": "code",
      "source": [
        "columns"
      ],
      "metadata": {
        "colab": {
          "base_uri": "https://localhost:8080/"
        },
        "id": "gxvU5ZMAQnvb",
        "outputId": "5809dffc-c7bb-4ac3-fbdd-89cd41742890"
      },
      "execution_count": null,
      "outputs": [
        {
          "output_type": "execute_result",
          "data": {
            "text/plain": [
              "Index(['age', 'gender', 'impluse', 'pressurehight', 'pressurelow', 'glucose',\n",
              "       'kcm', 'troponin'],\n",
              "      dtype='object')"
            ]
          },
          "metadata": {},
          "execution_count": 74
        }
      ]
    },
    {
      "cell_type": "code",
      "source": [
        "dfHeart.head()"
      ],
      "metadata": {
        "colab": {
          "base_uri": "https://localhost:8080/",
          "height": 206
        },
        "id": "ZQn8xngEM_v0",
        "outputId": "72116da9-a196-441a-f485-f3eb97cbd6f1"
      },
      "execution_count": null,
      "outputs": [
        {
          "output_type": "execute_result",
          "data": {
            "text/plain": [
              "        age  gender   impluse  pressurehight  pressurelow   glucose       kcm  \\\n",
              "0  0.657895     1.0  0.295775       0.645161     0.800000  0.247036  0.127292   \n",
              "2  0.539474     1.0  0.267606       0.645161     0.628571  0.464427  0.143644   \n",
              "4  0.539474     1.0  0.267606       0.129032     0.285714  0.523715  0.065324   \n",
              "5  0.578947     0.0  0.225352       0.129032     0.085714  0.102767  0.129873   \n",
              "8  0.394737     0.0  0.211268       0.580645     0.742857  0.197628  0.174628   \n",
              "\n",
              "   troponin     class  \n",
              "0  0.053140  negative  \n",
              "2  0.009662  negative  \n",
              "4  0.009662  negative  \n",
              "5  0.014493  negative  \n",
              "8  0.014493  negative  "
            ],
            "text/html": [
              "\n",
              "  <div id=\"df-25ca0ca4-4807-4974-8b83-720b457d7f19\" class=\"colab-df-container\">\n",
              "    <div>\n",
              "<style scoped>\n",
              "    .dataframe tbody tr th:only-of-type {\n",
              "        vertical-align: middle;\n",
              "    }\n",
              "\n",
              "    .dataframe tbody tr th {\n",
              "        vertical-align: top;\n",
              "    }\n",
              "\n",
              "    .dataframe thead th {\n",
              "        text-align: right;\n",
              "    }\n",
              "</style>\n",
              "<table border=\"1\" class=\"dataframe\">\n",
              "  <thead>\n",
              "    <tr style=\"text-align: right;\">\n",
              "      <th></th>\n",
              "      <th>age</th>\n",
              "      <th>gender</th>\n",
              "      <th>impluse</th>\n",
              "      <th>pressurehight</th>\n",
              "      <th>pressurelow</th>\n",
              "      <th>glucose</th>\n",
              "      <th>kcm</th>\n",
              "      <th>troponin</th>\n",
              "      <th>class</th>\n",
              "    </tr>\n",
              "  </thead>\n",
              "  <tbody>\n",
              "    <tr>\n",
              "      <th>0</th>\n",
              "      <td>0.657895</td>\n",
              "      <td>1.0</td>\n",
              "      <td>0.295775</td>\n",
              "      <td>0.645161</td>\n",
              "      <td>0.800000</td>\n",
              "      <td>0.247036</td>\n",
              "      <td>0.127292</td>\n",
              "      <td>0.053140</td>\n",
              "      <td>negative</td>\n",
              "    </tr>\n",
              "    <tr>\n",
              "      <th>2</th>\n",
              "      <td>0.539474</td>\n",
              "      <td>1.0</td>\n",
              "      <td>0.267606</td>\n",
              "      <td>0.645161</td>\n",
              "      <td>0.628571</td>\n",
              "      <td>0.464427</td>\n",
              "      <td>0.143644</td>\n",
              "      <td>0.009662</td>\n",
              "      <td>negative</td>\n",
              "    </tr>\n",
              "    <tr>\n",
              "      <th>4</th>\n",
              "      <td>0.539474</td>\n",
              "      <td>1.0</td>\n",
              "      <td>0.267606</td>\n",
              "      <td>0.129032</td>\n",
              "      <td>0.285714</td>\n",
              "      <td>0.523715</td>\n",
              "      <td>0.065324</td>\n",
              "      <td>0.009662</td>\n",
              "      <td>negative</td>\n",
              "    </tr>\n",
              "    <tr>\n",
              "      <th>5</th>\n",
              "      <td>0.578947</td>\n",
              "      <td>0.0</td>\n",
              "      <td>0.225352</td>\n",
              "      <td>0.129032</td>\n",
              "      <td>0.085714</td>\n",
              "      <td>0.102767</td>\n",
              "      <td>0.129873</td>\n",
              "      <td>0.014493</td>\n",
              "      <td>negative</td>\n",
              "    </tr>\n",
              "    <tr>\n",
              "      <th>8</th>\n",
              "      <td>0.394737</td>\n",
              "      <td>0.0</td>\n",
              "      <td>0.211268</td>\n",
              "      <td>0.580645</td>\n",
              "      <td>0.742857</td>\n",
              "      <td>0.197628</td>\n",
              "      <td>0.174628</td>\n",
              "      <td>0.014493</td>\n",
              "      <td>negative</td>\n",
              "    </tr>\n",
              "  </tbody>\n",
              "</table>\n",
              "</div>\n",
              "    <div class=\"colab-df-buttons\">\n",
              "\n",
              "  <div class=\"colab-df-container\">\n",
              "    <button class=\"colab-df-convert\" onclick=\"convertToInteractive('df-25ca0ca4-4807-4974-8b83-720b457d7f19')\"\n",
              "            title=\"Convert this dataframe to an interactive table.\"\n",
              "            style=\"display:none;\">\n",
              "\n",
              "  <svg xmlns=\"http://www.w3.org/2000/svg\" height=\"24px\" viewBox=\"0 -960 960 960\">\n",
              "    <path d=\"M120-120v-720h720v720H120Zm60-500h600v-160H180v160Zm220 220h160v-160H400v160Zm0 220h160v-160H400v160ZM180-400h160v-160H180v160Zm440 0h160v-160H620v160ZM180-180h160v-160H180v160Zm440 0h160v-160H620v160Z\"/>\n",
              "  </svg>\n",
              "    </button>\n",
              "\n",
              "  <style>\n",
              "    .colab-df-container {\n",
              "      display:flex;\n",
              "      gap: 12px;\n",
              "    }\n",
              "\n",
              "    .colab-df-convert {\n",
              "      background-color: #E8F0FE;\n",
              "      border: none;\n",
              "      border-radius: 50%;\n",
              "      cursor: pointer;\n",
              "      display: none;\n",
              "      fill: #1967D2;\n",
              "      height: 32px;\n",
              "      padding: 0 0 0 0;\n",
              "      width: 32px;\n",
              "    }\n",
              "\n",
              "    .colab-df-convert:hover {\n",
              "      background-color: #E2EBFA;\n",
              "      box-shadow: 0px 1px 2px rgba(60, 64, 67, 0.3), 0px 1px 3px 1px rgba(60, 64, 67, 0.15);\n",
              "      fill: #174EA6;\n",
              "    }\n",
              "\n",
              "    .colab-df-buttons div {\n",
              "      margin-bottom: 4px;\n",
              "    }\n",
              "\n",
              "    [theme=dark] .colab-df-convert {\n",
              "      background-color: #3B4455;\n",
              "      fill: #D2E3FC;\n",
              "    }\n",
              "\n",
              "    [theme=dark] .colab-df-convert:hover {\n",
              "      background-color: #434B5C;\n",
              "      box-shadow: 0px 1px 3px 1px rgba(0, 0, 0, 0.15);\n",
              "      filter: drop-shadow(0px 1px 2px rgba(0, 0, 0, 0.3));\n",
              "      fill: #FFFFFF;\n",
              "    }\n",
              "  </style>\n",
              "\n",
              "    <script>\n",
              "      const buttonEl =\n",
              "        document.querySelector('#df-25ca0ca4-4807-4974-8b83-720b457d7f19 button.colab-df-convert');\n",
              "      buttonEl.style.display =\n",
              "        google.colab.kernel.accessAllowed ? 'block' : 'none';\n",
              "\n",
              "      async function convertToInteractive(key) {\n",
              "        const element = document.querySelector('#df-25ca0ca4-4807-4974-8b83-720b457d7f19');\n",
              "        const dataTable =\n",
              "          await google.colab.kernel.invokeFunction('convertToInteractive',\n",
              "                                                    [key], {});\n",
              "        if (!dataTable) return;\n",
              "\n",
              "        const docLinkHtml = 'Like what you see? Visit the ' +\n",
              "          '<a target=\"_blank\" href=https://colab.research.google.com/notebooks/data_table.ipynb>data table notebook</a>'\n",
              "          + ' to learn more about interactive tables.';\n",
              "        element.innerHTML = '';\n",
              "        dataTable['output_type'] = 'display_data';\n",
              "        await google.colab.output.renderOutput(dataTable, element);\n",
              "        const docLink = document.createElement('div');\n",
              "        docLink.innerHTML = docLinkHtml;\n",
              "        element.appendChild(docLink);\n",
              "      }\n",
              "    </script>\n",
              "  </div>\n",
              "\n",
              "\n",
              "<div id=\"df-952e6017-1e2a-433b-b04c-e8810bcd16b7\">\n",
              "  <button class=\"colab-df-quickchart\" onclick=\"quickchart('df-952e6017-1e2a-433b-b04c-e8810bcd16b7')\"\n",
              "            title=\"Suggest charts\"\n",
              "            style=\"display:none;\">\n",
              "\n",
              "<svg xmlns=\"http://www.w3.org/2000/svg\" height=\"24px\"viewBox=\"0 0 24 24\"\n",
              "     width=\"24px\">\n",
              "    <g>\n",
              "        <path d=\"M19 3H5c-1.1 0-2 .9-2 2v14c0 1.1.9 2 2 2h14c1.1 0 2-.9 2-2V5c0-1.1-.9-2-2-2zM9 17H7v-7h2v7zm4 0h-2V7h2v10zm4 0h-2v-4h2v4z\"/>\n",
              "    </g>\n",
              "</svg>\n",
              "  </button>\n",
              "\n",
              "<style>\n",
              "  .colab-df-quickchart {\n",
              "      --bg-color: #E8F0FE;\n",
              "      --fill-color: #1967D2;\n",
              "      --hover-bg-color: #E2EBFA;\n",
              "      --hover-fill-color: #174EA6;\n",
              "      --disabled-fill-color: #AAA;\n",
              "      --disabled-bg-color: #DDD;\n",
              "  }\n",
              "\n",
              "  [theme=dark] .colab-df-quickchart {\n",
              "      --bg-color: #3B4455;\n",
              "      --fill-color: #D2E3FC;\n",
              "      --hover-bg-color: #434B5C;\n",
              "      --hover-fill-color: #FFFFFF;\n",
              "      --disabled-bg-color: #3B4455;\n",
              "      --disabled-fill-color: #666;\n",
              "  }\n",
              "\n",
              "  .colab-df-quickchart {\n",
              "    background-color: var(--bg-color);\n",
              "    border: none;\n",
              "    border-radius: 50%;\n",
              "    cursor: pointer;\n",
              "    display: none;\n",
              "    fill: var(--fill-color);\n",
              "    height: 32px;\n",
              "    padding: 0;\n",
              "    width: 32px;\n",
              "  }\n",
              "\n",
              "  .colab-df-quickchart:hover {\n",
              "    background-color: var(--hover-bg-color);\n",
              "    box-shadow: 0 1px 2px rgba(60, 64, 67, 0.3), 0 1px 3px 1px rgba(60, 64, 67, 0.15);\n",
              "    fill: var(--button-hover-fill-color);\n",
              "  }\n",
              "\n",
              "  .colab-df-quickchart-complete:disabled,\n",
              "  .colab-df-quickchart-complete:disabled:hover {\n",
              "    background-color: var(--disabled-bg-color);\n",
              "    fill: var(--disabled-fill-color);\n",
              "    box-shadow: none;\n",
              "  }\n",
              "\n",
              "  .colab-df-spinner {\n",
              "    border: 2px solid var(--fill-color);\n",
              "    border-color: transparent;\n",
              "    border-bottom-color: var(--fill-color);\n",
              "    animation:\n",
              "      spin 1s steps(1) infinite;\n",
              "  }\n",
              "\n",
              "  @keyframes spin {\n",
              "    0% {\n",
              "      border-color: transparent;\n",
              "      border-bottom-color: var(--fill-color);\n",
              "      border-left-color: var(--fill-color);\n",
              "    }\n",
              "    20% {\n",
              "      border-color: transparent;\n",
              "      border-left-color: var(--fill-color);\n",
              "      border-top-color: var(--fill-color);\n",
              "    }\n",
              "    30% {\n",
              "      border-color: transparent;\n",
              "      border-left-color: var(--fill-color);\n",
              "      border-top-color: var(--fill-color);\n",
              "      border-right-color: var(--fill-color);\n",
              "    }\n",
              "    40% {\n",
              "      border-color: transparent;\n",
              "      border-right-color: var(--fill-color);\n",
              "      border-top-color: var(--fill-color);\n",
              "    }\n",
              "    60% {\n",
              "      border-color: transparent;\n",
              "      border-right-color: var(--fill-color);\n",
              "    }\n",
              "    80% {\n",
              "      border-color: transparent;\n",
              "      border-right-color: var(--fill-color);\n",
              "      border-bottom-color: var(--fill-color);\n",
              "    }\n",
              "    90% {\n",
              "      border-color: transparent;\n",
              "      border-bottom-color: var(--fill-color);\n",
              "    }\n",
              "  }\n",
              "</style>\n",
              "\n",
              "  <script>\n",
              "    async function quickchart(key) {\n",
              "      const quickchartButtonEl =\n",
              "        document.querySelector('#' + key + ' button');\n",
              "      quickchartButtonEl.disabled = true;  // To prevent multiple clicks.\n",
              "      quickchartButtonEl.classList.add('colab-df-spinner');\n",
              "      try {\n",
              "        const charts = await google.colab.kernel.invokeFunction(\n",
              "            'suggestCharts', [key], {});\n",
              "      } catch (error) {\n",
              "        console.error('Error during call to suggestCharts:', error);\n",
              "      }\n",
              "      quickchartButtonEl.classList.remove('colab-df-spinner');\n",
              "      quickchartButtonEl.classList.add('colab-df-quickchart-complete');\n",
              "    }\n",
              "    (() => {\n",
              "      let quickchartButtonEl =\n",
              "        document.querySelector('#df-952e6017-1e2a-433b-b04c-e8810bcd16b7 button');\n",
              "      quickchartButtonEl.style.display =\n",
              "        google.colab.kernel.accessAllowed ? 'block' : 'none';\n",
              "    })();\n",
              "  </script>\n",
              "</div>\n",
              "    </div>\n",
              "  </div>\n"
            ],
            "application/vnd.google.colaboratory.intrinsic+json": {
              "type": "dataframe",
              "variable_name": "dfHeart",
              "summary": "{\n  \"name\": \"dfHeart\",\n  \"rows\": 643,\n  \"fields\": [\n    {\n      \"column\": \"age\",\n      \"properties\": {\n        \"dtype\": \"number\",\n        \"std\": 0.1760792385589369,\n        \"min\": 0.0,\n        \"max\": 0.9999999999999999,\n        \"num_unique_values\": 67,\n        \"samples\": [\n          0.7105263157894736,\n          0.4736842105263157,\n          0.644736842105263\n        ],\n        \"semantic_type\": \"\",\n        \"description\": \"\"\n      }\n    },\n    {\n      \"column\": \"gender\",\n      \"properties\": {\n        \"dtype\": \"number\",\n        \"std\": 0.48676917575147105,\n        \"min\": 0.0,\n        \"max\": 1.0,\n        \"num_unique_values\": 2,\n        \"samples\": [\n          0.0,\n          1.0\n        ],\n        \"semantic_type\": \"\",\n        \"description\": \"\"\n      }\n    },\n    {\n      \"column\": \"impluse\",\n      \"properties\": {\n        \"dtype\": \"number\",\n        \"std\": 0.19492735016310017,\n        \"min\": 0.0,\n        \"max\": 1.0,\n        \"num_unique_values\": 63,\n        \"samples\": [\n          0.0,\n          0.05633802816901401\n        ],\n        \"semantic_type\": \"\",\n        \"description\": \"\"\n      }\n    },\n    {\n      \"column\": \"pressurehight\",\n      \"properties\": {\n        \"dtype\": \"number\",\n        \"std\": 0.1968984355394898,\n        \"min\": 0.0,\n        \"max\": 1.0000000000000002,\n        \"num_unique_values\": 70,\n        \"samples\": [\n          0.35483870967741926,\n          0.6451612903225807\n        ],\n        \"semantic_type\": \"\",\n        \"description\": \"\"\n      }\n    },\n    {\n      \"column\": \"pressurelow\",\n      \"properties\": {\n        \"dtype\": \"number\",\n        \"std\": 0.26511815334957145,\n        \"min\": 0.0,\n        \"max\": 0.9999999999999998,\n        \"num_unique_values\": 36,\n        \"samples\": [\n          0.9142857142857144,\n          0.17142857142857149\n        ],\n        \"semantic_type\": \"\",\n        \"description\": \"\"\n      }\n    },\n    {\n      \"column\": \"glucose\",\n      \"properties\": {\n        \"dtype\": \"number\",\n        \"std\": 0.15407142513201755,\n        \"min\": 0.0,\n        \"max\": 0.9999999999999998,\n        \"num_unique_values\": 196,\n        \"samples\": [\n          0.616600790513834,\n          0.1660079051383399\n        ],\n        \"semantic_type\": \"\",\n        \"description\": \"\"\n      }\n    },\n    {\n      \"column\": \"kcm\",\n      \"properties\": {\n        \"dtype\": \"number\",\n        \"std\": 0.1800460047515693,\n        \"min\": 0.0,\n        \"max\": 1.0,\n        \"num_unique_values\": 384,\n        \"samples\": [\n          0.37516137361218693,\n          0.3295464325673466\n        ],\n        \"semantic_type\": \"\",\n        \"description\": \"\"\n      }\n    },\n    {\n      \"column\": \"troponin\",\n      \"properties\": {\n        \"dtype\": \"number\",\n        \"std\": 0.1685197007854959,\n        \"min\": 0.0,\n        \"max\": 1.0,\n        \"num_unique_values\": 104,\n        \"samples\": [\n          0.1352657004830918,\n          0.20289855072463767\n        ],\n        \"semantic_type\": \"\",\n        \"description\": \"\"\n      }\n    },\n    {\n      \"column\": \"class\",\n      \"properties\": {\n        \"dtype\": \"category\",\n        \"num_unique_values\": 2,\n        \"samples\": [\n          \"positive\",\n          \"negative\"\n        ],\n        \"semantic_type\": \"\",\n        \"description\": \"\"\n      }\n    }\n  ]\n}"
            }
          },
          "metadata": {},
          "execution_count": 75
        }
      ]
    },
    {
      "cell_type": "code",
      "source": [
        "dfThyroid.info()"
      ],
      "metadata": {
        "colab": {
          "base_uri": "https://localhost:8080/"
        },
        "id": "yrhw92HZM8vS",
        "outputId": "d87f2d64-47f1-48b2-da9c-e6a9cebb71b6"
      },
      "execution_count": null,
      "outputs": [
        {
          "output_type": "stream",
          "name": "stdout",
          "text": [
            "<class 'pandas.core.frame.DataFrame'>\n",
            "Index: 7274 entries, 0 to 9171\n",
            "Data columns (total 22 columns):\n",
            " #   Column               Non-Null Count  Dtype  \n",
            "---  ------               --------------  -----  \n",
            " 0   age                  7274 non-null   float64\n",
            " 1   sex                  7274 non-null   object \n",
            " 2   on_thyroxine         7274 non-null   object \n",
            " 3   query_on_thyroxine   7274 non-null   object \n",
            " 4   on_antithyroid_meds  7274 non-null   object \n",
            " 5   sick                 7274 non-null   object \n",
            " 6   pregnant             7274 non-null   object \n",
            " 7   thyroid_surgery      7274 non-null   object \n",
            " 8   I131_treatment       7274 non-null   object \n",
            " 9   query_hypothyroid    7274 non-null   object \n",
            " 10  query_hyperthyroid   7274 non-null   object \n",
            " 11  lithium              7274 non-null   object \n",
            " 12  goitre               7274 non-null   object \n",
            " 13  tumor                7274 non-null   object \n",
            " 14  hypopituitary        7274 non-null   object \n",
            " 15  psych                7274 non-null   object \n",
            " 16  TSH                  7274 non-null   float64\n",
            " 17  T3                   7274 non-null   float64\n",
            " 18  TT4                  7274 non-null   float64\n",
            " 19  T4U                  7274 non-null   float64\n",
            " 20  FTI                  7274 non-null   float64\n",
            " 21  target               7274 non-null   object \n",
            "dtypes: float64(6), object(16)\n",
            "memory usage: 1.3+ MB\n"
          ]
        }
      ]
    },
    {
      "cell_type": "markdown",
      "source": [
        "**Encoding the data class and target to be usable in the models  **"
      ],
      "metadata": {
        "id": "XVt2VGCYygIv"
      }
    },
    {
      "cell_type": "code",
      "source": [
        "cat_cols = dfThyroid.select_dtypes(include=['object']).columns\n",
        "cat_cols"
      ],
      "metadata": {
        "colab": {
          "base_uri": "https://localhost:8080/"
        },
        "id": "qimYfZfWk5qj",
        "outputId": "7b8695a9-c72d-43cd-b2cb-87c04895fd9e"
      },
      "execution_count": null,
      "outputs": [
        {
          "output_type": "execute_result",
          "data": {
            "text/plain": [
              "Index(['sex', 'on_thyroxine', 'query_on_thyroxine', 'on_antithyroid_meds',\n",
              "       'sick', 'pregnant', 'thyroid_surgery', 'I131_treatment',\n",
              "       'query_hypothyroid', 'query_hyperthyroid', 'lithium', 'goitre', 'tumor',\n",
              "       'hypopituitary', 'psych', 'target'],\n",
              "      dtype='object')"
            ]
          },
          "metadata": {},
          "execution_count": 77
        }
      ]
    },
    {
      "cell_type": "code",
      "source": [
        "label_encoder = LabelEncoder()\n",
        "for col in cat_cols:\n",
        "    label_encoder.fit(dfThyroid[col])  # Fit on each column\n",
        "    dfThyroid[col] = label_encoder.transform(dfThyroid[col])  # Transform each column\n",
        "\n"
      ],
      "metadata": {
        "id": "jyVXiMl_kSyi"
      },
      "execution_count": null,
      "outputs": []
    },
    {
      "cell_type": "code",
      "source": [],
      "metadata": {
        "id": "JhDrXbIknyR1"
      },
      "execution_count": null,
      "outputs": []
    },
    {
      "cell_type": "code",
      "source": [
        "\n",
        "le = LabelEncoder()\n",
        "\n",
        "dfHeart['class'] = le.fit_transform(dfHeart['class'])\n"
      ],
      "metadata": {
        "id": "3X8hQFgY3jKr"
      },
      "execution_count": null,
      "outputs": []
    },
    {
      "cell_type": "code",
      "source": [
        "dfHeart['class'].value_counts()"
      ],
      "metadata": {
        "colab": {
          "base_uri": "https://localhost:8080/"
        },
        "id": "6Ask-6lwya_l",
        "outputId": "df3f72c1-0d96-4aa0-fb9b-8c92b232f92a"
      },
      "execution_count": null,
      "outputs": [
        {
          "output_type": "execute_result",
          "data": {
            "text/plain": [
              "class\n",
              "0    368\n",
              "1    275\n",
              "Name: count, dtype: int64"
            ]
          },
          "metadata": {},
          "execution_count": 80
        }
      ]
    },
    {
      "cell_type": "code",
      "source": [
        "dfThyroid['target'] = le.fit_transform(dfThyroid['target'])"
      ],
      "metadata": {
        "id": "4my5NcZTyfCr"
      },
      "execution_count": null,
      "outputs": []
    },
    {
      "cell_type": "code",
      "source": [
        "dfThyroid['target'].value_counts()"
      ],
      "metadata": {
        "colab": {
          "base_uri": "https://localhost:8080/"
        },
        "id": "_7iLOQo7ywlU",
        "outputId": "903cdbb1-a907-4c0c-ca14-cd1730cddbee"
      },
      "execution_count": null,
      "outputs": [
        {
          "output_type": "execute_result",
          "data": {
            "text/plain": [
              "target\n",
              "2    6452\n",
              "3     784\n",
              "0      34\n",
              "1       4\n",
              "Name: count, dtype: int64"
            ]
          },
          "metadata": {},
          "execution_count": 82
        }
      ]
    },
    {
      "cell_type": "markdown",
      "source": [
        "**Model Implementation**\n",
        "\n",
        "RandomForests,Adaboost"
      ],
      "metadata": {
        "id": "eyPYowyxzbRR"
      }
    },
    {
      "cell_type": "code",
      "source": [
        "HeartX_train, HeartX_test, HeartY_train, HeartY_test = train_test_split(dfHeart.drop(\"class\", axis = 1), dfHeart[\"class\"], test_size=0.2, random_state=42)\n",
        "ThyroidX_train, ThyroidX_test, ThyroidY_train, ThyroidY_test = train_test_split(dfThyroid.drop(\"target\", axis = 1), dfThyroid[\"target\"], test_size=0.2, random_state=42)\n"
      ],
      "metadata": {
        "id": "filbB6W8y1U8"
      },
      "execution_count": null,
      "outputs": []
    },
    {
      "cell_type": "code",
      "source": [
        "randomModel = RandomForestClassifier()\n",
        "#randomRegressor = RandomForestRegressor()"
      ],
      "metadata": {
        "id": "1BIyS7v00cS7"
      },
      "execution_count": null,
      "outputs": []
    },
    {
      "cell_type": "code",
      "source": [
        "random_forest_clf = RandomForestClassifier(n_estimators=100, max_depth=5, random_state=42)\n",
        "\n",
        "random_forest_clf.fit(ThyroidX_train, ThyroidY_train)\n",
        "random_forest_predictions = random_forest_clf.predict(ThyroidX_test)\n",
        "random_forest_accuracy = accuracy_score(ThyroidY_test, random_forest_predictions)\n",
        "print(random_forest_accuracy)"
      ],
      "metadata": {
        "colab": {
          "base_uri": "https://localhost:8080/"
        },
        "id": "fCze8Ax-0zr7",
        "outputId": "39fbbf6b-8815-4a5e-8cac-1e8392017f7b"
      },
      "execution_count": null,
      "outputs": [
        {
          "output_type": "stream",
          "name": "stdout",
          "text": [
            "0.9305841924398626\n"
          ]
        }
      ]
    },
    {
      "cell_type": "code",
      "source": [
        "random_forest_clf = RandomForestClassifier(n_estimators=100, max_depth=5, random_state=42)\n",
        "\n",
        "random_forest_clf.fit(HeartX_train, HeartY_train)\n",
        "random_forest_predictions = random_forest_clf.predict(HeartX_test)\n",
        "random_forest_accuracy = accuracy_score(HeartY_test, random_forest_predictions)\n",
        "print(random_forest_accuracy)"
      ],
      "metadata": {
        "colab": {
          "base_uri": "https://localhost:8080/"
        },
        "id": "ilsHGe53yonA",
        "outputId": "3ba804ee-7f6c-41dd-a0e1-97094348c287"
      },
      "execution_count": null,
      "outputs": [
        {
          "output_type": "stream",
          "name": "stdout",
          "text": [
            "0.9844961240310077\n"
          ]
        }
      ]
    },
    {
      "cell_type": "code",
      "source": [
        "adaboost_clf = AdaBoostClassifier(n_estimators=100, learning_rate=1.0, random_state=42)\n",
        "\n",
        "adaboost_clf.fit(ThyroidX_train, ThyroidY_train)\n",
        "\n",
        "adaboost_clf_predictions = adaboost_clf.predict(ThyroidX_test)\n",
        "adaboost_clf_accuracy = accuracy_score(ThyroidY_test, adaboost_clf_predictions)\n",
        "print(adaboost_clf_accuracy)"
      ],
      "metadata": {
        "colab": {
          "base_uri": "https://localhost:8080/"
        },
        "id": "rD2SlFMizuyS",
        "outputId": "39cb15d4-6781-4824-fb6f-5883a312b274"
      },
      "execution_count": null,
      "outputs": [
        {
          "output_type": "stream",
          "name": "stdout",
          "text": [
            "0.931958762886598\n"
          ]
        }
      ]
    },
    {
      "cell_type": "code",
      "source": [
        "adaboost_clf = AdaBoostClassifier(n_estimators=100, learning_rate=1.0, random_state=42)\n",
        "\n",
        "adaboost_clf.fit(HeartX_train, HeartY_train)\n",
        "\n",
        "adaboost_clf_predictions = adaboost_clf.predict(HeartX_test)\n",
        "adaboost_clf_accuracy = accuracy_score(HeartY_test, adaboost_clf_predictions)\n",
        "print(adaboost_clf_accuracy)"
      ],
      "metadata": {
        "id": "tAl13OrI2VuI",
        "colab": {
          "base_uri": "https://localhost:8080/"
        },
        "outputId": "eb2074de-2cc1-44b3-e1a6-5d561dab1ba4"
      },
      "execution_count": null,
      "outputs": [
        {
          "output_type": "stream",
          "name": "stdout",
          "text": [
            "0.9689922480620154\n"
          ]
        }
      ]
    },
    {
      "cell_type": "code",
      "source": [
        "# Initialize AdaBoost with Random Forest as the base classifier\n",
        "ada_rf_clf = AdaBoostClassifier(base_estimator=RandomForestClassifier(random_state=42), random_state=42)\n",
        "ada_rf_clf.fit(HeartX_train, HeartY_train)\n",
        "\n",
        "predictions = ada_rf_clf.predict(HeartX_test)\n",
        "accuracy = accuracy_score(HeartY_test, predictions)\n",
        "print(accuracy)"
      ],
      "metadata": {
        "colab": {
          "base_uri": "https://localhost:8080/"
        },
        "id": "ArYAF5QQoRwA",
        "outputId": "f368402e-73d3-4766-8612-769dd12025ea"
      },
      "execution_count": null,
      "outputs": [
        {
          "output_type": "stream",
          "name": "stderr",
          "text": [
            "/usr/local/lib/python3.10/dist-packages/sklearn/ensemble/_base.py:166: FutureWarning: `base_estimator` was renamed to `estimator` in version 1.2 and will be removed in 1.4.\n",
            "  warnings.warn(\n"
          ]
        },
        {
          "output_type": "stream",
          "name": "stdout",
          "text": [
            "0.9844961240310077\n"
          ]
        }
      ]
    },
    {
      "cell_type": "markdown",
      "source": [
        "**Grid Search**"
      ],
      "metadata": {
        "id": "ZQTLDQoE1fZF"
      }
    },
    {
      "cell_type": "code",
      "source": [
        "param_grid_ada = {\n",
        "    'n_estimators': [50, 100, 200],\n",
        "    'learning_rate': [0.01, 0.1, 1]\n",
        "}\n",
        "grid_search_ada = GridSearchCV(AdaBoostClassifier(random_state=42), param_grid_ada, cv=5)\n",
        "grid_search_ada.fit(HeartX_train, HeartY_train)\n",
        "\n"
      ],
      "metadata": {
        "colab": {
          "base_uri": "https://localhost:8080/",
          "height": 118
        },
        "id": "KAUa6Q2SoyWG",
        "outputId": "f9b19596-2886-4f00-eaee-61d3b0cfd4e7"
      },
      "execution_count": null,
      "outputs": [
        {
          "output_type": "execute_result",
          "data": {
            "text/plain": [
              "GridSearchCV(cv=5, estimator=AdaBoostClassifier(random_state=42),\n",
              "             param_grid={'learning_rate': [0.01, 0.1, 1],\n",
              "                         'n_estimators': [50, 100, 200]})"
            ],
            "text/html": [
              "<style>#sk-container-id-1 {color: black;background-color: white;}#sk-container-id-1 pre{padding: 0;}#sk-container-id-1 div.sk-toggleable {background-color: white;}#sk-container-id-1 label.sk-toggleable__label {cursor: pointer;display: block;width: 100%;margin-bottom: 0;padding: 0.3em;box-sizing: border-box;text-align: center;}#sk-container-id-1 label.sk-toggleable__label-arrow:before {content: \"▸\";float: left;margin-right: 0.25em;color: #696969;}#sk-container-id-1 label.sk-toggleable__label-arrow:hover:before {color: black;}#sk-container-id-1 div.sk-estimator:hover label.sk-toggleable__label-arrow:before {color: black;}#sk-container-id-1 div.sk-toggleable__content {max-height: 0;max-width: 0;overflow: hidden;text-align: left;background-color: #f0f8ff;}#sk-container-id-1 div.sk-toggleable__content pre {margin: 0.2em;color: black;border-radius: 0.25em;background-color: #f0f8ff;}#sk-container-id-1 input.sk-toggleable__control:checked~div.sk-toggleable__content {max-height: 200px;max-width: 100%;overflow: auto;}#sk-container-id-1 input.sk-toggleable__control:checked~label.sk-toggleable__label-arrow:before {content: \"▾\";}#sk-container-id-1 div.sk-estimator input.sk-toggleable__control:checked~label.sk-toggleable__label {background-color: #d4ebff;}#sk-container-id-1 div.sk-label input.sk-toggleable__control:checked~label.sk-toggleable__label {background-color: #d4ebff;}#sk-container-id-1 input.sk-hidden--visually {border: 0;clip: rect(1px 1px 1px 1px);clip: rect(1px, 1px, 1px, 1px);height: 1px;margin: -1px;overflow: hidden;padding: 0;position: absolute;width: 1px;}#sk-container-id-1 div.sk-estimator {font-family: monospace;background-color: #f0f8ff;border: 1px dotted black;border-radius: 0.25em;box-sizing: border-box;margin-bottom: 0.5em;}#sk-container-id-1 div.sk-estimator:hover {background-color: #d4ebff;}#sk-container-id-1 div.sk-parallel-item::after {content: \"\";width: 100%;border-bottom: 1px solid gray;flex-grow: 1;}#sk-container-id-1 div.sk-label:hover label.sk-toggleable__label {background-color: #d4ebff;}#sk-container-id-1 div.sk-serial::before {content: \"\";position: absolute;border-left: 1px solid gray;box-sizing: border-box;top: 0;bottom: 0;left: 50%;z-index: 0;}#sk-container-id-1 div.sk-serial {display: flex;flex-direction: column;align-items: center;background-color: white;padding-right: 0.2em;padding-left: 0.2em;position: relative;}#sk-container-id-1 div.sk-item {position: relative;z-index: 1;}#sk-container-id-1 div.sk-parallel {display: flex;align-items: stretch;justify-content: center;background-color: white;position: relative;}#sk-container-id-1 div.sk-item::before, #sk-container-id-1 div.sk-parallel-item::before {content: \"\";position: absolute;border-left: 1px solid gray;box-sizing: border-box;top: 0;bottom: 0;left: 50%;z-index: -1;}#sk-container-id-1 div.sk-parallel-item {display: flex;flex-direction: column;z-index: 1;position: relative;background-color: white;}#sk-container-id-1 div.sk-parallel-item:first-child::after {align-self: flex-end;width: 50%;}#sk-container-id-1 div.sk-parallel-item:last-child::after {align-self: flex-start;width: 50%;}#sk-container-id-1 div.sk-parallel-item:only-child::after {width: 0;}#sk-container-id-1 div.sk-dashed-wrapped {border: 1px dashed gray;margin: 0 0.4em 0.5em 0.4em;box-sizing: border-box;padding-bottom: 0.4em;background-color: white;}#sk-container-id-1 div.sk-label label {font-family: monospace;font-weight: bold;display: inline-block;line-height: 1.2em;}#sk-container-id-1 div.sk-label-container {text-align: center;}#sk-container-id-1 div.sk-container {/* jupyter's `normalize.less` sets `[hidden] { display: none; }` but bootstrap.min.css set `[hidden] { display: none !important; }` so we also need the `!important` here to be able to override the default hidden behavior on the sphinx rendered scikit-learn.org. See: https://github.com/scikit-learn/scikit-learn/issues/21755 */display: inline-block !important;position: relative;}#sk-container-id-1 div.sk-text-repr-fallback {display: none;}</style><div id=\"sk-container-id-1\" class=\"sk-top-container\"><div class=\"sk-text-repr-fallback\"><pre>GridSearchCV(cv=5, estimator=AdaBoostClassifier(random_state=42),\n",
              "             param_grid={&#x27;learning_rate&#x27;: [0.01, 0.1, 1],\n",
              "                         &#x27;n_estimators&#x27;: [50, 100, 200]})</pre><b>In a Jupyter environment, please rerun this cell to show the HTML representation or trust the notebook. <br />On GitHub, the HTML representation is unable to render, please try loading this page with nbviewer.org.</b></div><div class=\"sk-container\" hidden><div class=\"sk-item sk-dashed-wrapped\"><div class=\"sk-label-container\"><div class=\"sk-label sk-toggleable\"><input class=\"sk-toggleable__control sk-hidden--visually\" id=\"sk-estimator-id-1\" type=\"checkbox\" ><label for=\"sk-estimator-id-1\" class=\"sk-toggleable__label sk-toggleable__label-arrow\">GridSearchCV</label><div class=\"sk-toggleable__content\"><pre>GridSearchCV(cv=5, estimator=AdaBoostClassifier(random_state=42),\n",
              "             param_grid={&#x27;learning_rate&#x27;: [0.01, 0.1, 1],\n",
              "                         &#x27;n_estimators&#x27;: [50, 100, 200]})</pre></div></div></div><div class=\"sk-parallel\"><div class=\"sk-parallel-item\"><div class=\"sk-item\"><div class=\"sk-label-container\"><div class=\"sk-label sk-toggleable\"><input class=\"sk-toggleable__control sk-hidden--visually\" id=\"sk-estimator-id-2\" type=\"checkbox\" ><label for=\"sk-estimator-id-2\" class=\"sk-toggleable__label sk-toggleable__label-arrow\">estimator: AdaBoostClassifier</label><div class=\"sk-toggleable__content\"><pre>AdaBoostClassifier(random_state=42)</pre></div></div></div><div class=\"sk-serial\"><div class=\"sk-item\"><div class=\"sk-estimator sk-toggleable\"><input class=\"sk-toggleable__control sk-hidden--visually\" id=\"sk-estimator-id-3\" type=\"checkbox\" ><label for=\"sk-estimator-id-3\" class=\"sk-toggleable__label sk-toggleable__label-arrow\">AdaBoostClassifier</label><div class=\"sk-toggleable__content\"><pre>AdaBoostClassifier(random_state=42)</pre></div></div></div></div></div></div></div></div></div></div>"
            ]
          },
          "metadata": {},
          "execution_count": 90
        }
      ]
    },
    {
      "cell_type": "code",
      "source": [
        "best_model = grid_search_ada.best_estimator_\n",
        "predictions = best_model.predict(HeartX_test)"
      ],
      "metadata": {
        "id": "6iUlbX5K2WTK"
      },
      "execution_count": null,
      "outputs": []
    },
    {
      "cell_type": "code",
      "source": [
        "accuracy = accuracy_score(HeartY_test, predictions)\n",
        "print(\"Accuracy:\", accuracy)\n",
        "\n",
        "# Print the best parameters found by grid search\n",
        "print(\"Best AdaBoost parameters:\", grid_search_ada.best_params_)"
      ],
      "metadata": {
        "colab": {
          "base_uri": "https://localhost:8080/"
        },
        "id": "tUG_NpEZxPur",
        "outputId": "e880b4f3-f366-417f-b11b-d51571eaea6f"
      },
      "execution_count": null,
      "outputs": [
        {
          "output_type": "stream",
          "name": "stdout",
          "text": [
            "Accuracy: 0.9844961240310077\n",
            "Best AdaBoost parameters: {'learning_rate': 0.01, 'n_estimators': 50}\n"
          ]
        }
      ]
    },
    {
      "cell_type": "code",
      "source": [
        "param_grid_rf = {\n",
        "    'n_estimators': [100, 200, 300],\n",
        "    'max_depth': [10, 20, 30]\n",
        "}\n",
        "grid_search_rf = GridSearchCV(RandomForestClassifier(random_state=42), param_grid_rf, cv=5)\n",
        "grid_search_rf.fit(HeartX_train, HeartY_train)"
      ],
      "metadata": {
        "colab": {
          "base_uri": "https://localhost:8080/",
          "height": 118
        },
        "id": "_QbP224drPiB",
        "outputId": "f1e1854f-dcde-4a6c-dffb-e65cbdf5c1e8"
      },
      "execution_count": null,
      "outputs": [
        {
          "output_type": "execute_result",
          "data": {
            "text/plain": [
              "GridSearchCV(cv=5, estimator=RandomForestClassifier(random_state=42),\n",
              "             param_grid={'max_depth': [10, 20, 30],\n",
              "                         'n_estimators': [100, 200, 300]})"
            ],
            "text/html": [
              "<style>#sk-container-id-2 {color: black;background-color: white;}#sk-container-id-2 pre{padding: 0;}#sk-container-id-2 div.sk-toggleable {background-color: white;}#sk-container-id-2 label.sk-toggleable__label {cursor: pointer;display: block;width: 100%;margin-bottom: 0;padding: 0.3em;box-sizing: border-box;text-align: center;}#sk-container-id-2 label.sk-toggleable__label-arrow:before {content: \"▸\";float: left;margin-right: 0.25em;color: #696969;}#sk-container-id-2 label.sk-toggleable__label-arrow:hover:before {color: black;}#sk-container-id-2 div.sk-estimator:hover label.sk-toggleable__label-arrow:before {color: black;}#sk-container-id-2 div.sk-toggleable__content {max-height: 0;max-width: 0;overflow: hidden;text-align: left;background-color: #f0f8ff;}#sk-container-id-2 div.sk-toggleable__content pre {margin: 0.2em;color: black;border-radius: 0.25em;background-color: #f0f8ff;}#sk-container-id-2 input.sk-toggleable__control:checked~div.sk-toggleable__content {max-height: 200px;max-width: 100%;overflow: auto;}#sk-container-id-2 input.sk-toggleable__control:checked~label.sk-toggleable__label-arrow:before {content: \"▾\";}#sk-container-id-2 div.sk-estimator input.sk-toggleable__control:checked~label.sk-toggleable__label {background-color: #d4ebff;}#sk-container-id-2 div.sk-label input.sk-toggleable__control:checked~label.sk-toggleable__label {background-color: #d4ebff;}#sk-container-id-2 input.sk-hidden--visually {border: 0;clip: rect(1px 1px 1px 1px);clip: rect(1px, 1px, 1px, 1px);height: 1px;margin: -1px;overflow: hidden;padding: 0;position: absolute;width: 1px;}#sk-container-id-2 div.sk-estimator {font-family: monospace;background-color: #f0f8ff;border: 1px dotted black;border-radius: 0.25em;box-sizing: border-box;margin-bottom: 0.5em;}#sk-container-id-2 div.sk-estimator:hover {background-color: #d4ebff;}#sk-container-id-2 div.sk-parallel-item::after {content: \"\";width: 100%;border-bottom: 1px solid gray;flex-grow: 1;}#sk-container-id-2 div.sk-label:hover label.sk-toggleable__label {background-color: #d4ebff;}#sk-container-id-2 div.sk-serial::before {content: \"\";position: absolute;border-left: 1px solid gray;box-sizing: border-box;top: 0;bottom: 0;left: 50%;z-index: 0;}#sk-container-id-2 div.sk-serial {display: flex;flex-direction: column;align-items: center;background-color: white;padding-right: 0.2em;padding-left: 0.2em;position: relative;}#sk-container-id-2 div.sk-item {position: relative;z-index: 1;}#sk-container-id-2 div.sk-parallel {display: flex;align-items: stretch;justify-content: center;background-color: white;position: relative;}#sk-container-id-2 div.sk-item::before, #sk-container-id-2 div.sk-parallel-item::before {content: \"\";position: absolute;border-left: 1px solid gray;box-sizing: border-box;top: 0;bottom: 0;left: 50%;z-index: -1;}#sk-container-id-2 div.sk-parallel-item {display: flex;flex-direction: column;z-index: 1;position: relative;background-color: white;}#sk-container-id-2 div.sk-parallel-item:first-child::after {align-self: flex-end;width: 50%;}#sk-container-id-2 div.sk-parallel-item:last-child::after {align-self: flex-start;width: 50%;}#sk-container-id-2 div.sk-parallel-item:only-child::after {width: 0;}#sk-container-id-2 div.sk-dashed-wrapped {border: 1px dashed gray;margin: 0 0.4em 0.5em 0.4em;box-sizing: border-box;padding-bottom: 0.4em;background-color: white;}#sk-container-id-2 div.sk-label label {font-family: monospace;font-weight: bold;display: inline-block;line-height: 1.2em;}#sk-container-id-2 div.sk-label-container {text-align: center;}#sk-container-id-2 div.sk-container {/* jupyter's `normalize.less` sets `[hidden] { display: none; }` but bootstrap.min.css set `[hidden] { display: none !important; }` so we also need the `!important` here to be able to override the default hidden behavior on the sphinx rendered scikit-learn.org. See: https://github.com/scikit-learn/scikit-learn/issues/21755 */display: inline-block !important;position: relative;}#sk-container-id-2 div.sk-text-repr-fallback {display: none;}</style><div id=\"sk-container-id-2\" class=\"sk-top-container\"><div class=\"sk-text-repr-fallback\"><pre>GridSearchCV(cv=5, estimator=RandomForestClassifier(random_state=42),\n",
              "             param_grid={&#x27;max_depth&#x27;: [10, 20, 30],\n",
              "                         &#x27;n_estimators&#x27;: [100, 200, 300]})</pre><b>In a Jupyter environment, please rerun this cell to show the HTML representation or trust the notebook. <br />On GitHub, the HTML representation is unable to render, please try loading this page with nbviewer.org.</b></div><div class=\"sk-container\" hidden><div class=\"sk-item sk-dashed-wrapped\"><div class=\"sk-label-container\"><div class=\"sk-label sk-toggleable\"><input class=\"sk-toggleable__control sk-hidden--visually\" id=\"sk-estimator-id-4\" type=\"checkbox\" ><label for=\"sk-estimator-id-4\" class=\"sk-toggleable__label sk-toggleable__label-arrow\">GridSearchCV</label><div class=\"sk-toggleable__content\"><pre>GridSearchCV(cv=5, estimator=RandomForestClassifier(random_state=42),\n",
              "             param_grid={&#x27;max_depth&#x27;: [10, 20, 30],\n",
              "                         &#x27;n_estimators&#x27;: [100, 200, 300]})</pre></div></div></div><div class=\"sk-parallel\"><div class=\"sk-parallel-item\"><div class=\"sk-item\"><div class=\"sk-label-container\"><div class=\"sk-label sk-toggleable\"><input class=\"sk-toggleable__control sk-hidden--visually\" id=\"sk-estimator-id-5\" type=\"checkbox\" ><label for=\"sk-estimator-id-5\" class=\"sk-toggleable__label sk-toggleable__label-arrow\">estimator: RandomForestClassifier</label><div class=\"sk-toggleable__content\"><pre>RandomForestClassifier(random_state=42)</pre></div></div></div><div class=\"sk-serial\"><div class=\"sk-item\"><div class=\"sk-estimator sk-toggleable\"><input class=\"sk-toggleable__control sk-hidden--visually\" id=\"sk-estimator-id-6\" type=\"checkbox\" ><label for=\"sk-estimator-id-6\" class=\"sk-toggleable__label sk-toggleable__label-arrow\">RandomForestClassifier</label><div class=\"sk-toggleable__content\"><pre>RandomForestClassifier(random_state=42)</pre></div></div></div></div></div></div></div></div></div></div>"
            ]
          },
          "metadata": {},
          "execution_count": 93
        }
      ]
    },
    {
      "cell_type": "code",
      "source": [
        "best_model = grid_search_rf.best_estimator_\n",
        "predictions = best_model.predict(HeartX_test)"
      ],
      "metadata": {
        "id": "UOD7flyCyXdm"
      },
      "execution_count": null,
      "outputs": []
    },
    {
      "cell_type": "code",
      "source": [
        "accuracy = accuracy_score(HeartY_test, predictions)\n",
        "print(\"Accuracy:\", accuracy)\n",
        "\n",
        "# Print the best parameters found by grid search\n",
        "print(\"Best Randomforest parameters:\", grid_search_rf.best_params_)"
      ],
      "metadata": {
        "colab": {
          "base_uri": "https://localhost:8080/"
        },
        "id": "rPyvek7PxWNp",
        "outputId": "262c22f4-c6e4-43c9-e915-8fc03c1b6fd1"
      },
      "execution_count": null,
      "outputs": [
        {
          "output_type": "stream",
          "name": "stdout",
          "text": [
            "Accuracy: 0.9844961240310077\n",
            "Best Randomforest parameters: {'max_depth': 10, 'n_estimators': 200}\n"
          ]
        }
      ]
    },
    {
      "cell_type": "code",
      "source": [
        "param_grid_ada = {\n",
        "    'n_estimators': [50, 100, 200],\n",
        "    'learning_rate': [0.01, 0.1, 1]\n",
        "}\n",
        "grid_search_ada = GridSearchCV(AdaBoostClassifier(random_state=42), param_grid_ada, cv=5)\n",
        "grid_search_ada.fit(ThyroidX_train, ThyroidY_train)\n",
        "\n",
        "\n"
      ],
      "metadata": {
        "colab": {
          "base_uri": "https://localhost:8080/",
          "height": 152
        },
        "id": "BO9mScxhyd52",
        "outputId": "05e770fc-5e9c-4b82-d96b-543aabc7d99e"
      },
      "execution_count": null,
      "outputs": [
        {
          "output_type": "stream",
          "name": "stderr",
          "text": [
            "/usr/local/lib/python3.10/dist-packages/sklearn/model_selection/_split.py:700: UserWarning: The least populated class in y has only 1 members, which is less than n_splits=5.\n",
            "  warnings.warn(\n"
          ]
        },
        {
          "output_type": "execute_result",
          "data": {
            "text/plain": [
              "GridSearchCV(cv=5, estimator=AdaBoostClassifier(random_state=42),\n",
              "             param_grid={'learning_rate': [0.01, 0.1, 1],\n",
              "                         'n_estimators': [50, 100, 200]})"
            ],
            "text/html": [
              "<style>#sk-container-id-3 {color: black;background-color: white;}#sk-container-id-3 pre{padding: 0;}#sk-container-id-3 div.sk-toggleable {background-color: white;}#sk-container-id-3 label.sk-toggleable__label {cursor: pointer;display: block;width: 100%;margin-bottom: 0;padding: 0.3em;box-sizing: border-box;text-align: center;}#sk-container-id-3 label.sk-toggleable__label-arrow:before {content: \"▸\";float: left;margin-right: 0.25em;color: #696969;}#sk-container-id-3 label.sk-toggleable__label-arrow:hover:before {color: black;}#sk-container-id-3 div.sk-estimator:hover label.sk-toggleable__label-arrow:before {color: black;}#sk-container-id-3 div.sk-toggleable__content {max-height: 0;max-width: 0;overflow: hidden;text-align: left;background-color: #f0f8ff;}#sk-container-id-3 div.sk-toggleable__content pre {margin: 0.2em;color: black;border-radius: 0.25em;background-color: #f0f8ff;}#sk-container-id-3 input.sk-toggleable__control:checked~div.sk-toggleable__content {max-height: 200px;max-width: 100%;overflow: auto;}#sk-container-id-3 input.sk-toggleable__control:checked~label.sk-toggleable__label-arrow:before {content: \"▾\";}#sk-container-id-3 div.sk-estimator input.sk-toggleable__control:checked~label.sk-toggleable__label {background-color: #d4ebff;}#sk-container-id-3 div.sk-label input.sk-toggleable__control:checked~label.sk-toggleable__label {background-color: #d4ebff;}#sk-container-id-3 input.sk-hidden--visually {border: 0;clip: rect(1px 1px 1px 1px);clip: rect(1px, 1px, 1px, 1px);height: 1px;margin: -1px;overflow: hidden;padding: 0;position: absolute;width: 1px;}#sk-container-id-3 div.sk-estimator {font-family: monospace;background-color: #f0f8ff;border: 1px dotted black;border-radius: 0.25em;box-sizing: border-box;margin-bottom: 0.5em;}#sk-container-id-3 div.sk-estimator:hover {background-color: #d4ebff;}#sk-container-id-3 div.sk-parallel-item::after {content: \"\";width: 100%;border-bottom: 1px solid gray;flex-grow: 1;}#sk-container-id-3 div.sk-label:hover label.sk-toggleable__label {background-color: #d4ebff;}#sk-container-id-3 div.sk-serial::before {content: \"\";position: absolute;border-left: 1px solid gray;box-sizing: border-box;top: 0;bottom: 0;left: 50%;z-index: 0;}#sk-container-id-3 div.sk-serial {display: flex;flex-direction: column;align-items: center;background-color: white;padding-right: 0.2em;padding-left: 0.2em;position: relative;}#sk-container-id-3 div.sk-item {position: relative;z-index: 1;}#sk-container-id-3 div.sk-parallel {display: flex;align-items: stretch;justify-content: center;background-color: white;position: relative;}#sk-container-id-3 div.sk-item::before, #sk-container-id-3 div.sk-parallel-item::before {content: \"\";position: absolute;border-left: 1px solid gray;box-sizing: border-box;top: 0;bottom: 0;left: 50%;z-index: -1;}#sk-container-id-3 div.sk-parallel-item {display: flex;flex-direction: column;z-index: 1;position: relative;background-color: white;}#sk-container-id-3 div.sk-parallel-item:first-child::after {align-self: flex-end;width: 50%;}#sk-container-id-3 div.sk-parallel-item:last-child::after {align-self: flex-start;width: 50%;}#sk-container-id-3 div.sk-parallel-item:only-child::after {width: 0;}#sk-container-id-3 div.sk-dashed-wrapped {border: 1px dashed gray;margin: 0 0.4em 0.5em 0.4em;box-sizing: border-box;padding-bottom: 0.4em;background-color: white;}#sk-container-id-3 div.sk-label label {font-family: monospace;font-weight: bold;display: inline-block;line-height: 1.2em;}#sk-container-id-3 div.sk-label-container {text-align: center;}#sk-container-id-3 div.sk-container {/* jupyter's `normalize.less` sets `[hidden] { display: none; }` but bootstrap.min.css set `[hidden] { display: none !important; }` so we also need the `!important` here to be able to override the default hidden behavior on the sphinx rendered scikit-learn.org. See: https://github.com/scikit-learn/scikit-learn/issues/21755 */display: inline-block !important;position: relative;}#sk-container-id-3 div.sk-text-repr-fallback {display: none;}</style><div id=\"sk-container-id-3\" class=\"sk-top-container\"><div class=\"sk-text-repr-fallback\"><pre>GridSearchCV(cv=5, estimator=AdaBoostClassifier(random_state=42),\n",
              "             param_grid={&#x27;learning_rate&#x27;: [0.01, 0.1, 1],\n",
              "                         &#x27;n_estimators&#x27;: [50, 100, 200]})</pre><b>In a Jupyter environment, please rerun this cell to show the HTML representation or trust the notebook. <br />On GitHub, the HTML representation is unable to render, please try loading this page with nbviewer.org.</b></div><div class=\"sk-container\" hidden><div class=\"sk-item sk-dashed-wrapped\"><div class=\"sk-label-container\"><div class=\"sk-label sk-toggleable\"><input class=\"sk-toggleable__control sk-hidden--visually\" id=\"sk-estimator-id-7\" type=\"checkbox\" ><label for=\"sk-estimator-id-7\" class=\"sk-toggleable__label sk-toggleable__label-arrow\">GridSearchCV</label><div class=\"sk-toggleable__content\"><pre>GridSearchCV(cv=5, estimator=AdaBoostClassifier(random_state=42),\n",
              "             param_grid={&#x27;learning_rate&#x27;: [0.01, 0.1, 1],\n",
              "                         &#x27;n_estimators&#x27;: [50, 100, 200]})</pre></div></div></div><div class=\"sk-parallel\"><div class=\"sk-parallel-item\"><div class=\"sk-item\"><div class=\"sk-label-container\"><div class=\"sk-label sk-toggleable\"><input class=\"sk-toggleable__control sk-hidden--visually\" id=\"sk-estimator-id-8\" type=\"checkbox\" ><label for=\"sk-estimator-id-8\" class=\"sk-toggleable__label sk-toggleable__label-arrow\">estimator: AdaBoostClassifier</label><div class=\"sk-toggleable__content\"><pre>AdaBoostClassifier(random_state=42)</pre></div></div></div><div class=\"sk-serial\"><div class=\"sk-item\"><div class=\"sk-estimator sk-toggleable\"><input class=\"sk-toggleable__control sk-hidden--visually\" id=\"sk-estimator-id-9\" type=\"checkbox\" ><label for=\"sk-estimator-id-9\" class=\"sk-toggleable__label sk-toggleable__label-arrow\">AdaBoostClassifier</label><div class=\"sk-toggleable__content\"><pre>AdaBoostClassifier(random_state=42)</pre></div></div></div></div></div></div></div></div></div></div>"
            ]
          },
          "metadata": {},
          "execution_count": 96
        }
      ]
    },
    {
      "cell_type": "code",
      "source": [
        "best_model = grid_search_ada.best_estimator_\n",
        "predictions = best_model.predict(ThyroidX_test)\n",
        "accuracy = accuracy_score(ThyroidY_test, predictions)\n",
        "print(\"Accuracy:\", accuracy)\n",
        "\n",
        "# Print the best parameters found by grid search\n",
        "print(\"Best AdaBoost parameters:\", grid_search_ada.best_params_)"
      ],
      "metadata": {
        "colab": {
          "base_uri": "https://localhost:8080/"
        },
        "id": "kpowJBXP032X",
        "outputId": "9bef0abe-d0df-4852-b53f-8cd78937345d"
      },
      "execution_count": null,
      "outputs": [
        {
          "output_type": "stream",
          "name": "stdout",
          "text": [
            "Accuracy: 0.934020618556701\n",
            "Best AdaBoost parameters: {'learning_rate': 0.1, 'n_estimators': 100}\n"
          ]
        }
      ]
    },
    {
      "cell_type": "code",
      "source": [
        "param_grid_rf = {\n",
        "    'n_estimators': [100, 200, 300],\n",
        "    'max_depth': [10, 20, 30]\n",
        "}\n",
        "grid_search_rf = GridSearchCV(RandomForestClassifier(random_state=42), param_grid_rf, cv=5)\n",
        "grid_search_rf.fit(ThyroidX_train, ThyroidY_train)"
      ],
      "metadata": {
        "colab": {
          "base_uri": "https://localhost:8080/",
          "height": 152
        },
        "id": "osavEoGP0bwz",
        "outputId": "03407984-0a26-4536-8839-badfcb5e9e80"
      },
      "execution_count": null,
      "outputs": [
        {
          "output_type": "stream",
          "name": "stderr",
          "text": [
            "/usr/local/lib/python3.10/dist-packages/sklearn/model_selection/_split.py:700: UserWarning: The least populated class in y has only 1 members, which is less than n_splits=5.\n",
            "  warnings.warn(\n"
          ]
        },
        {
          "output_type": "execute_result",
          "data": {
            "text/plain": [
              "GridSearchCV(cv=5, estimator=RandomForestClassifier(random_state=42),\n",
              "             param_grid={'max_depth': [10, 20, 30],\n",
              "                         'n_estimators': [100, 200, 300]})"
            ],
            "text/html": [
              "<style>#sk-container-id-4 {color: black;background-color: white;}#sk-container-id-4 pre{padding: 0;}#sk-container-id-4 div.sk-toggleable {background-color: white;}#sk-container-id-4 label.sk-toggleable__label {cursor: pointer;display: block;width: 100%;margin-bottom: 0;padding: 0.3em;box-sizing: border-box;text-align: center;}#sk-container-id-4 label.sk-toggleable__label-arrow:before {content: \"▸\";float: left;margin-right: 0.25em;color: #696969;}#sk-container-id-4 label.sk-toggleable__label-arrow:hover:before {color: black;}#sk-container-id-4 div.sk-estimator:hover label.sk-toggleable__label-arrow:before {color: black;}#sk-container-id-4 div.sk-toggleable__content {max-height: 0;max-width: 0;overflow: hidden;text-align: left;background-color: #f0f8ff;}#sk-container-id-4 div.sk-toggleable__content pre {margin: 0.2em;color: black;border-radius: 0.25em;background-color: #f0f8ff;}#sk-container-id-4 input.sk-toggleable__control:checked~div.sk-toggleable__content {max-height: 200px;max-width: 100%;overflow: auto;}#sk-container-id-4 input.sk-toggleable__control:checked~label.sk-toggleable__label-arrow:before {content: \"▾\";}#sk-container-id-4 div.sk-estimator input.sk-toggleable__control:checked~label.sk-toggleable__label {background-color: #d4ebff;}#sk-container-id-4 div.sk-label input.sk-toggleable__control:checked~label.sk-toggleable__label {background-color: #d4ebff;}#sk-container-id-4 input.sk-hidden--visually {border: 0;clip: rect(1px 1px 1px 1px);clip: rect(1px, 1px, 1px, 1px);height: 1px;margin: -1px;overflow: hidden;padding: 0;position: absolute;width: 1px;}#sk-container-id-4 div.sk-estimator {font-family: monospace;background-color: #f0f8ff;border: 1px dotted black;border-radius: 0.25em;box-sizing: border-box;margin-bottom: 0.5em;}#sk-container-id-4 div.sk-estimator:hover {background-color: #d4ebff;}#sk-container-id-4 div.sk-parallel-item::after {content: \"\";width: 100%;border-bottom: 1px solid gray;flex-grow: 1;}#sk-container-id-4 div.sk-label:hover label.sk-toggleable__label {background-color: #d4ebff;}#sk-container-id-4 div.sk-serial::before {content: \"\";position: absolute;border-left: 1px solid gray;box-sizing: border-box;top: 0;bottom: 0;left: 50%;z-index: 0;}#sk-container-id-4 div.sk-serial {display: flex;flex-direction: column;align-items: center;background-color: white;padding-right: 0.2em;padding-left: 0.2em;position: relative;}#sk-container-id-4 div.sk-item {position: relative;z-index: 1;}#sk-container-id-4 div.sk-parallel {display: flex;align-items: stretch;justify-content: center;background-color: white;position: relative;}#sk-container-id-4 div.sk-item::before, #sk-container-id-4 div.sk-parallel-item::before {content: \"\";position: absolute;border-left: 1px solid gray;box-sizing: border-box;top: 0;bottom: 0;left: 50%;z-index: -1;}#sk-container-id-4 div.sk-parallel-item {display: flex;flex-direction: column;z-index: 1;position: relative;background-color: white;}#sk-container-id-4 div.sk-parallel-item:first-child::after {align-self: flex-end;width: 50%;}#sk-container-id-4 div.sk-parallel-item:last-child::after {align-self: flex-start;width: 50%;}#sk-container-id-4 div.sk-parallel-item:only-child::after {width: 0;}#sk-container-id-4 div.sk-dashed-wrapped {border: 1px dashed gray;margin: 0 0.4em 0.5em 0.4em;box-sizing: border-box;padding-bottom: 0.4em;background-color: white;}#sk-container-id-4 div.sk-label label {font-family: monospace;font-weight: bold;display: inline-block;line-height: 1.2em;}#sk-container-id-4 div.sk-label-container {text-align: center;}#sk-container-id-4 div.sk-container {/* jupyter's `normalize.less` sets `[hidden] { display: none; }` but bootstrap.min.css set `[hidden] { display: none !important; }` so we also need the `!important` here to be able to override the default hidden behavior on the sphinx rendered scikit-learn.org. See: https://github.com/scikit-learn/scikit-learn/issues/21755 */display: inline-block !important;position: relative;}#sk-container-id-4 div.sk-text-repr-fallback {display: none;}</style><div id=\"sk-container-id-4\" class=\"sk-top-container\"><div class=\"sk-text-repr-fallback\"><pre>GridSearchCV(cv=5, estimator=RandomForestClassifier(random_state=42),\n",
              "             param_grid={&#x27;max_depth&#x27;: [10, 20, 30],\n",
              "                         &#x27;n_estimators&#x27;: [100, 200, 300]})</pre><b>In a Jupyter environment, please rerun this cell to show the HTML representation or trust the notebook. <br />On GitHub, the HTML representation is unable to render, please try loading this page with nbviewer.org.</b></div><div class=\"sk-container\" hidden><div class=\"sk-item sk-dashed-wrapped\"><div class=\"sk-label-container\"><div class=\"sk-label sk-toggleable\"><input class=\"sk-toggleable__control sk-hidden--visually\" id=\"sk-estimator-id-10\" type=\"checkbox\" ><label for=\"sk-estimator-id-10\" class=\"sk-toggleable__label sk-toggleable__label-arrow\">GridSearchCV</label><div class=\"sk-toggleable__content\"><pre>GridSearchCV(cv=5, estimator=RandomForestClassifier(random_state=42),\n",
              "             param_grid={&#x27;max_depth&#x27;: [10, 20, 30],\n",
              "                         &#x27;n_estimators&#x27;: [100, 200, 300]})</pre></div></div></div><div class=\"sk-parallel\"><div class=\"sk-parallel-item\"><div class=\"sk-item\"><div class=\"sk-label-container\"><div class=\"sk-label sk-toggleable\"><input class=\"sk-toggleable__control sk-hidden--visually\" id=\"sk-estimator-id-11\" type=\"checkbox\" ><label for=\"sk-estimator-id-11\" class=\"sk-toggleable__label sk-toggleable__label-arrow\">estimator: RandomForestClassifier</label><div class=\"sk-toggleable__content\"><pre>RandomForestClassifier(random_state=42)</pre></div></div></div><div class=\"sk-serial\"><div class=\"sk-item\"><div class=\"sk-estimator sk-toggleable\"><input class=\"sk-toggleable__control sk-hidden--visually\" id=\"sk-estimator-id-12\" type=\"checkbox\" ><label for=\"sk-estimator-id-12\" class=\"sk-toggleable__label sk-toggleable__label-arrow\">RandomForestClassifier</label><div class=\"sk-toggleable__content\"><pre>RandomForestClassifier(random_state=42)</pre></div></div></div></div></div></div></div></div></div></div>"
            ]
          },
          "metadata": {},
          "execution_count": 98
        }
      ]
    },
    {
      "cell_type": "code",
      "source": [
        "best_model = grid_search_rf.best_estimator_\n",
        "predictions = best_model.predict(ThyroidX_test)\n",
        "accuracy = accuracy_score(ThyroidY_test, predictions)\n",
        "print(\"Accuracy:\", accuracy)\n",
        "\n",
        "# Print the best parameters found by grid search\n",
        "print(\"Best AdaBoost parameters:\", grid_search_rf.best_params_)"
      ],
      "metadata": {
        "colab": {
          "base_uri": "https://localhost:8080/"
        },
        "id": "70n3vG-204P1",
        "outputId": "02d09ab5-25c3-4f74-e1c9-8f6d22d43017"
      },
      "execution_count": null,
      "outputs": [
        {
          "output_type": "stream",
          "name": "stdout",
          "text": [
            "Accuracy: 0.9567010309278351\n",
            "Best AdaBoost parameters: {'max_depth': 20, 'n_estimators': 100}\n"
          ]
        }
      ]
    },
    {
      "cell_type": "code",
      "source": [
        "# Best models from grid search\n",
        "best_ada_clf = grid_search_ada.best_estimator_\n",
        "best_rf_clf = grid_search_rf.best_estimator_\n",
        "\n",
        "# Training the best models\n",
        "best_ada_clf.fit(HeartX_train, HeartY_train)\n",
        "best_rf_clf.fit(HeartX_train, HeartY_train)"
      ],
      "metadata": {
        "colab": {
          "base_uri": "https://localhost:8080/",
          "height": 75
        },
        "id": "Ai2MF1r26xbW",
        "outputId": "3b6fe989-b355-4fa4-9b28-bc1ac0fbb902"
      },
      "execution_count": null,
      "outputs": [
        {
          "output_type": "execute_result",
          "data": {
            "text/plain": [
              "RandomForestClassifier(max_depth=20, random_state=42)"
            ],
            "text/html": [
              "<style>#sk-container-id-5 {color: black;background-color: white;}#sk-container-id-5 pre{padding: 0;}#sk-container-id-5 div.sk-toggleable {background-color: white;}#sk-container-id-5 label.sk-toggleable__label {cursor: pointer;display: block;width: 100%;margin-bottom: 0;padding: 0.3em;box-sizing: border-box;text-align: center;}#sk-container-id-5 label.sk-toggleable__label-arrow:before {content: \"▸\";float: left;margin-right: 0.25em;color: #696969;}#sk-container-id-5 label.sk-toggleable__label-arrow:hover:before {color: black;}#sk-container-id-5 div.sk-estimator:hover label.sk-toggleable__label-arrow:before {color: black;}#sk-container-id-5 div.sk-toggleable__content {max-height: 0;max-width: 0;overflow: hidden;text-align: left;background-color: #f0f8ff;}#sk-container-id-5 div.sk-toggleable__content pre {margin: 0.2em;color: black;border-radius: 0.25em;background-color: #f0f8ff;}#sk-container-id-5 input.sk-toggleable__control:checked~div.sk-toggleable__content {max-height: 200px;max-width: 100%;overflow: auto;}#sk-container-id-5 input.sk-toggleable__control:checked~label.sk-toggleable__label-arrow:before {content: \"▾\";}#sk-container-id-5 div.sk-estimator input.sk-toggleable__control:checked~label.sk-toggleable__label {background-color: #d4ebff;}#sk-container-id-5 div.sk-label input.sk-toggleable__control:checked~label.sk-toggleable__label {background-color: #d4ebff;}#sk-container-id-5 input.sk-hidden--visually {border: 0;clip: rect(1px 1px 1px 1px);clip: rect(1px, 1px, 1px, 1px);height: 1px;margin: -1px;overflow: hidden;padding: 0;position: absolute;width: 1px;}#sk-container-id-5 div.sk-estimator {font-family: monospace;background-color: #f0f8ff;border: 1px dotted black;border-radius: 0.25em;box-sizing: border-box;margin-bottom: 0.5em;}#sk-container-id-5 div.sk-estimator:hover {background-color: #d4ebff;}#sk-container-id-5 div.sk-parallel-item::after {content: \"\";width: 100%;border-bottom: 1px solid gray;flex-grow: 1;}#sk-container-id-5 div.sk-label:hover label.sk-toggleable__label {background-color: #d4ebff;}#sk-container-id-5 div.sk-serial::before {content: \"\";position: absolute;border-left: 1px solid gray;box-sizing: border-box;top: 0;bottom: 0;left: 50%;z-index: 0;}#sk-container-id-5 div.sk-serial {display: flex;flex-direction: column;align-items: center;background-color: white;padding-right: 0.2em;padding-left: 0.2em;position: relative;}#sk-container-id-5 div.sk-item {position: relative;z-index: 1;}#sk-container-id-5 div.sk-parallel {display: flex;align-items: stretch;justify-content: center;background-color: white;position: relative;}#sk-container-id-5 div.sk-item::before, #sk-container-id-5 div.sk-parallel-item::before {content: \"\";position: absolute;border-left: 1px solid gray;box-sizing: border-box;top: 0;bottom: 0;left: 50%;z-index: -1;}#sk-container-id-5 div.sk-parallel-item {display: flex;flex-direction: column;z-index: 1;position: relative;background-color: white;}#sk-container-id-5 div.sk-parallel-item:first-child::after {align-self: flex-end;width: 50%;}#sk-container-id-5 div.sk-parallel-item:last-child::after {align-self: flex-start;width: 50%;}#sk-container-id-5 div.sk-parallel-item:only-child::after {width: 0;}#sk-container-id-5 div.sk-dashed-wrapped {border: 1px dashed gray;margin: 0 0.4em 0.5em 0.4em;box-sizing: border-box;padding-bottom: 0.4em;background-color: white;}#sk-container-id-5 div.sk-label label {font-family: monospace;font-weight: bold;display: inline-block;line-height: 1.2em;}#sk-container-id-5 div.sk-label-container {text-align: center;}#sk-container-id-5 div.sk-container {/* jupyter's `normalize.less` sets `[hidden] { display: none; }` but bootstrap.min.css set `[hidden] { display: none !important; }` so we also need the `!important` here to be able to override the default hidden behavior on the sphinx rendered scikit-learn.org. See: https://github.com/scikit-learn/scikit-learn/issues/21755 */display: inline-block !important;position: relative;}#sk-container-id-5 div.sk-text-repr-fallback {display: none;}</style><div id=\"sk-container-id-5\" class=\"sk-top-container\"><div class=\"sk-text-repr-fallback\"><pre>RandomForestClassifier(max_depth=20, random_state=42)</pre><b>In a Jupyter environment, please rerun this cell to show the HTML representation or trust the notebook. <br />On GitHub, the HTML representation is unable to render, please try loading this page with nbviewer.org.</b></div><div class=\"sk-container\" hidden><div class=\"sk-item\"><div class=\"sk-estimator sk-toggleable\"><input class=\"sk-toggleable__control sk-hidden--visually\" id=\"sk-estimator-id-13\" type=\"checkbox\" checked><label for=\"sk-estimator-id-13\" class=\"sk-toggleable__label sk-toggleable__label-arrow\">RandomForestClassifier</label><div class=\"sk-toggleable__content\"><pre>RandomForestClassifier(max_depth=20, random_state=42)</pre></div></div></div></div></div>"
            ]
          },
          "metadata": {},
          "execution_count": 100
        }
      ]
    },
    {
      "cell_type": "code",
      "source": [
        "ada_y_predH = best_ada_clf.predict(HeartX_test)\n",
        "ada_accuracyH = accuracy_score(HeartY_test, ada_y_predH)\n",
        "ada_precisionH = precision_score(HeartY_test, ada_y_predH, average='macro')\n",
        "ada_recallH = recall_score(HeartY_test, ada_y_predH, average='macro')\n",
        "ada_f1H = f1_score(HeartY_test, ada_y_predH, average='macro')\n",
        "\n",
        "print(\"AdaBoost Classifier Metrics:\")\n",
        "print(\"Accuracy:\", ada_accuracyH)\n",
        "print(\"Precision:\", ada_precisionH)\n",
        "print(\"Recall:\", ada_recallH)\n",
        "print(\"F1-score:\", ada_f1H)"
      ],
      "metadata": {
        "colab": {
          "base_uri": "https://localhost:8080/"
        },
        "id": "ZB87Yq4Z5TU7",
        "outputId": "363308c2-4dbb-41d2-a83c-506886b95676"
      },
      "execution_count": null,
      "outputs": [
        {
          "output_type": "stream",
          "name": "stdout",
          "text": [
            "AdaBoost Classifier Metrics:\n",
            "Accuracy: 0.9689922480620154\n",
            "Precision: 0.9679741807348561\n",
            "Recall: 0.9679741807348561\n",
            "F1-score: 0.9679741807348561\n"
          ]
        }
      ]
    },
    {
      "cell_type": "code",
      "source": [
        "# Evaluating the Random Forest model\n",
        "rf_y_predH = best_rf_clf.predict(HeartX_test)\n",
        "rf_accuracyH = accuracy_score(HeartY_test, rf_y_predH)\n",
        "rf_precisionH = precision_score(HeartY_test, rf_y_predH, average='macro')\n",
        "rf_recallH = recall_score(HeartY_test, rf_y_predH, average='macro')\n",
        "rf_f1H = f1_score(HeartY_test, rf_y_predH, average='macro')\n",
        "\n",
        "print(\"\\nRandom Forest Classifier Metrics:\")\n",
        "print(\"Accuracy:\", rf_accuracyH)\n",
        "print(\"Precision:\", rf_precisionH)\n",
        "print(\"Recall:\", rf_recallH)\n",
        "print(\"F1-score:\", rf_f1H)"
      ],
      "metadata": {
        "colab": {
          "base_uri": "https://localhost:8080/"
        },
        "id": "ZRMRehOm6bv2",
        "outputId": "2e603763-9d04-45e2-cb5e-a6c14c111f9f"
      },
      "execution_count": null,
      "outputs": [
        {
          "output_type": "stream",
          "name": "stdout",
          "text": [
            "\n",
            "Random Forest Classifier Metrics:\n",
            "Accuracy: 0.9844961240310077\n",
            "Precision: 0.9871794871794872\n",
            "Recall: 0.9811320754716981\n",
            "F1-score: 0.9838911088911089\n"
          ]
        }
      ]
    },
    {
      "cell_type": "markdown",
      "source": [
        "For DfThyorid"
      ],
      "metadata": {
        "id": "YF1ImytA6_y1"
      }
    },
    {
      "cell_type": "code",
      "source": [
        "# Best models from grid search\n",
        "best_ada_clf = grid_search_ada.best_estimator_\n",
        "best_rf_clf = grid_search_rf.best_estimator_\n",
        "\n",
        "# Training the best models\n",
        "best_ada_clf.fit(ThyroidX_train, ThyroidY_train)\n",
        "best_rf_clf.fit(ThyroidX_train, ThyroidY_train)"
      ],
      "metadata": {
        "colab": {
          "base_uri": "https://localhost:8080/",
          "height": 75
        },
        "id": "l-yeJ8Qt64kh",
        "outputId": "18298f97-bd40-4c32-b24b-b7aeeed10683"
      },
      "execution_count": null,
      "outputs": [
        {
          "output_type": "execute_result",
          "data": {
            "text/plain": [
              "RandomForestClassifier(max_depth=20, random_state=42)"
            ],
            "text/html": [
              "<style>#sk-container-id-6 {color: black;background-color: white;}#sk-container-id-6 pre{padding: 0;}#sk-container-id-6 div.sk-toggleable {background-color: white;}#sk-container-id-6 label.sk-toggleable__label {cursor: pointer;display: block;width: 100%;margin-bottom: 0;padding: 0.3em;box-sizing: border-box;text-align: center;}#sk-container-id-6 label.sk-toggleable__label-arrow:before {content: \"▸\";float: left;margin-right: 0.25em;color: #696969;}#sk-container-id-6 label.sk-toggleable__label-arrow:hover:before {color: black;}#sk-container-id-6 div.sk-estimator:hover label.sk-toggleable__label-arrow:before {color: black;}#sk-container-id-6 div.sk-toggleable__content {max-height: 0;max-width: 0;overflow: hidden;text-align: left;background-color: #f0f8ff;}#sk-container-id-6 div.sk-toggleable__content pre {margin: 0.2em;color: black;border-radius: 0.25em;background-color: #f0f8ff;}#sk-container-id-6 input.sk-toggleable__control:checked~div.sk-toggleable__content {max-height: 200px;max-width: 100%;overflow: auto;}#sk-container-id-6 input.sk-toggleable__control:checked~label.sk-toggleable__label-arrow:before {content: \"▾\";}#sk-container-id-6 div.sk-estimator input.sk-toggleable__control:checked~label.sk-toggleable__label {background-color: #d4ebff;}#sk-container-id-6 div.sk-label input.sk-toggleable__control:checked~label.sk-toggleable__label {background-color: #d4ebff;}#sk-container-id-6 input.sk-hidden--visually {border: 0;clip: rect(1px 1px 1px 1px);clip: rect(1px, 1px, 1px, 1px);height: 1px;margin: -1px;overflow: hidden;padding: 0;position: absolute;width: 1px;}#sk-container-id-6 div.sk-estimator {font-family: monospace;background-color: #f0f8ff;border: 1px dotted black;border-radius: 0.25em;box-sizing: border-box;margin-bottom: 0.5em;}#sk-container-id-6 div.sk-estimator:hover {background-color: #d4ebff;}#sk-container-id-6 div.sk-parallel-item::after {content: \"\";width: 100%;border-bottom: 1px solid gray;flex-grow: 1;}#sk-container-id-6 div.sk-label:hover label.sk-toggleable__label {background-color: #d4ebff;}#sk-container-id-6 div.sk-serial::before {content: \"\";position: absolute;border-left: 1px solid gray;box-sizing: border-box;top: 0;bottom: 0;left: 50%;z-index: 0;}#sk-container-id-6 div.sk-serial {display: flex;flex-direction: column;align-items: center;background-color: white;padding-right: 0.2em;padding-left: 0.2em;position: relative;}#sk-container-id-6 div.sk-item {position: relative;z-index: 1;}#sk-container-id-6 div.sk-parallel {display: flex;align-items: stretch;justify-content: center;background-color: white;position: relative;}#sk-container-id-6 div.sk-item::before, #sk-container-id-6 div.sk-parallel-item::before {content: \"\";position: absolute;border-left: 1px solid gray;box-sizing: border-box;top: 0;bottom: 0;left: 50%;z-index: -1;}#sk-container-id-6 div.sk-parallel-item {display: flex;flex-direction: column;z-index: 1;position: relative;background-color: white;}#sk-container-id-6 div.sk-parallel-item:first-child::after {align-self: flex-end;width: 50%;}#sk-container-id-6 div.sk-parallel-item:last-child::after {align-self: flex-start;width: 50%;}#sk-container-id-6 div.sk-parallel-item:only-child::after {width: 0;}#sk-container-id-6 div.sk-dashed-wrapped {border: 1px dashed gray;margin: 0 0.4em 0.5em 0.4em;box-sizing: border-box;padding-bottom: 0.4em;background-color: white;}#sk-container-id-6 div.sk-label label {font-family: monospace;font-weight: bold;display: inline-block;line-height: 1.2em;}#sk-container-id-6 div.sk-label-container {text-align: center;}#sk-container-id-6 div.sk-container {/* jupyter's `normalize.less` sets `[hidden] { display: none; }` but bootstrap.min.css set `[hidden] { display: none !important; }` so we also need the `!important` here to be able to override the default hidden behavior on the sphinx rendered scikit-learn.org. See: https://github.com/scikit-learn/scikit-learn/issues/21755 */display: inline-block !important;position: relative;}#sk-container-id-6 div.sk-text-repr-fallback {display: none;}</style><div id=\"sk-container-id-6\" class=\"sk-top-container\"><div class=\"sk-text-repr-fallback\"><pre>RandomForestClassifier(max_depth=20, random_state=42)</pre><b>In a Jupyter environment, please rerun this cell to show the HTML representation or trust the notebook. <br />On GitHub, the HTML representation is unable to render, please try loading this page with nbviewer.org.</b></div><div class=\"sk-container\" hidden><div class=\"sk-item\"><div class=\"sk-estimator sk-toggleable\"><input class=\"sk-toggleable__control sk-hidden--visually\" id=\"sk-estimator-id-14\" type=\"checkbox\" checked><label for=\"sk-estimator-id-14\" class=\"sk-toggleable__label sk-toggleable__label-arrow\">RandomForestClassifier</label><div class=\"sk-toggleable__content\"><pre>RandomForestClassifier(max_depth=20, random_state=42)</pre></div></div></div></div></div>"
            ]
          },
          "metadata": {},
          "execution_count": 103
        }
      ]
    },
    {
      "cell_type": "code",
      "source": [
        "# Evaluating the AdaBoost model\n",
        "ada_y_pred = best_ada_clf.predict(ThyroidX_test)\n",
        "ada_accuracy = accuracy_score(ThyroidY_test, ada_y_pred)\n",
        "ada_precision = precision_score(ThyroidY_test, ada_y_pred, average='macro')\n",
        "ada_recall = recall_score(ThyroidY_test, ada_y_pred, average='macro')\n",
        "ada_f1 = f1_score(ThyroidY_test, ada_y_pred, average='macro')\n",
        "\n",
        "print(\"AdaBoost Classifier Metrics:\")\n",
        "print(\"Accuracy:\", ada_accuracy)\n",
        "print(\"Precision:\", ada_precision)\n",
        "print(\"Recall:\", ada_recall)\n",
        "print(\"F1-score:\", ada_f1)"
      ],
      "metadata": {
        "colab": {
          "base_uri": "https://localhost:8080/"
        },
        "id": "RpjNOC7w7cgJ",
        "outputId": "5a2d6591-5302-431c-f44f-919c49fa2040"
      },
      "execution_count": null,
      "outputs": [
        {
          "output_type": "stream",
          "name": "stdout",
          "text": [
            "AdaBoost Classifier Metrics:\n",
            "Accuracy: 0.934020618556701\n",
            "Precision: 0.4204282872895857\n",
            "Recall: 0.38107136447256246\n",
            "F1-score: 0.397206323572486\n"
          ]
        },
        {
          "output_type": "stream",
          "name": "stderr",
          "text": [
            "/usr/local/lib/python3.10/dist-packages/sklearn/metrics/_classification.py:1344: UndefinedMetricWarning: Precision is ill-defined and being set to 0.0 in labels with no predicted samples. Use `zero_division` parameter to control this behavior.\n",
            "  _warn_prf(average, modifier, msg_start, len(result))\n"
          ]
        }
      ]
    },
    {
      "cell_type": "code",
      "source": [
        "# Evaluating the Random Forest model\n",
        "rf_y_pred = best_rf_clf.predict(ThyroidX_test)\n",
        "rf_accuracy = accuracy_score(ThyroidY_test, rf_y_pred)\n",
        "rf_precision = precision_score(ThyroidY_test, rf_y_pred, average='macro')\n",
        "rf_recall = recall_score(ThyroidY_test, rf_y_pred, average='macro')\n",
        "rf_f1 = f1_score(ThyroidY_test, rf_y_pred, average='macro')\n",
        "\n",
        "print(\"\\nRandom Forest Classifier Metrics:\")\n",
        "print(\"Accuracy:\", rf_accuracy)\n",
        "print(\"Precision:\", rf_precision)\n",
        "print(\"Recall:\", rf_recall)\n",
        "print(\"F1-score:\", rf_f1)\n"
      ],
      "metadata": {
        "colab": {
          "base_uri": "https://localhost:8080/"
        },
        "id": "1OJQnzR-7atM",
        "outputId": "2a290500-155b-48df-b6fa-a62eb14f437d"
      },
      "execution_count": null,
      "outputs": [
        {
          "output_type": "stream",
          "name": "stdout",
          "text": [
            "\n",
            "Random Forest Classifier Metrics:\n",
            "Accuracy: 0.9567010309278351\n",
            "Precision: 0.5275927251371837\n",
            "Recall: 0.47836210571185\n",
            "F1-score: 0.4983166608166608\n"
          ]
        },
        {
          "output_type": "stream",
          "name": "stderr",
          "text": [
            "/usr/local/lib/python3.10/dist-packages/sklearn/metrics/_classification.py:1344: UndefinedMetricWarning: Precision is ill-defined and being set to 0.0 in labels with no predicted samples. Use `zero_division` parameter to control this behavior.\n",
            "  _warn_prf(average, modifier, msg_start, len(result))\n"
          ]
        }
      ]
    },
    {
      "cell_type": "code",
      "source": [
        "# Create a dictionary to store the evaluation metrics\n",
        "model_metrics = {\n",
        "    'Model': ['AdaBoost Classifier', 'Random Forest Classifier'],\n",
        "    'Accuracy': [ada_accuracy, rf_accuracy],\n",
        "    'Precision': [ada_precision, rf_precision],\n",
        "    'Recall': [ada_recall, rf_recall],\n",
        "    'F1-score': [ada_f1, rf_f1]\n",
        "}\n",
        "comparison_df = pd.DataFrame(model_metrics)\n",
        "\n",
        "# Print the comparison matrix\n",
        "print(\"Comparison Matrix:\")\n",
        "print(comparison_df.to_string(index=False))\n"
      ],
      "metadata": {
        "colab": {
          "base_uri": "https://localhost:8080/"
        },
        "id": "7A5ba7K67kdq",
        "outputId": "2f88a212-d1a9-42d3-e952-d6109ece2c8f"
      },
      "execution_count": null,
      "outputs": [
        {
          "output_type": "stream",
          "name": "stdout",
          "text": [
            "Comparison Matrix:\n",
            "                   Model  Accuracy  Precision   Recall  F1-score\n",
            "     AdaBoost Classifier  0.934021   0.420428 0.381071  0.397206\n",
            "Random Forest Classifier  0.956701   0.527593 0.478362  0.498317\n"
          ]
        }
      ]
    },
    {
      "cell_type": "code",
      "source": [
        "\n",
        "# Create a heatmap\n",
        "plt.figure(figsize=(8, 6))  # Adjust figure size as needed\n",
        "ax = sns.heatmap(comparison_df.iloc[:, 1:], cmap='RdGy', annot=True)  # Use seaborn heatmap\n",
        "ax.set_title('Comparison of AdaBoost and Random Forest Classifiers In ThyroidDf')\n",
        "plt.xticks(rotation=0)  # Rotate x-axis labels for better readability\n",
        "plt.tight_layout()\n",
        "plt.show()\n"
      ],
      "metadata": {
        "colab": {
          "base_uri": "https://localhost:8080/",
          "height": 607
        },
        "id": "BN2luaCh8OWI",
        "outputId": "89faff52-d38d-46df-c69f-96286849d16f"
      },
      "execution_count": null,
      "outputs": [
        {
          "output_type": "display_data",
          "data": {
            "text/plain": [
              "<Figure size 800x600 with 2 Axes>"
            ],
            "image/png": "[encoded data removed]"
          },
          "metadata": {}
        }
      ]
    },
    {
      "cell_type": "code",
      "source": [
        "# Bar chart for accuracy comparison\n",
        "plt.bar(comparison_df['Model'], comparison_df['Accuracy'], color=['blue', 'green'])\n",
        "plt.xlabel('Model')\n",
        "plt.ylabel('Accuracy')\n",
        "plt.title('Accuracy Comparison of Ensemble Models')\n",
        "plt.show()\n"
      ],
      "metadata": {
        "colab": {
          "base_uri": "https://localhost:8080/",
          "height": 472
        },
        "id": "SUSIA8jD8Vz5",
        "outputId": "f039c8a9-15da-459d-a156-82865a2c0ad9"
      },
      "execution_count": null,
      "outputs": [
        {
          "output_type": "display_data",
          "data": {
            "text/plain": [
              "<Figure size 640x480 with 1 Axes>"
            ],
            "image/png": "[encoded data removed]"
          },
          "metadata": {}
        }
      ]
    },
    {
      "cell_type": "markdown",
      "source": [
        "Heart"
      ],
      "metadata": {
        "id": "8NLuUeCfpZHw"
      }
    },
    {
      "cell_type": "code",
      "source": [
        "# Create a dictionary to store the evaluation metrics\n",
        "model_metrics = {\n",
        "    'Model': ['AdaBoost Classifier', 'Random Forest Classifier'],\n",
        "    'Accuracy': [ada_accuracyH, rf_accuracyH],\n",
        "    'Precision': [ada_precisionH, rf_precisionH],\n",
        "    'Recall': [ada_recallH, rf_recallH],\n",
        "    'F1-score': [ada_f1H, rf_f1H]\n",
        "}\n",
        "comparison_dfH = pd.DataFrame(model_metrics)\n",
        "\n",
        "# Print the comparison matrix\n",
        "print(\"Comparison Matrix:\")\n",
        "print(comparison_dfH.to_string(index=False))\n"
      ],
      "metadata": {
        "colab": {
          "base_uri": "https://localhost:8080/"
        },
        "id": "fIfziRDrAQhq",
        "outputId": "2346fcb8-b0da-4140-89e0-a27db28086d4"
      },
      "execution_count": null,
      "outputs": [
        {
          "output_type": "stream",
          "name": "stdout",
          "text": [
            "Comparison Matrix:\n",
            "                   Model  Accuracy  Precision   Recall  F1-score\n",
            "     AdaBoost Classifier  0.968992   0.967974 0.967974  0.967974\n",
            "Random Forest Classifier  0.984496   0.987179 0.981132  0.983891\n"
          ]
        }
      ]
    },
    {
      "cell_type": "markdown",
      "source": [
        "## Insights from the Thyroid Dataset\n",
        "\n",
        "**AdaBoost Classifier:** The AdaBoost classifier has an accuracy of 93.4%, which is quite high, but its precision, recall, and F1-score are relatively low compared to its accuracy. This suggests that while the model is correct in a high percentage of cases, it is not as effective when it comes to the balance between precision and recall - it may be predicting one class very well but not the others, which is often the case with imbalanced datasets.\n",
        "\n",
        "**Random Forest Classifier:** The Random Forest classifier outperforms AdaBoost in all metrics on the thyroid dataset, with an accuracy of 95.7%. This indicates that the Random Forest model is not only correct most of the time but also maintains a better balance between precision and recall. This could be due to the Random Forest's ability to handle the complex interactions and non-linear relationships between features more effectively.\n"
      ],
      "metadata": {
        "id": "jj9nmJoqEa7t"
      }
    },
    {
      "cell_type": "code",
      "source": [
        "# Create a heatmap\n",
        "plt.figure(figsize=(8, 6))  # Adjust figure size as needed\n",
        "ax = sns.heatmap(comparison_dfH.iloc[:, 1:], cmap='RdGy', annot=True)  # Use seaborn heatmap\n",
        "ax.set_title('Comparison of AdaBoost and Random Forest Classifiers In HeartDF')\n",
        "plt.xticks(rotation=0)  # Rotate x-axis labels for better readability\n",
        "plt.tight_layout()\n",
        "plt.show()\n"
      ],
      "metadata": {
        "colab": {
          "base_uri": "https://localhost:8080/",
          "height": 607
        },
        "id": "npBnnfSdCD-C",
        "outputId": "c3c06b6d-3fc8-4058-f354-a9c5c5adaff8"
      },
      "execution_count": null,
      "outputs": [
        {
          "output_type": "display_data",
          "data": {
            "text/plain": [
              "<Figure size 800x600 with 2 Axes>"
            ],
            "image/png": "[encoded data removed]"
          },
          "metadata": {}
        }
      ]
    },
    {
      "cell_type": "code",
      "source": [
        "# Bar chart for accuracy comparison\n",
        "plt.bar(comparison_dfH['Model'], comparison_dfH['Accuracy'], color=['blue', 'green'])\n",
        "plt.xlabel('Model')\n",
        "plt.ylabel('Accuracy')\n",
        "plt.title('Accuracy Comparison of Ensemble Models')\n",
        "plt.show()"
      ],
      "metadata": {
        "colab": {
          "base_uri": "https://localhost:8080/",
          "height": 472
        },
        "id": "sq6H01MpCvI3",
        "outputId": "191ff9b2-74e4-4820-dab9-a842ade7e1ff"
      },
      "execution_count": null,
      "outputs": [
        {
          "output_type": "display_data",
          "data": {
            "text/plain": [
              "<Figure size 640x480 with 1 Axes>"
            ],
            "image/png": "[encoded data removed]"
          },
          "metadata": {}
        }
      ]
    },
    {
      "cell_type": "markdown",
      "source": [
        "\n",
        "\n",
        "## Insights from the Heart Dataset\n",
        "\n",
        "**AdaBoost Classifier:** On the heart dataset, the AdaBoost classifier shows excellent performance with an accuracy, precision, recall, and F1-score all above 96%. This suggests that the AdaBoost classifier is highly effective for this dataset, which might be less complex or less imbalanced than the thyroid dataset because it over fitted it preformed worse\n",
        "\n",
        "**Random Forest Classifier:** The Random Forest classifier shows even better performance than AdaBoost on the heart dataset, with all metrics above 98%. This exceptional performance indicates that the Random Forest model is very well suited to this particular dataset, possibly due to its ability to capture more complex patterns without overfitting.\n"
      ],
      "metadata": {
        "id": "RfWV9OoxEhLF"
      }
    },
    {
      "cell_type": "markdown",
      "source": [
        "# Insights and Conclusions"
      ],
      "metadata": {
        "id": "EovkOpB-D5L_"
      }
    },
    {
      "cell_type": "markdown",
      "source": [
        "## General Insights\n",
        "\n",
        "**Strengths of AdaBoost:**\n",
        "\n",
        "* AdaBoost can perform well when the dataset is less complex and when the decision boundaries between classes are more distinct, as seen with the heart dataset.\n",
        "* It is often easier to implement and faster to train than a Random Forest, making it a good first choice for a baseline model.\n",
        "\n",
        "**Weaknesses of AdaBoost:**\n",
        "\n",
        "* AdaBoost can be sensitive to noisy data and outliers, which might explain the lower performance on the thyroid dataset.\n",
        "* It may not perform as well when there are complex interactions between features.\n",
        "\n",
        "**Strengths of Random Forest:**\n",
        "\n",
        "* Random Forest is robust to noise and capable of handling complex interactions between features, which likely contributed to its strong performance on both datasets.\n",
        "* It is less likely to overfit than other models, especially when the hyperparameters are tuned correctly.\n",
        "\n",
        "**Weaknesses of Random Forest:**\n",
        "\n",
        "* Random Forest models can be computationally intensive and may take longer to train, especially with a large number of trees or deep trees.\n",
        "* They can also be less interpretable than simpler models, which can be a drawback in situations where understanding the model's decisions is important.\n",
        "\n",
        "\n",
        "## Conclusion\n",
        "\n",
        "The choice between AdaBoost and Random Forest can depend on the specific characteristics of the dataset at hand. For datasets with less noise and fewer complex interactions, AdaBoost may perform adequately and be more efficient. However, for datasets with more complexity and noise, Random Forest tends to be more reliable, albeit at the cost of computational resources and potentially interpretability. Hyperparameter tuning is crucial for both models to achieve optimal performance. In practice, it's often beneficial to try multiple models and compare their performance on the specific task to make an informed decision."
      ],
      "metadata": {
        "id": "9MsFLWUkD8KI"
      }
    }
  ]
}